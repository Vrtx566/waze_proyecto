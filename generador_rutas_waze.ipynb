{
 "cells": [
  {
   "cell_type": "markdown",
   "id": "04f1d70c",
   "metadata": {},
   "source": [
    "# Generador de Rutas Óptimas\n",
    "\n",
    "Este notebook contiene una función reutilizable para generar rutas óptimas entre dos puntos en cualquier ciudad usando algoritmo A* con penalizaciones."
   ]
  },
  {
   "cell_type": "markdown",
   "id": "45add399",
   "metadata": {},
   "source": [
    "## Importar librerías necesarias"
   ]
  },
  {
   "cell_type": "code",
   "execution_count": 18,
   "id": "2ef3a2d9",
   "metadata": {},
   "outputs": [],
   "source": [
    "import numpy as np\n",
    "from shapely.geometry import LineString, Point\n",
    "from math import sqrt\n",
    "import osmnx as ox\n",
    "import networkx as nx\n",
    "import geopandas as gpd\n",
    "import geopy\n",
    "from geopy.geocoders import Nominatim\n",
    "import math\n",
    "import pandas as pd\n",
    "import plotly.express as px\n",
    "import plotly.graph_objects as go"
   ]
  },
  {
   "cell_type": "markdown",
   "id": "56d202e6",
   "metadata": {},
   "source": [
    "## Configuración de parámetros globales"
   ]
  },
  {
   "cell_type": "code",
   "execution_count": 29,
   "id": "54d1c0db",
   "metadata": {},
   "outputs": [],
   "source": [
    "# Parámetros de penalización\n",
    "PENAL_SEMAFORO = 30      # segundos\n",
    "FACTOR_ZONA_ESCOLAR = 1.2\n",
    "PENAL_VIA_RESIDENCIAL = 1.1\n",
    "DIST_SEMAFORO = 20       # metros\n",
    "DIST_ESCUELA = 50        # metros\n",
    "\n",
    "# Velocidades por tipo de vía\n",
    "hwy_speeds = {\n",
    "    \"motorway\": 80,\n",
    "    \"motorway_link\": 70,\n",
    "    \"trunk\": 80,\n",
    "    \"trunk_link\": 70,\n",
    "    \"primary\": 60,\n",
    "    \"primary_link\": 50,\n",
    "    \"secondary\": 50,\n",
    "    \"secondary_link\": 45,\n",
    "    \"tertiary\": 30,\n",
    "    \"unclassified\": 30,\n",
    "    \"residential\": 20,\n",
    "    \"service\": 10,\n",
    "}\n",
    "\n",
    "# Penalizaciones por jerarquía de vía\n",
    "jerarquia_penal = {\n",
    "    \"motorway\":    0,\n",
    "    \"trunk\":       0,\n",
    "    \"primary\":     0,\n",
    "    \"secondary\":   2,\n",
    "    \"tertiary\":   20,\n",
    "    \"residential\": 20,\n",
    "    \"service\":     30,\n",
    "}"
   ]
  },
  {
   "cell_type": "code",
   "execution_count": 20,
   "id": "5fc8fbe8",
   "metadata": {},
   "outputs": [],
   "source": [
    "# Sistema de caché para almacenar grafos de ciudades\n",
    "# Esto evita descargar la misma ciudad múltiples veces\n",
    "CACHE_CIUDADES = {}\n",
    "CACHE_SEMAFOROS = {}\n",
    "CACHE_ESCUELAS = {}\n",
    "\n",
    "def limpiar_cache():\n",
    "    \"\"\"\n",
    "    Limpia el caché de ciudades para liberar memoria.\n",
    "    Útil si has cargado muchas ciudades y quieres liberar espacio.\n",
    "    \"\"\"\n",
    "    global CACHE_CIUDADES, CACHE_SEMAFOROS, CACHE_ESCUELAS\n",
    "    CACHE_CIUDADES.clear()\n",
    "    CACHE_SEMAFOROS.clear()\n",
    "    CACHE_ESCUELAS.clear()\n",
    "    print(\"🧹 Caché limpiado exitosamente\")\n",
    "\n",
    "def mostrar_cache():\n",
    "    \"\"\"\n",
    "    Muestra qué ciudades están actualmente en caché.\n",
    "    \"\"\"\n",
    "    print(\"📋 Ciudades en caché:\")\n",
    "    if CACHE_CIUDADES:\n",
    "        for ciudad in CACHE_CIUDADES.keys():\n",
    "            print(f\"  - {ciudad}\")\n",
    "    else:\n",
    "        print(\"  (No hay ciudades en caché)\")\n",
    "    \n",
    "    print(f\"\\n💾 Memoria utilizada: {len(CACHE_CIUDADES)} ciudades\")"
   ]
  },
  {
   "cell_type": "markdown",
   "id": "4050ff07",
   "metadata": {},
   "source": [
    "## Función principal para generar rutas"
   ]
  },
  {
   "cell_type": "code",
   "execution_count": 21,
   "id": "efbb3a50",
   "metadata": {},
   "outputs": [],
   "source": [
    "def generar_ruta_optima(inicio, destino, ciudad, mostrar_mapa=True, zoom=12, ancho=1000, alto=600, usar_cache=True):\n",
    "    \"\"\"\n",
    "    Genera una ruta óptima entre dos puntos usando algoritmo A* con penalizaciones.\n",
    "    \n",
    "    Parámetros:\n",
    "    - inicio (str): Dirección de inicio (ej: 'Sede Posgrados EIA, Envigado, Colombia')\n",
    "    - destino (str): Dirección de destino (ej: 'Oficinas Almacenes Éxito, Envigado, Colombia')\n",
    "    - ciudad (str): Ciudad donde buscar (ej: 'Envigado, Antioquia, Colombia')\n",
    "    - mostrar_mapa (bool): Si mostrar el mapa interactivo\n",
    "    - zoom (int): Nivel de zoom del mapa\n",
    "    - ancho (int): Ancho del mapa en píxeles\n",
    "    - alto (int): Alto del mapa en píxeles\n",
    "    - usar_cache (bool): Si usar el caché para evitar descargar la misma ciudad múltiples veces\n",
    "    \n",
    "    Retorna:\n",
    "    - dict: Diccionario con información de la ruta y figura del mapa\n",
    "    \"\"\"\n",
    "    \n",
    "    print(f\"Procesando ruta de '{inicio}' a '{destino}' en {ciudad}...\")\n",
    "    \n",
    "    try:\n",
    "        # 1. Verificar si la ciudad está en caché\n",
    "        if usar_cache and ciudad in CACHE_CIUDADES:\n",
    "            print(\"💾 Usando ciudad desde caché (no se descarga nuevamente)...\")\n",
    "            G = CACHE_CIUDADES[ciudad]['grafo']\n",
    "            G_proj = CACHE_CIUDADES[ciudad]['grafo_proj']\n",
    "            signals_union = CACHE_SEMAFOROS.get(ciudad, None)\n",
    "            schools_union = CACHE_ESCUELAS.get(ciudad, None)\n",
    "        else:\n",
    "            # 1a. Obtener el grafo de la ciudad\n",
    "            print(\"📍 Descargando mapa de la ciudad...\")\n",
    "            G = ox.graph_from_place(ciudad, network_type='drive', simplify=False)\n",
    "            \n",
    "            # 2. Agregar velocidades y tiempos de viaje\n",
    "            print(\"⚡ Calculando velocidades y tiempos...\")\n",
    "            G = ox.add_edge_speeds(G, hwy_speeds=hwy_speeds)\n",
    "            G = ox.add_edge_travel_times(G)\n",
    "            \n",
    "            # 3. Proyectar el grafo\n",
    "            G_proj = ox.project_graph(G)\n",
    "            \n",
    "            # 5. Descargar datos de semáforos y escuelas para penalizaciones\n",
    "            print(\"🚦 Descargando semáforos y escuelas...\")\n",
    "            try:\n",
    "                tags_ts = {'highway': 'traffic_signals'}\n",
    "                gdf_ts = ox.features.features_from_place(ciudad, tags=tags_ts).to_crs(G_proj.graph['crs'])\n",
    "                signals_union = gdf_ts.union_all()\n",
    "            except:\n",
    "                print(\"⚠️ No se encontraron semáforos, continuando sin penalizaciones por semáforos\")\n",
    "                signals_union = None\n",
    "                \n",
    "            try:\n",
    "                tags_school = {'amenity': 'school'}\n",
    "                gdf_school = ox.features.features_from_place(ciudad, tags=tags_school).to_crs(G_proj.graph['crs'])\n",
    "                schools_union = gdf_school.union_all()\n",
    "            except:\n",
    "                print(\"⚠️ No se encontraron escuelas, continuando sin penalizaciones por zonas escolares\")\n",
    "                schools_union = None\n",
    "            \n",
    "            # Guardar en caché si está habilitado\n",
    "            if usar_cache:\n",
    "                print(\"💾 Guardando ciudad en caché para futuros usos...\")\n",
    "                CACHE_CIUDADES[ciudad] = {\n",
    "                    'grafo': G,\n",
    "                    'grafo_proj': G_proj\n",
    "                }\n",
    "                CACHE_SEMAFOROS[ciudad] = signals_union\n",
    "                CACHE_ESCUELAS[ciudad] = schools_union\n",
    "        \n",
    "        # 4. Geocodificar direcciones con reintentos y timeout mejorado\n",
    "        print(\"🔍 Buscando ubicaciones...\")\n",
    "        locator = Nominatim(user_agent='RutaOptimaGenerator', timeout=10)\n",
    "        \n",
    "        # Buscar inicio con reintentos\n",
    "        location_start = None\n",
    "        for intento in range(3):\n",
    "            try:\n",
    "                location_start = locator.geocode(inicio)\n",
    "                if location_start:\n",
    "                    break\n",
    "                print(f\"⚠️ Intento {intento + 1}: No se encontró '{inicio}', reintentando...\")\n",
    "            except Exception as e:\n",
    "                print(f\"⚠️ Error en intento {intento + 1} para inicio: {str(e)}\")\n",
    "                if intento < 2:\n",
    "                    import time\n",
    "                    time.sleep(2)  # Esperar 2 segundos antes del siguiente intento\n",
    "        \n",
    "        # Buscar destino con reintentos\n",
    "        location_end = None\n",
    "        for intento in range(3):\n",
    "            try:\n",
    "                location_end = locator.geocode(destino)\n",
    "                if location_end:\n",
    "                    break\n",
    "                print(f\"⚠️ Intento {intento + 1}: No se encontró '{destino}', reintentando...\")\n",
    "            except Exception as e:\n",
    "                print(f\"⚠️ Error en intento {intento + 1} para destino: {str(e)}\")\n",
    "                if intento < 2:\n",
    "                    import time\n",
    "                    time.sleep(2)  # Esperar 2 segundos antes del siguiente intento\n",
    "        \n",
    "        if not location_start:\n",
    "            raise ValueError(f\"No se pudo encontrar la ubicación: {inicio}\")\n",
    "        if not location_end:\n",
    "            raise ValueError(f\"No se pudo encontrar la ubicación: {destino}\")\n",
    "            \n",
    "        print(f\"✅ Inicio: {location_start.address}\")\n",
    "        print(f\"✅ Destino: {location_end.address}\")\n",
    "        \n",
    "        # 6. Calcular penalizaciones (solo si no están ya calculadas)\n",
    "        need_penalties = any('travel_time_penalizado' not in data for _, _, _, data in G_proj.edges(keys=True, data=True))\n",
    "        \n",
    "        if need_penalties:\n",
    "            print(\"🎯 Calculando penalizaciones...\")\n",
    "            for u, v, k, data in G_proj.edges(keys=True, data=True):\n",
    "                # Crear geometría si no existe\n",
    "                geom = data.get(\"geometry\")\n",
    "                if geom is None:\n",
    "                    x1, y1 = G_proj.nodes[u]['x'], G_proj.nodes[u]['y']\n",
    "                    x2, y2 = G_proj.nodes[v]['x'], G_proj.nodes[v]['y']\n",
    "                    geom = LineString([(x1, y1), (x2, y2)])\n",
    "                    data['geometry'] = geom\n",
    "                \n",
    "                # Calcular distancias a elementos de penalización\n",
    "                if signals_union is not None:\n",
    "                    data['signal_dist'] = geom.distance(signals_union)\n",
    "                else:\n",
    "                    data['signal_dist'] = math.inf\n",
    "                    \n",
    "                if schools_union is not None:\n",
    "                    data['school_dist'] = geom.distance(schools_union)\n",
    "                else:\n",
    "                    data['school_dist'] = math.inf\n",
    "                \n",
    "                # Calcular tiempo penalizado\n",
    "                base_tt = data.get(\"travel_time\")\n",
    "                if base_tt is None:\n",
    "                    base_tt = data['length'] / (30/3.6)\n",
    "                \n",
    "                penal = base_tt\n",
    "                \n",
    "                # Penalizaciones por entorno\n",
    "                if data.get(\"signal_dist\", math.inf) <= DIST_SEMAFORO:\n",
    "                    penal += 10\n",
    "                if data.get(\"school_dist\", math.inf) <= DIST_ESCUELA:\n",
    "                    penal *= FACTOR_ZONA_ESCOLAR\n",
    "                \n",
    "                # Penalizaciones por jerarquía de vía\n",
    "                hw = data.get(\"highway\", \"unclassified\")\n",
    "                if isinstance(hw, list):\n",
    "                    hw = hw[0]\n",
    "                penal += jerarquia_penal.get(hw, 15)\n",
    "                \n",
    "                data[\"travel_time_penalizado\"] = penal\n",
    "        else:\n",
    "            print(\"✅ Penalizaciones ya calculadas (desde caché)\")\n",
    "        \n",
    "        # 7. Crear función heurística\n",
    "        all_speeds = [edata.get('speed_kph', 40) for _, _, _, edata in G_proj.edges(keys=True, data=True)]\n",
    "        vmax = max(all_speeds)\n",
    "        vmax_mps = vmax / 3.6\n",
    "        \n",
    "        def heuristica_tiempo(u, v):\n",
    "            x1, y1 = G_proj.nodes[u]['x'], G_proj.nodes[u]['y']\n",
    "            x2, y2 = G_proj.nodes[v]['x'], G_proj.nodes[v]['y']\n",
    "            distancia = sqrt((x2 - x1)**2 + (y2 - y1)**2)\n",
    "            return distancia / vmax_mps\n",
    "        \n",
    "        # 8. Obtener nodos más cercanos\n",
    "        start = (location_start.latitude, location_start.longitude)\n",
    "        end = (location_end.latitude, location_end.longitude)\n",
    "        \n",
    "        start_node = ox.distance.nearest_nodes(G, X=start[1], Y=start[0])\n",
    "        end_node = ox.distance.nearest_nodes(G, X=end[1], Y=end[0])\n",
    "        \n",
    "        # 9. Calcular ruta óptima con A*\n",
    "        print(\"🚀 Calculando ruta óptima con A*...\")\n",
    "        ruta_astar = nx.astar_path(G_proj, start_node, end_node,\n",
    "                                   heuristic=lambda u, v=end_node: heuristica_tiempo(u, v),\n",
    "                                   weight='travel_time_penalizado')\n",
    "        \n",
    "        # 10. Calcular métricas de la ruta\n",
    "        tiempo_total = sum(G_proj.edges[u, v, 0]['travel_time_penalizado'] for u, v in zip(ruta_astar[:-1], ruta_astar[1:]))\n",
    "        distancia_total = sum(G_proj.edges[u, v, 0]['length'] for u, v in zip(ruta_astar[:-1], ruta_astar[1:]))\n",
    "        \n",
    "        print(f\"✅ Ruta calculada: {distancia_total:.0f} m, {tiempo_total:.1f} segundos\")\n",
    "        \n",
    "        # 11. Preparar datos para visualización\n",
    "        node_start, node_end = [], []\n",
    "        X_to, Y_to, X_from, Y_from = [], [], [], []\n",
    "        length, travel_time = [], []\n",
    "        \n",
    "        for u, v in zip(ruta_astar[:-1], ruta_astar[1:]):\n",
    "            node_start.append(u)\n",
    "            node_end.append(v)\n",
    "            length.append(round(G.edges[(u, v, 0)]['length']))\n",
    "            travel_time.append(round(G.edges[(u, v, 0)]['travel_time']))\n",
    "            X_from.append(G.nodes[u]['x'])\n",
    "            Y_from.append(G.nodes[u]['y'])\n",
    "            X_to.append(G.nodes[v]['x'])\n",
    "            Y_to.append(G.nodes[v]['y'])\n",
    "        \n",
    "        df_ruta = pd.DataFrame({\n",
    "            \"node_start\": node_start,\n",
    "            \"node_end\": node_end,\n",
    "            \"X_from\": X_from,\n",
    "            \"Y_from\": Y_from,\n",
    "            \"X_to\": X_to,\n",
    "            \"Y_to\": Y_to,\n",
    "            \"length\": length,\n",
    "            \"travel_time\": travel_time\n",
    "        })\n",
    "        \n",
    "        # 12. Crear mapa interactivo (ACTUALIZADO: usando scattermap en lugar de scattermapbox)\n",
    "        fig = None\n",
    "        if mostrar_mapa and len(df_ruta) > 0:\n",
    "            print(\"🗺️ Generando mapa interactivo...\")\n",
    "            \n",
    "            # Crear figura base\n",
    "            fig = go.Figure()\n",
    "            \n",
    "            # Agregar líneas de la ruta usando scattermap (nueva API)\n",
    "            for i in range(len(df_ruta)):\n",
    "                fig.add_trace(go.Scattermap(\n",
    "                    mode=\"lines\",\n",
    "                    lon=[df_ruta.iloc[i]['X_from'], df_ruta.iloc[i]['X_to']],\n",
    "                    lat=[df_ruta.iloc[i]['Y_from'], df_ruta.iloc[i]['Y_to']],\n",
    "                    line=dict(width=4, color='red'),\n",
    "                    showlegend=False,\n",
    "                    hovertemplate=f\"Segmento {i+1}<br>Distancia: {df_ruta.iloc[i]['length']}m<br>Tiempo: {df_ruta.iloc[i]['travel_time']}s<extra></extra>\"\n",
    "                ))\n",
    "            \n",
    "            # Agregar marcadores de inicio y fin usando scattermap\n",
    "            fig.add_trace(go.Scattermap(\n",
    "                mode=\"markers\",\n",
    "                lon=[start[1]],\n",
    "                lat=[start[0]],\n",
    "                marker=dict(size=15, color='green'),\n",
    "                text=[\"Inicio\"],\n",
    "                name=\"Inicio\",\n",
    "                hovertemplate=f\"<b>Inicio</b><br>{location_start.address}<extra></extra>\"\n",
    "            ))\n",
    "            \n",
    "            fig.add_trace(go.Scattermap(\n",
    "                mode=\"markers\",\n",
    "                lon=[end[1]],\n",
    "                lat=[end[0]],\n",
    "                marker=dict(size=15, color='red'),\n",
    "                text=[\"Destino\"],\n",
    "                name=\"Destino\",\n",
    "                hovertemplate=f\"<b>Destino</b><br>{location_end.address}<extra></extra>\"\n",
    "            ))\n",
    "            \n",
    "            # Configurar el layout del mapa (actualizado para usar map en lugar de mapbox)\n",
    "            center_lat = (start[0] + end[0]) / 2\n",
    "            center_lon = (start[1] + end[1]) / 2\n",
    "            \n",
    "            fig.update_layout(\n",
    "                map=dict(\n",
    "                    style=\"open-street-map\",\n",
    "                    center=dict(lat=center_lat, lon=center_lon),\n",
    "                    zoom=zoom\n",
    "                ),\n",
    "                width=ancho,\n",
    "                height=alto,\n",
    "                title=f\"Ruta Óptima: {inicio} → {destino}\",\n",
    "                showlegend=True\n",
    "            )\n",
    "        \n",
    "        # 13. Preparar resultado\n",
    "        resultado = {\n",
    "            'ruta_exitosa': True,\n",
    "            'inicio': location_start.address,\n",
    "            'destino': location_end.address,\n",
    "            'ciudad': ciudad,\n",
    "            'distancia_metros': round(distancia_total),\n",
    "            'tiempo_segundos': round(tiempo_total, 1),\n",
    "            'tiempo_minutos': round(tiempo_total / 60, 1),\n",
    "            'nodos_ruta': ruta_astar,\n",
    "            'dataframe_ruta': df_ruta,\n",
    "            'figura_mapa': fig,\n",
    "            'coordenadas_inicio': start,\n",
    "            'coordenadas_destino': end,\n",
    "            'usado_cache': usar_cache and ciudad in CACHE_CIUDADES\n",
    "        }\n",
    "        \n",
    "        print(f\"🎉 ¡Ruta generada exitosamente!\")\n",
    "        print(f\"📏 Distancia total: {resultado['distancia_metros']} metros\")\n",
    "        print(f\"⏱️ Tiempo estimado: {resultado['tiempo_minutos']} minutos\")\n",
    "        if usar_cache:\n",
    "            print(f\"💾 Caché: {'Usado' if resultado['usado_cache'] else 'Guardado para próxima vez'}\")\n",
    "        \n",
    "        return resultado\n",
    "        \n",
    "    except Exception as e:\n",
    "        print(f\"❌ Error al generar la ruta: {str(e)}\")\n",
    "        return {\n",
    "            'ruta_exitosa': False,\n",
    "            'error': str(e),\n",
    "            'inicio': inicio,\n",
    "            'destino': destino,\n",
    "            'ciudad': ciudad\n",
    "        }"
   ]
  },
  {
   "cell_type": "markdown",
   "id": "e48ac92e",
   "metadata": {},
   "source": [
    "### ⚠️ Nota sobre actualización de Plotly\n",
    "\n",
    "**Actualización importante**: Este código usa la nueva API de Plotly:\n",
    "- ✅ `go.Scattermap()` (nueva API recomendada)\n",
    "- ❌ `go.Scattermapbox()` (deprecada)\n",
    "\n",
    "Esto elimina las advertencias de deprecación y asegura compatibilidad futura."
   ]
  },
  {
   "cell_type": "markdown",
   "id": "26e7fde1",
   "metadata": {},
   "source": [
    "## Función auxiliar para mostrar solo el mapa"
   ]
  },
  {
   "cell_type": "code",
   "execution_count": 22,
   "id": "52f20665",
   "metadata": {},
   "outputs": [],
   "source": [
    "def mostrar_mapa_ruta(resultado):\n",
    "    \"\"\"\n",
    "    Muestra solo el mapa de un resultado de ruta generado.\n",
    "    \n",
    "    Parámetros:\n",
    "    - resultado (dict): Resultado de la función generar_ruta_optima\n",
    "    \"\"\"\n",
    "    if resultado['ruta_exitosa'] and resultado['figura_mapa'] is not None:\n",
    "        # Mostrar el mapa usando .show() que es la forma correcta en Jupyter\n",
    "        resultado['figura_mapa'].show()\n",
    "        return resultado['figura_mapa']\n",
    "    else:\n",
    "        print(\"No hay mapa disponible para mostrar\")\n",
    "        return None"
   ]
  },
  {
   "cell_type": "markdown",
   "id": "874ba414",
   "metadata": {},
   "source": [
    "## Función de ejemplo de uso"
   ]
  },
  {
   "cell_type": "code",
   "execution_count": 23,
   "id": "99aa3a2d",
   "metadata": {},
   "outputs": [],
   "source": [
    "def ejemplo_uso():\n",
    "    \"\"\"\n",
    "    Ejemplo de cómo usar las funciones para generar rutas.\n",
    "    \"\"\"\n",
    "    # Ejemplo 1: Ruta en Envigado\n",
    "    print(\"=== EJEMPLO 1: Ruta en Envigado ===\")\n",
    "    resultado1 = generar_ruta_optima(\n",
    "        inicio=\"Sede Posgrados EIA, Envigado, Colombia\",\n",
    "        destino=\"Oficinas Almacenes Éxito, Envigado, Colombia\",\n",
    "        ciudad=\"Envigado, Antioquia, Colombia\"\n",
    "    )\n",
    "    \n",
    "    if resultado1['ruta_exitosa']:\n",
    "        print(f\"\\n📊 Resumen de la ruta:\")\n",
    "        print(f\"Desde: {resultado1['inicio']}\")\n",
    "        print(f\"Hasta: {resultado1['destino']}\")\n",
    "        print(f\"Distancia: {resultado1['distancia_metros']} metros\")\n",
    "        print(f\"Tiempo: {resultado1['tiempo_minutos']} minutos\")\n",
    "        \n",
    "        # Mostrar el mapa\n",
    "        if resultado1['figura_mapa']:\n",
    "            resultado1['figura_mapa'].show()\n",
    "    \n",
    "    return resultado1"
   ]
  },
  {
   "cell_type": "markdown",
   "id": "02f2ce2d",
   "metadata": {},
   "source": [
    "## Ejecutar ejemplo"
   ]
  },
  {
   "cell_type": "code",
   "execution_count": 24,
   "id": "83e79b4f",
   "metadata": {},
   "outputs": [
    {
     "name": "stdout",
     "output_type": "stream",
     "text": [
      "=== EJEMPLO 1: Ruta en Envigado ===\n",
      "Procesando ruta de 'Sede Posgrados EIA, Envigado, Colombia' a 'Oficinas Almacenes Éxito, Envigado, Colombia' en Envigado, Antioquia, Colombia...\n",
      "📍 Descargando mapa de la ciudad...\n",
      "⚡ Calculando velocidades y tiempos...\n",
      "⚡ Calculando velocidades y tiempos...\n",
      "🚦 Descargando semáforos y escuelas...\n",
      "🚦 Descargando semáforos y escuelas...\n",
      "💾 Guardando ciudad en caché para futuros usos...\n",
      "🔍 Buscando ubicaciones...\n",
      "💾 Guardando ciudad en caché para futuros usos...\n",
      "🔍 Buscando ubicaciones...\n",
      "✅ Inicio: Sede Posgrados EIA, Calle 25 Sur, La Magnolia, Envigado, Valle de Aburrá, Antioquia, RAP del Agua y la Montaña, 055422, Colombia\n",
      "✅ Destino: Oficinas Almacenes Éxito, Avenida Carrera 48, La Magnolia, Envigado, Valle de Aburrá, Antioquia, RAP del Agua y la Montaña, 055422, Colombia\n",
      "🎯 Calculando penalizaciones...\n",
      "✅ Inicio: Sede Posgrados EIA, Calle 25 Sur, La Magnolia, Envigado, Valle de Aburrá, Antioquia, RAP del Agua y la Montaña, 055422, Colombia\n",
      "✅ Destino: Oficinas Almacenes Éxito, Avenida Carrera 48, La Magnolia, Envigado, Valle de Aburrá, Antioquia, RAP del Agua y la Montaña, 055422, Colombia\n",
      "🎯 Calculando penalizaciones...\n",
      "🚀 Calculando ruta óptima con A*...\n",
      "✅ Ruta calculada: 2322 m, 1337.3 segundos\n",
      "🗺️ Generando mapa interactivo...\n",
      "🎉 ¡Ruta generada exitosamente!\n",
      "📏 Distancia total: 2322 metros\n",
      "⏱️ Tiempo estimado: 22.3 minutos\n",
      "💾 Caché: Usado\n",
      "\n",
      "📊 Resumen de la ruta:\n",
      "Desde: Sede Posgrados EIA, Calle 25 Sur, La Magnolia, Envigado, Valle de Aburrá, Antioquia, RAP del Agua y la Montaña, 055422, Colombia\n",
      "Hasta: Oficinas Almacenes Éxito, Avenida Carrera 48, La Magnolia, Envigado, Valle de Aburrá, Antioquia, RAP del Agua y la Montaña, 055422, Colombia\n",
      "Distancia: 2322 metros\n",
      "Tiempo: 22.3 minutos\n",
      "🚀 Calculando ruta óptima con A*...\n",
      "✅ Ruta calculada: 2322 m, 1337.3 segundos\n",
      "🗺️ Generando mapa interactivo...\n",
      "🎉 ¡Ruta generada exitosamente!\n",
      "📏 Distancia total: 2322 metros\n",
      "⏱️ Tiempo estimado: 22.3 minutos\n",
      "💾 Caché: Usado\n",
      "\n",
      "📊 Resumen de la ruta:\n",
      "Desde: Sede Posgrados EIA, Calle 25 Sur, La Magnolia, Envigado, Valle de Aburrá, Antioquia, RAP del Agua y la Montaña, 055422, Colombia\n",
      "Hasta: Oficinas Almacenes Éxito, Avenida Carrera 48, La Magnolia, Envigado, Valle de Aburrá, Antioquia, RAP del Agua y la Montaña, 055422, Colombia\n",
      "Distancia: 2322 metros\n",
      "Tiempo: 22.3 minutos\n"
     ]
    },
    {
     "data": {
      "application/vnd.plotly.v1+json": {
       "config": {
        "plotlyServerURL": "https://plot.ly"
       },
       "data": [
        {
         "hovertemplate": "Segmento 1<br>Distancia: 9.0m<br>Tiempo: 2.0s<extra></extra>",
         "lat": [
          6.1791063,
          6.1791887
         ],
         "line": {
          "color": "red",
          "width": 4
         },
         "lon": [
          -75.5790147,
          -75.5790291
         ],
         "mode": "lines",
         "showlegend": false,
         "type": "scattermap"
        },
        {
         "hovertemplate": "Segmento 2<br>Distancia: 10.0m<br>Tiempo: 2.0s<extra></extra>",
         "lat": [
          6.1791887,
          6.1792778
         ],
         "line": {
          "color": "red",
          "width": 4
         },
         "lon": [
          -75.5790291,
          -75.5790251
         ],
         "mode": "lines",
         "showlegend": false,
         "type": "scattermap"
        },
        {
         "hovertemplate": "Segmento 3<br>Distancia: 15.0m<br>Tiempo: 3.0s<extra></extra>",
         "lat": [
          6.1792778,
          6.1794069
         ],
         "line": {
          "color": "red",
          "width": 4
         },
         "lon": [
          -75.5790251,
          -75.5789875
         ],
         "mode": "lines",
         "showlegend": false,
         "type": "scattermap"
        },
        {
         "hovertemplate": "Segmento 4<br>Distancia: 14.0m<br>Tiempo: 3.0s<extra></extra>",
         "lat": [
          6.1794069,
          6.1794002
         ],
         "line": {
          "color": "red",
          "width": 4
         },
         "lon": [
          -75.5789875,
          -75.5791146
         ],
         "mode": "lines",
         "showlegend": false,
         "type": "scattermap"
        },
        {
         "hovertemplate": "Segmento 5<br>Distancia: 10.0m<br>Tiempo: 2.0s<extra></extra>",
         "lat": [
          6.1794002,
          6.1794026
         ],
         "line": {
          "color": "red",
          "width": 4
         },
         "lon": [
          -75.5791146,
          -75.5792072
         ],
         "mode": "lines",
         "showlegend": false,
         "type": "scattermap"
        },
        {
         "hovertemplate": "Segmento 6<br>Distancia: 10.0m<br>Tiempo: 2.0s<extra></extra>",
         "lat": [
          6.1794026,
          6.1794109
         ],
         "line": {
          "color": "red",
          "width": 4
         },
         "lon": [
          -75.5792072,
          -75.579293
         ],
         "mode": "lines",
         "showlegend": false,
         "type": "scattermap"
        },
        {
         "hovertemplate": "Segmento 7<br>Distancia: 8.0m<br>Tiempo: 1.0s<extra></extra>",
         "lat": [
          6.1794109,
          6.1794301
         ],
         "line": {
          "color": "red",
          "width": 4
         },
         "lon": [
          -75.579293,
          -75.5793619
         ],
         "mode": "lines",
         "showlegend": false,
         "type": "scattermap"
        },
        {
         "hovertemplate": "Segmento 8<br>Distancia: 23.0m<br>Tiempo: 4.0s<extra></extra>",
         "lat": [
          6.1794301,
          6.179496
         ],
         "line": {
          "color": "red",
          "width": 4
         },
         "lon": [
          -75.5793619,
          -75.5795613
         ],
         "mode": "lines",
         "showlegend": false,
         "type": "scattermap"
        },
        {
         "hovertemplate": "Segmento 9<br>Distancia: 30.0m<br>Tiempo: 5.0s<extra></extra>",
         "lat": [
          6.179496,
          6.1795806
         ],
         "line": {
          "color": "red",
          "width": 4
         },
         "lon": [
          -75.5795613,
          -75.5798176
         ],
         "mode": "lines",
         "showlegend": false,
         "type": "scattermap"
        },
        {
         "hovertemplate": "Segmento 10<br>Distancia: 15.0m<br>Tiempo: 3.0s<extra></extra>",
         "lat": [
          6.1795806,
          6.1795899
         ],
         "line": {
          "color": "red",
          "width": 4
         },
         "lon": [
          -75.5798176,
          -75.5799521
         ],
         "mode": "lines",
         "showlegend": false,
         "type": "scattermap"
        },
        {
         "hovertemplate": "Segmento 11<br>Distancia: 18.0m<br>Tiempo: 3.0s<extra></extra>",
         "lat": [
          6.1795899,
          6.1795863
         ],
         "line": {
          "color": "red",
          "width": 4
         },
         "lon": [
          -75.5799521,
          -75.5801104
         ],
         "mode": "lines",
         "showlegend": false,
         "type": "scattermap"
        },
        {
         "hovertemplate": "Segmento 12<br>Distancia: 41.0m<br>Tiempo: 7.0s<extra></extra>",
         "lat": [
          6.1795863,
          6.1795522
         ],
         "line": {
          "color": "red",
          "width": 4
         },
         "lon": [
          -75.5801104,
          -75.5804756
         ],
         "mode": "lines",
         "showlegend": false,
         "type": "scattermap"
        },
        {
         "hovertemplate": "Segmento 13<br>Distancia: 47.0m<br>Tiempo: 9.0s<extra></extra>",
         "lat": [
          6.1795522,
          6.1798876
         ],
         "line": {
          "color": "red",
          "width": 4
         },
         "lon": [
          -75.5804756,
          -75.5807407
         ],
         "mode": "lines",
         "showlegend": false,
         "type": "scattermap"
        },
        {
         "hovertemplate": "Segmento 14<br>Distancia: 31.0m<br>Tiempo: 6.0s<extra></extra>",
         "lat": [
          6.1798876,
          6.1801186
         ],
         "line": {
          "color": "red",
          "width": 4
         },
         "lon": [
          -75.5807407,
          -75.5808926
         ],
         "mode": "lines",
         "showlegend": false,
         "type": "scattermap"
        },
        {
         "hovertemplate": "Segmento 15<br>Distancia: 21.0m<br>Tiempo: 4.0s<extra></extra>",
         "lat": [
          6.1801186,
          6.180282
         ],
         "line": {
          "color": "red",
          "width": 4
         },
         "lon": [
          -75.5808926,
          -75.5809835
         ],
         "mode": "lines",
         "showlegend": false,
         "type": "scattermap"
        },
        {
         "hovertemplate": "Segmento 16<br>Distancia: 13.0m<br>Tiempo: 2.0s<extra></extra>",
         "lat": [
          6.180282,
          6.1803902
         ],
         "line": {
          "color": "red",
          "width": 4
         },
         "lon": [
          -75.5809835,
          -75.5810371
         ],
         "mode": "lines",
         "showlegend": false,
         "type": "scattermap"
        },
        {
         "hovertemplate": "Segmento 17<br>Distancia: 4.0m<br>Tiempo: 1.0s<extra></extra>",
         "lat": [
          6.1803902,
          6.1804208
         ],
         "line": {
          "color": "red",
          "width": 4
         },
         "lon": [
          -75.5810371,
          -75.581058
         ],
         "mode": "lines",
         "showlegend": false,
         "type": "scattermap"
        },
        {
         "hovertemplate": "Segmento 18<br>Distancia: 10.0m<br>Tiempo: 2.0s<extra></extra>",
         "lat": [
          6.1804208,
          6.1804922
         ],
         "line": {
          "color": "red",
          "width": 4
         },
         "lon": [
          -75.581058,
          -75.5811067
         ],
         "mode": "lines",
         "showlegend": false,
         "type": "scattermap"
        },
        {
         "hovertemplate": "Segmento 19<br>Distancia: 18.0m<br>Tiempo: 2.0s<extra></extra>",
         "lat": [
          6.1804922,
          6.1806422
         ],
         "line": {
          "color": "red",
          "width": 4
         },
         "lon": [
          -75.5811067,
          -75.5811603
         ],
         "mode": "lines",
         "showlegend": false,
         "type": "scattermap"
        },
        {
         "hovertemplate": "Segmento 20<br>Distancia: 14.0m<br>Tiempo: 2.0s<extra></extra>",
         "lat": [
          6.1806422,
          6.1807596
         ],
         "line": {
          "color": "red",
          "width": 4
         },
         "lon": [
          -75.5811603,
          -75.5811994
         ],
         "mode": "lines",
         "showlegend": false,
         "type": "scattermap"
        },
        {
         "hovertemplate": "Segmento 21<br>Distancia: 13.0m<br>Tiempo: 2.0s<extra></extra>",
         "lat": [
          6.1807596,
          6.180875
         ],
         "line": {
          "color": "red",
          "width": 4
         },
         "lon": [
          -75.5811994,
          -75.5812276
         ],
         "mode": "lines",
         "showlegend": false,
         "type": "scattermap"
        },
        {
         "hovertemplate": "Segmento 22<br>Distancia: 13.0m<br>Tiempo: 2.0s<extra></extra>",
         "lat": [
          6.180875,
          6.1809936
         ],
         "line": {
          "color": "red",
          "width": 4
         },
         "lon": [
          -75.5812276,
          -75.5812409
         ],
         "mode": "lines",
         "showlegend": false,
         "type": "scattermap"
        },
        {
         "hovertemplate": "Segmento 23<br>Distancia: 16.0m<br>Tiempo: 2.0s<extra></extra>",
         "lat": [
          6.1809936,
          6.1811401
         ],
         "line": {
          "color": "red",
          "width": 4
         },
         "lon": [
          -75.5812409,
          -75.5812327
         ],
         "mode": "lines",
         "showlegend": false,
         "type": "scattermap"
        },
        {
         "hovertemplate": "Segmento 24<br>Distancia: 11.0m<br>Tiempo: 1.0s<extra></extra>",
         "lat": [
          6.1811401,
          6.1812431
         ],
         "line": {
          "color": "red",
          "width": 4
         },
         "lon": [
          -75.5812327,
          -75.5812323
         ],
         "mode": "lines",
         "showlegend": false,
         "type": "scattermap"
        },
        {
         "hovertemplate": "Segmento 25<br>Distancia: 7.0m<br>Tiempo: 1.0s<extra></extra>",
         "lat": [
          6.1812431,
          6.1813042
         ],
         "line": {
          "color": "red",
          "width": 4
         },
         "lon": [
          -75.5812323,
          -75.581234
         ],
         "mode": "lines",
         "showlegend": false,
         "type": "scattermap"
        },
        {
         "hovertemplate": "Segmento 26<br>Distancia: 7.0m<br>Tiempo: 1.0s<extra></extra>",
         "lat": [
          6.1813042,
          6.1813702
         ],
         "line": {
          "color": "red",
          "width": 4
         },
         "lon": [
          -75.581234,
          -75.5812359
         ],
         "mode": "lines",
         "showlegend": false,
         "type": "scattermap"
        },
        {
         "hovertemplate": "Segmento 27<br>Distancia: 7.0m<br>Tiempo: 1.0s<extra></extra>",
         "lat": [
          6.1813702,
          6.1814326
         ],
         "line": {
          "color": "red",
          "width": 4
         },
         "lon": [
          -75.5812359,
          -75.5812467
         ],
         "mode": "lines",
         "showlegend": false,
         "type": "scattermap"
        },
        {
         "hovertemplate": "Segmento 28<br>Distancia: 4.0m<br>Tiempo: 1.0s<extra></extra>",
         "lat": [
          6.1814326,
          6.1814714
         ],
         "line": {
          "color": "red",
          "width": 4
         },
         "lon": [
          -75.5812467,
          -75.5812534
         ],
         "mode": "lines",
         "showlegend": false,
         "type": "scattermap"
        },
        {
         "hovertemplate": "Segmento 29<br>Distancia: 8.0m<br>Tiempo: 1.0s<extra></extra>",
         "lat": [
          6.1814714,
          6.181543
         ],
         "line": {
          "color": "red",
          "width": 4
         },
         "lon": [
          -75.5812534,
          -75.581271
         ],
         "mode": "lines",
         "showlegend": false,
         "type": "scattermap"
        },
        {
         "hovertemplate": "Segmento 30<br>Distancia: 6.0m<br>Tiempo: 0.0s<extra></extra>",
         "lat": [
          6.181543,
          6.1815946
         ],
         "line": {
          "color": "red",
          "width": 4
         },
         "lon": [
          -75.581271,
          -75.5812858
         ],
         "mode": "lines",
         "showlegend": false,
         "type": "scattermap"
        },
        {
         "hovertemplate": "Segmento 31<br>Distancia: 18.0m<br>Tiempo: 1.0s<extra></extra>",
         "lat": [
          6.1815946,
          6.1817435
         ],
         "line": {
          "color": "red",
          "width": 4
         },
         "lon": [
          -75.5812858,
          -75.5813529
         ],
         "mode": "lines",
         "showlegend": false,
         "type": "scattermap"
        },
        {
         "hovertemplate": "Segmento 32<br>Distancia: 34.0m<br>Tiempo: 2.0s<extra></extra>",
         "lat": [
          6.1817435,
          6.1820201
         ],
         "line": {
          "color": "red",
          "width": 4
         },
         "lon": [
          -75.5813529,
          -75.5814795
         ],
         "mode": "lines",
         "showlegend": false,
         "type": "scattermap"
        },
        {
         "hovertemplate": "Segmento 33<br>Distancia: 15.0m<br>Tiempo: 1.0s<extra></extra>",
         "lat": [
          6.1820201,
          6.1821489
         ],
         "line": {
          "color": "red",
          "width": 4
         },
         "lon": [
          -75.5814795,
          -75.5815306
         ],
         "mode": "lines",
         "showlegend": false,
         "type": "scattermap"
        },
        {
         "hovertemplate": "Segmento 34<br>Distancia: 14.0m<br>Tiempo: 1.0s<extra></extra>",
         "lat": [
          6.1821489,
          6.1822542
         ],
         "line": {
          "color": "red",
          "width": 4
         },
         "lon": [
          -75.5815306,
          -75.581599
         ],
         "mode": "lines",
         "showlegend": false,
         "type": "scattermap"
        },
        {
         "hovertemplate": "Segmento 35<br>Distancia: 19.0m<br>Tiempo: 1.0s<extra></extra>",
         "lat": [
          6.1822542,
          6.1823822
         ],
         "line": {
          "color": "red",
          "width": 4
         },
         "lon": [
          -75.581599,
          -75.581717
         ],
         "mode": "lines",
         "showlegend": false,
         "type": "scattermap"
        },
        {
         "hovertemplate": "Segmento 36<br>Distancia: 15.0m<br>Tiempo: 1.0s<extra></extra>",
         "lat": [
          6.1823822,
          6.1824595
         ],
         "line": {
          "color": "red",
          "width": 4
         },
         "lon": [
          -75.581717,
          -75.581831
         ],
         "mode": "lines",
         "showlegend": false,
         "type": "scattermap"
        },
        {
         "hovertemplate": "Segmento 37<br>Distancia: 25.0m<br>Tiempo: 2.0s<extra></extra>",
         "lat": [
          6.1824595,
          6.1825459
         ],
         "line": {
          "color": "red",
          "width": 4
         },
         "lon": [
          -75.581831,
          -75.5820398
         ],
         "mode": "lines",
         "showlegend": false,
         "type": "scattermap"
        },
        {
         "hovertemplate": "Segmento 38<br>Distancia: 17.0m<br>Tiempo: 1.0s<extra></extra>",
         "lat": [
          6.1825459,
          6.1825885
         ],
         "line": {
          "color": "red",
          "width": 4
         },
         "lon": [
          -75.5820398,
          -75.5821908
         ],
         "mode": "lines",
         "showlegend": false,
         "type": "scattermap"
        },
        {
         "hovertemplate": "Segmento 39<br>Distancia: 11.0m<br>Tiempo: 1.0s<extra></extra>",
         "lat": [
          6.1825885,
          6.1826231
         ],
         "line": {
          "color": "red",
          "width": 4
         },
         "lon": [
          -75.5821908,
          -75.5822837
         ],
         "mode": "lines",
         "showlegend": false,
         "type": "scattermap"
        },
        {
         "hovertemplate": "Segmento 40<br>Distancia: 12.0m<br>Tiempo: 1.0s<extra></extra>",
         "lat": [
          6.1826231,
          6.1826891
         ],
         "line": {
          "color": "red",
          "width": 4
         },
         "lon": [
          -75.5822837,
          -75.582365
         ],
         "mode": "lines",
         "showlegend": false,
         "type": "scattermap"
        },
        {
         "hovertemplate": "Segmento 41<br>Distancia: 10.0m<br>Tiempo: 1.0s<extra></extra>",
         "lat": [
          6.1826891,
          6.1827451
         ],
         "line": {
          "color": "red",
          "width": 4
         },
         "lon": [
          -75.582365,
          -75.5824396
         ],
         "mode": "lines",
         "showlegend": false,
         "type": "scattermap"
        },
        {
         "hovertemplate": "Segmento 42<br>Distancia: 27.0m<br>Tiempo: 2.0s<extra></extra>",
         "lat": [
          6.1827451,
          6.1829417
         ],
         "line": {
          "color": "red",
          "width": 4
         },
         "lon": [
          -75.5824396,
          -75.5825894
         ],
         "mode": "lines",
         "showlegend": false,
         "type": "scattermap"
        },
        {
         "hovertemplate": "Segmento 43<br>Distancia: 4.0m<br>Tiempo: 0.0s<extra></extra>",
         "lat": [
          6.1829417,
          6.1829722
         ],
         "line": {
          "color": "red",
          "width": 4
         },
         "lon": [
          -75.5825894,
          -75.5826158
         ],
         "mode": "lines",
         "showlegend": false,
         "type": "scattermap"
        },
        {
         "hovertemplate": "Segmento 44<br>Distancia: 54.0m<br>Tiempo: 4.0s<extra></extra>",
         "lat": [
          6.1829722,
          6.1833443
         ],
         "line": {
          "color": "red",
          "width": 4
         },
         "lon": [
          -75.5826158,
          -75.5829262
         ],
         "mode": "lines",
         "showlegend": false,
         "type": "scattermap"
        },
        {
         "hovertemplate": "Segmento 45<br>Distancia: 7.0m<br>Tiempo: 0.0s<extra></extra>",
         "lat": [
          6.1833443,
          6.1833929
         ],
         "line": {
          "color": "red",
          "width": 4
         },
         "lon": [
          -75.5829262,
          -75.5829617
         ],
         "mode": "lines",
         "showlegend": false,
         "type": "scattermap"
        },
        {
         "hovertemplate": "Segmento 46<br>Distancia: 6.0m<br>Tiempo: 0.0s<extra></extra>",
         "lat": [
          6.1833929,
          6.1834442
         ],
         "line": {
          "color": "red",
          "width": 4
         },
         "lon": [
          -75.5829617,
          -75.5829897
         ],
         "mode": "lines",
         "showlegend": false,
         "type": "scattermap"
        },
        {
         "hovertemplate": "Segmento 47<br>Distancia: 6.0m<br>Tiempo: 0.0s<extra></extra>",
         "lat": [
          6.1834442,
          6.183495
         ],
         "line": {
          "color": "red",
          "width": 4
         },
         "lon": [
          -75.5829897,
          -75.5830008
         ],
         "mode": "lines",
         "showlegend": false,
         "type": "scattermap"
        },
        {
         "hovertemplate": "Segmento 48<br>Distancia: 6.0m<br>Tiempo: 0.0s<extra></extra>",
         "lat": [
          6.183495,
          6.1835515
         ],
         "line": {
          "color": "red",
          "width": 4
         },
         "lon": [
          -75.5830008,
          -75.5830077
         ],
         "mode": "lines",
         "showlegend": false,
         "type": "scattermap"
        },
        {
         "hovertemplate": "Segmento 49<br>Distancia: 6.0m<br>Tiempo: 0.0s<extra></extra>",
         "lat": [
          6.1835515,
          6.1836083
         ],
         "line": {
          "color": "red",
          "width": 4
         },
         "lon": [
          -75.5830077,
          -75.5830082
         ],
         "mode": "lines",
         "showlegend": false,
         "type": "scattermap"
        },
        {
         "hovertemplate": "Segmento 50<br>Distancia: 7.0m<br>Tiempo: 0.0s<extra></extra>",
         "lat": [
          6.1836083,
          6.1836687
         ],
         "line": {
          "color": "red",
          "width": 4
         },
         "lon": [
          -75.5830082,
          -75.5830017
         ],
         "mode": "lines",
         "showlegend": false,
         "type": "scattermap"
        },
        {
         "hovertemplate": "Segmento 51<br>Distancia: 22.0m<br>Tiempo: 2.0s<extra></extra>",
         "lat": [
          6.1836687,
          6.1838478
         ],
         "line": {
          "color": "red",
          "width": 4
         },
         "lon": [
          -75.5830017,
          -75.5829271
         ],
         "mode": "lines",
         "showlegend": false,
         "type": "scattermap"
        },
        {
         "hovertemplate": "Segmento 52<br>Distancia: 24.0m<br>Tiempo: 2.0s<extra></extra>",
         "lat": [
          6.1838478,
          6.1840469
         ],
         "line": {
          "color": "red",
          "width": 4
         },
         "lon": [
          -75.5829271,
          -75.5828387
         ],
         "mode": "lines",
         "showlegend": false,
         "type": "scattermap"
        },
        {
         "hovertemplate": "Segmento 53<br>Distancia: 33.0m<br>Tiempo: 2.0s<extra></extra>",
         "lat": [
          6.1840469,
          6.1843196
         ],
         "line": {
          "color": "red",
          "width": 4
         },
         "lon": [
          -75.5828387,
          -75.5827176
         ],
         "mode": "lines",
         "showlegend": false,
         "type": "scattermap"
        },
        {
         "hovertemplate": "Segmento 54<br>Distancia: 27.0m<br>Tiempo: 2.0s<extra></extra>",
         "lat": [
          6.1843196,
          6.1845405
         ],
         "line": {
          "color": "red",
          "width": 4
         },
         "lon": [
          -75.5827176,
          -75.5826116
         ],
         "mode": "lines",
         "showlegend": false,
         "type": "scattermap"
        },
        {
         "hovertemplate": "Segmento 55<br>Distancia: 11.0m<br>Tiempo: 1.0s<extra></extra>",
         "lat": [
          6.1845405,
          6.1846329
         ],
         "line": {
          "color": "red",
          "width": 4
         },
         "lon": [
          -75.5826116,
          -75.5825835
         ],
         "mode": "lines",
         "showlegend": false,
         "type": "scattermap"
        },
        {
         "hovertemplate": "Segmento 56<br>Distancia: 9.0m<br>Tiempo: 1.0s<extra></extra>",
         "lat": [
          6.1846329,
          6.1847145
         ],
         "line": {
          "color": "red",
          "width": 4
         },
         "lon": [
          -75.5825835,
          -75.58257
         ],
         "mode": "lines",
         "showlegend": false,
         "type": "scattermap"
        },
        {
         "hovertemplate": "Segmento 57<br>Distancia: 8.0m<br>Tiempo: 1.0s<extra></extra>",
         "lat": [
          6.1847145,
          6.1847894
         ],
         "line": {
          "color": "red",
          "width": 4
         },
         "lon": [
          -75.58257,
          -75.5825586
         ],
         "mode": "lines",
         "showlegend": false,
         "type": "scattermap"
        },
        {
         "hovertemplate": "Segmento 58<br>Distancia: 9.0m<br>Tiempo: 1.0s<extra></extra>",
         "lat": [
          6.1847894,
          6.1848687
         ],
         "line": {
          "color": "red",
          "width": 4
         },
         "lon": [
          -75.5825586,
          -75.5825545
         ],
         "mode": "lines",
         "showlegend": false,
         "type": "scattermap"
        },
        {
         "hovertemplate": "Segmento 59<br>Distancia: 6.0m<br>Tiempo: 0.0s<extra></extra>",
         "lat": [
          6.1848687,
          6.1849243
         ],
         "line": {
          "color": "red",
          "width": 4
         },
         "lon": [
          -75.5825545,
          -75.5825615
         ],
         "mode": "lines",
         "showlegend": false,
         "type": "scattermap"
        },
        {
         "hovertemplate": "Segmento 60<br>Distancia: 2.0m<br>Tiempo: 0.0s<extra></extra>",
         "lat": [
          6.1849243,
          6.1849398
         ],
         "line": {
          "color": "red",
          "width": 4
         },
         "lon": [
          -75.5825615,
          -75.5825646
         ],
         "mode": "lines",
         "showlegend": false,
         "type": "scattermap"
        },
        {
         "hovertemplate": "Segmento 61<br>Distancia: 5.0m<br>Tiempo: 0.0s<extra></extra>",
         "lat": [
          6.1849398,
          6.184985
         ],
         "line": {
          "color": "red",
          "width": 4
         },
         "lon": [
          -75.5825646,
          -75.5825735
         ],
         "mode": "lines",
         "showlegend": false,
         "type": "scattermap"
        },
        {
         "hovertemplate": "Segmento 62<br>Distancia: 8.0m<br>Tiempo: 1.0s<extra></extra>",
         "lat": [
          6.184985,
          6.1850496
         ],
         "line": {
          "color": "red",
          "width": 4
         },
         "lon": [
          -75.5825735,
          -75.5825974
         ],
         "mode": "lines",
         "showlegend": false,
         "type": "scattermap"
        },
        {
         "hovertemplate": "Segmento 63<br>Distancia: 9.0m<br>Tiempo: 1.0s<extra></extra>",
         "lat": [
          6.1850496,
          6.1851184
         ],
         "line": {
          "color": "red",
          "width": 4
         },
         "lon": [
          -75.5825974,
          -75.582645
         ],
         "mode": "lines",
         "showlegend": false,
         "type": "scattermap"
        },
        {
         "hovertemplate": "Segmento 64<br>Distancia: 12.0m<br>Tiempo: 1.0s<extra></extra>",
         "lat": [
          6.1851184,
          6.1852011
         ],
         "line": {
          "color": "red",
          "width": 4
         },
         "lon": [
          -75.582645,
          -75.5827133
         ],
         "mode": "lines",
         "showlegend": false,
         "type": "scattermap"
        },
        {
         "hovertemplate": "Segmento 65<br>Distancia: 8.0m<br>Tiempo: 1.0s<extra></extra>",
         "lat": [
          6.1852011,
          6.1852563
         ],
         "line": {
          "color": "red",
          "width": 4
         },
         "lon": [
          -75.5827133,
          -75.5827578
         ],
         "mode": "lines",
         "showlegend": false,
         "type": "scattermap"
        },
        {
         "hovertemplate": "Segmento 66<br>Distancia: 25.0m<br>Tiempo: 2.0s<extra></extra>",
         "lat": [
          6.1852563,
          6.1854314
         ],
         "line": {
          "color": "red",
          "width": 4
         },
         "lon": [
          -75.5827578,
          -75.5828971
         ],
         "mode": "lines",
         "showlegend": false,
         "type": "scattermap"
        },
        {
         "hovertemplate": "Segmento 67<br>Distancia: 8.0m<br>Tiempo: 1.0s<extra></extra>",
         "lat": [
          6.1854314,
          6.1854849
         ],
         "line": {
          "color": "red",
          "width": 4
         },
         "lon": [
          -75.5828971,
          -75.5829397
         ],
         "mode": "lines",
         "showlegend": false,
         "type": "scattermap"
        },
        {
         "hovertemplate": "Segmento 68<br>Distancia: 12.0m<br>Tiempo: 1.0s<extra></extra>",
         "lat": [
          6.1854849,
          6.185569
         ],
         "line": {
          "color": "red",
          "width": 4
         },
         "lon": [
          -75.5829397,
          -75.5830066
         ],
         "mode": "lines",
         "showlegend": false,
         "type": "scattermap"
        },
        {
         "hovertemplate": "Segmento 69<br>Distancia: 5.0m<br>Tiempo: 0.0s<extra></extra>",
         "lat": [
          6.185569,
          6.1855363
         ],
         "line": {
          "color": "red",
          "width": 4
         },
         "lon": [
          -75.5830066,
          -75.5830419
         ],
         "mode": "lines",
         "showlegend": false,
         "type": "scattermap"
        },
        {
         "hovertemplate": "Segmento 70<br>Distancia: 6.0m<br>Tiempo: 0.0s<extra></extra>",
         "lat": [
          6.1855363,
          6.1854984
         ],
         "line": {
          "color": "red",
          "width": 4
         },
         "lon": [
          -75.5830419,
          -75.5830827
         ],
         "mode": "lines",
         "showlegend": false,
         "type": "scattermap"
        },
        {
         "hovertemplate": "Segmento 71<br>Distancia: 12.0m<br>Tiempo: 1.0s<extra></extra>",
         "lat": [
          6.1854984,
          6.1854227
         ],
         "line": {
          "color": "red",
          "width": 4
         },
         "lon": [
          -75.5830827,
          -75.583164
         ],
         "mode": "lines",
         "showlegend": false,
         "type": "scattermap"
        },
        {
         "hovertemplate": "Segmento 72<br>Distancia: 14.0m<br>Tiempo: 1.0s<extra></extra>",
         "lat": [
          6.1854227,
          6.1853357
         ],
         "line": {
          "color": "red",
          "width": 4
         },
         "lon": [
          -75.583164,
          -75.5832575
         ],
         "mode": "lines",
         "showlegend": false,
         "type": "scattermap"
        },
        {
         "hovertemplate": "Segmento 73<br>Distancia: 11.0m<br>Tiempo: 1.0s<extra></extra>",
         "lat": [
          6.1853357,
          6.1852667
         ],
         "line": {
          "color": "red",
          "width": 4
         },
         "lon": [
          -75.5832575,
          -75.5833316
         ],
         "mode": "lines",
         "showlegend": false,
         "type": "scattermap"
        },
        {
         "hovertemplate": "Segmento 74<br>Distancia: 20.0m<br>Tiempo: 1.0s<extra></extra>",
         "lat": [
          6.1852667,
          6.1851443
         ],
         "line": {
          "color": "red",
          "width": 4
         },
         "lon": [
          -75.5833316,
          -75.5834644
         ],
         "mode": "lines",
         "showlegend": false,
         "type": "scattermap"
        },
        {
         "hovertemplate": "Segmento 75<br>Distancia: 86.0m<br>Tiempo: 5.0s<extra></extra>",
         "lat": [
          6.1851443,
          6.1846116
         ],
         "line": {
          "color": "red",
          "width": 4
         },
         "lon": [
          -75.5834644,
          -75.5840226
         ],
         "mode": "lines",
         "showlegend": false,
         "type": "scattermap"
        },
        {
         "hovertemplate": "Segmento 76<br>Distancia: 30.0m<br>Tiempo: 2.0s<extra></extra>",
         "lat": [
          6.1846116,
          6.1844202
         ],
         "line": {
          "color": "red",
          "width": 4
         },
         "lon": [
          -75.5840226,
          -75.5842168
         ],
         "mode": "lines",
         "showlegend": false,
         "type": "scattermap"
        },
        {
         "hovertemplate": "Segmento 77<br>Distancia: 80.0m<br>Tiempo: 5.0s<extra></extra>",
         "lat": [
          6.1844202,
          6.1839235
         ],
         "line": {
          "color": "red",
          "width": 4
         },
         "lon": [
          -75.5842168,
          -75.5847435
         ],
         "mode": "lines",
         "showlegend": false,
         "type": "scattermap"
        },
        {
         "hovertemplate": "Segmento 78<br>Distancia: 101.0m<br>Tiempo: 6.0s<extra></extra>",
         "lat": [
          6.1839235,
          6.1832947
         ],
         "line": {
          "color": "red",
          "width": 4
         },
         "lon": [
          -75.5847435,
          -75.5854023
         ],
         "mode": "lines",
         "showlegend": false,
         "type": "scattermap"
        },
        {
         "hovertemplate": "Segmento 79<br>Distancia: 10.0m<br>Tiempo: 1.0s<extra></extra>",
         "lat": [
          6.1832947,
          6.1832306
         ],
         "line": {
          "color": "red",
          "width": 4
         },
         "lon": [
          -75.5854023,
          -75.5854678
         ],
         "mode": "lines",
         "showlegend": false,
         "type": "scattermap"
        },
        {
         "hovertemplate": "Segmento 80<br>Distancia: 57.0m<br>Tiempo: 3.0s<extra></extra>",
         "lat": [
          6.1832306,
          6.1828714
         ],
         "line": {
          "color": "red",
          "width": 4
         },
         "lon": [
          -75.5854678,
          -75.5858366
         ],
         "mode": "lines",
         "showlegend": false,
         "type": "scattermap"
        },
        {
         "hovertemplate": "Segmento 81<br>Distancia: 28.0m<br>Tiempo: 2.0s<extra></extra>",
         "lat": [
          6.1828714,
          6.1826934
         ],
         "line": {
          "color": "red",
          "width": 4
         },
         "lon": [
          -75.5858366,
          -75.5860133
         ],
         "mode": "lines",
         "showlegend": false,
         "type": "scattermap"
        },
        {
         "hovertemplate": "Segmento 82<br>Distancia: 23.0m<br>Tiempo: 1.0s<extra></extra>",
         "lat": [
          6.1826934,
          6.1825371
         ],
         "line": {
          "color": "red",
          "width": 4
         },
         "lon": [
          -75.5860133,
          -75.586152
         ],
         "mode": "lines",
         "showlegend": false,
         "type": "scattermap"
        },
        {
         "hovertemplate": "Segmento 83<br>Distancia: 20.0m<br>Tiempo: 1.0s<extra></extra>",
         "lat": [
          6.1825371,
          6.1823972
         ],
         "line": {
          "color": "red",
          "width": 4
         },
         "lon": [
          -75.586152,
          -75.5862726
         ],
         "mode": "lines",
         "showlegend": false,
         "type": "scattermap"
        },
        {
         "hovertemplate": "Segmento 84<br>Distancia: 46.0m<br>Tiempo: 3.0s<extra></extra>",
         "lat": [
          6.1823972,
          6.1820771
         ],
         "line": {
          "color": "red",
          "width": 4
         },
         "lon": [
          -75.5862726,
          -75.5865323
         ],
         "mode": "lines",
         "showlegend": false,
         "type": "scattermap"
        },
        {
         "hovertemplate": "Segmento 85<br>Distancia: 7.0m<br>Tiempo: 0.0s<extra></extra>",
         "lat": [
          6.1820771,
          6.1820287
         ],
         "line": {
          "color": "red",
          "width": 4
         },
         "lon": [
          -75.5865323,
          -75.5865713
         ],
         "mode": "lines",
         "showlegend": false,
         "type": "scattermap"
        },
        {
         "hovertemplate": "Segmento 86<br>Distancia: 8.0m<br>Tiempo: 1.0s<extra></extra>",
         "lat": [
          6.1820287,
          6.1819691
         ],
         "line": {
          "color": "red",
          "width": 4
         },
         "lon": [
          -75.5865713,
          -75.5866172
         ],
         "mode": "lines",
         "showlegend": false,
         "type": "scattermap"
        },
        {
         "hovertemplate": "Segmento 87<br>Distancia: 31.0m<br>Tiempo: 2.0s<extra></extra>",
         "lat": [
          6.1819691,
          6.1817444
         ],
         "line": {
          "color": "red",
          "width": 4
         },
         "lon": [
          -75.5866172,
          -75.5867905
         ],
         "mode": "lines",
         "showlegend": false,
         "type": "scattermap"
        },
        {
         "hovertemplate": "Segmento 88<br>Distancia: 39.0m<br>Tiempo: 2.0s<extra></extra>",
         "lat": [
          6.1817444,
          6.1814631
         ],
         "line": {
          "color": "red",
          "width": 4
         },
         "lon": [
          -75.5867905,
          -75.586996
         ],
         "mode": "lines",
         "showlegend": false,
         "type": "scattermap"
        },
        {
         "hovertemplate": "Segmento 89<br>Distancia: 68.0m<br>Tiempo: 4.0s<extra></extra>",
         "lat": [
          6.1814631,
          6.1809609
         ],
         "line": {
          "color": "red",
          "width": 4
         },
         "lon": [
          -75.586996,
          -75.5873434
         ],
         "mode": "lines",
         "showlegend": false,
         "type": "scattermap"
        },
        {
         "hovertemplate": "Segmento 90<br>Distancia: 9.0m<br>Tiempo: 1.0s<extra></extra>",
         "lat": [
          6.1809609,
          6.1808954
         ],
         "line": {
          "color": "red",
          "width": 4
         },
         "lon": [
          -75.5873434,
          -75.5873886
         ],
         "mode": "lines",
         "showlegend": false,
         "type": "scattermap"
        },
        {
         "hovertemplate": "Segmento 91<br>Distancia: 171.0m<br>Tiempo: 10.0s<extra></extra>",
         "lat": [
          6.1808954,
          6.1796273
         ],
         "line": {
          "color": "red",
          "width": 4
         },
         "lon": [
          -75.5873886,
          -75.5882656
         ],
         "mode": "lines",
         "showlegend": false,
         "type": "scattermap"
        },
        {
         "hovertemplate": "Segmento 92<br>Distancia: 9.0m<br>Tiempo: 1.0s<extra></extra>",
         "lat": [
          6.1796273,
          6.1795624
         ],
         "line": {
          "color": "red",
          "width": 4
         },
         "lon": [
          -75.5882656,
          -75.5883115
         ],
         "mode": "lines",
         "showlegend": false,
         "type": "scattermap"
        },
        {
         "hovertemplate": "Segmento 93<br>Distancia: 5.0m<br>Tiempo: 0.0s<extra></extra>",
         "lat": [
          6.1795624,
          6.1795232
         ],
         "line": {
          "color": "red",
          "width": 4
         },
         "lon": [
          -75.5883115,
          -75.5883393
         ],
         "mode": "lines",
         "showlegend": false,
         "type": "scattermap"
        },
        {
         "hovertemplate": "Segmento 94<br>Distancia: 14.0m<br>Tiempo: 1.0s<extra></extra>",
         "lat": [
          6.1795232,
          6.1794186
         ],
         "line": {
          "color": "red",
          "width": 4
         },
         "lon": [
          -75.5883393,
          -75.5884133
         ],
         "mode": "lines",
         "showlegend": false,
         "type": "scattermap"
        },
        {
         "hovertemplate": "Segmento 95<br>Distancia: 41.0m<br>Tiempo: 2.0s<extra></extra>",
         "lat": [
          6.1794186,
          6.1791141
         ],
         "line": {
          "color": "red",
          "width": 4
         },
         "lon": [
          -75.5884133,
          -75.5886288
         ],
         "mode": "lines",
         "showlegend": false,
         "type": "scattermap"
        },
        {
         "hovertemplate": "Segmento 96<br>Distancia: 130.0m<br>Tiempo: 8.0s<extra></extra>",
         "lat": [
          6.1791141,
          6.1781593
         ],
         "line": {
          "color": "red",
          "width": 4
         },
         "lon": [
          -75.5886288,
          -75.5893046
         ],
         "mode": "lines",
         "showlegend": false,
         "type": "scattermap"
        },
        {
         "hovertemplate": "Segmento 97<br>Distancia: 92.0m<br>Tiempo: 6.0s<extra></extra>",
         "lat": [
          6.1781593,
          6.1774817
         ],
         "line": {
          "color": "red",
          "width": 4
         },
         "lon": [
          -75.5893046,
          -75.5897842
         ],
         "mode": "lines",
         "showlegend": false,
         "type": "scattermap"
        },
        {
         "hovertemplate": "Segmento 98<br>Distancia: 36.0m<br>Tiempo: 2.0s<extra></extra>",
         "lat": [
          6.1774817,
          6.1772161
         ],
         "line": {
          "color": "red",
          "width": 4
         },
         "lon": [
          -75.5897842,
          -75.5899721
         ],
         "mode": "lines",
         "showlegend": false,
         "type": "scattermap"
        },
        {
         "hovertemplate": "Segmento 99<br>Distancia: 9.0m<br>Tiempo: 1.0s<extra></extra>",
         "lat": [
          6.1772161,
          6.1771493
         ],
         "line": {
          "color": "red",
          "width": 4
         },
         "lon": [
          -75.5899721,
          -75.5900194
         ],
         "mode": "lines",
         "showlegend": false,
         "type": "scattermap"
        },
        {
         "hovertemplate": "Segmento 100<br>Distancia: 9.0m<br>Tiempo: 2.0s<extra></extra>",
         "lat": [
          6.1771493,
          6.177196
         ],
         "line": {
          "color": "red",
          "width": 4
         },
         "lon": [
          -75.5900194,
          -75.5900887
         ],
         "mode": "lines",
         "showlegend": false,
         "type": "scattermap"
        },
        {
         "hovertemplate": "Segmento 101<br>Distancia: 54.0m<br>Tiempo: 10.0s<extra></extra>",
         "lat": [
          6.177196,
          6.1774677
         ],
         "line": {
          "color": "red",
          "width": 4
         },
         "lon": [
          -75.5900887,
          -75.590493
         ],
         "mode": "lines",
         "showlegend": false,
         "type": "scattermap"
        },
        {
         "hovertemplate": "Segmento 102<br>Distancia: 10.0m<br>Tiempo: 2.0s<extra></extra>",
         "lat": [
          6.1774677,
          6.1775165
         ],
         "line": {
          "color": "red",
          "width": 4
         },
         "lon": [
          -75.590493,
          -75.5905655
         ],
         "mode": "lines",
         "showlegend": false,
         "type": "scattermap"
        },
        {
         "hovertemplate": "Segmento 103<br>Distancia: 23.0m<br>Tiempo: 4.0s<extra></extra>",
         "lat": [
          6.1775165,
          6.1776298
         ],
         "line": {
          "color": "red",
          "width": 4
         },
         "lon": [
          -75.5905655,
          -75.5907342
         ],
         "mode": "lines",
         "showlegend": false,
         "type": "scattermap"
        },
        {
         "hovertemplate": "<b>Inicio</b><br>Sede Posgrados EIA, Calle 25 Sur, La Magnolia, Envigado, Valle de Aburrá, Antioquia, RAP del Agua y la Montaña, 055422, Colombia<extra></extra>",
         "lat": [
          6.1789229
         ],
         "lon": [
          -75.579478
         ],
         "marker": {
          "color": "green",
          "size": 15
         },
         "mode": "markers",
         "name": "Inicio",
         "text": [
          "Inicio"
         ],
         "type": "scattermap"
        },
        {
         "hovertemplate": "<b>Destino</b><br>Oficinas Almacenes Éxito, Avenida Carrera 48, La Magnolia, Envigado, Valle de Aburrá, Antioquia, RAP del Agua y la Montaña, 055422, Colombia<extra></extra>",
         "lat": [
          6.176906
         ],
         "lon": [
          -75.5912312
         ],
         "marker": {
          "color": "red",
          "size": 15
         },
         "mode": "markers",
         "name": "Destino",
         "text": [
          "Destino"
         ],
         "type": "scattermap"
        }
       ],
       "layout": {
        "height": 600,
        "map": {
         "center": {
          "lat": 6.177914449999999,
          "lon": -75.58535459999999
         },
         "style": "open-street-map",
         "zoom": 12
        },
        "showlegend": true,
        "template": {
         "data": {
          "bar": [
           {
            "error_x": {
             "color": "#2a3f5f"
            },
            "error_y": {
             "color": "#2a3f5f"
            },
            "marker": {
             "line": {
              "color": "#E5ECF6",
              "width": 0.5
             },
             "pattern": {
              "fillmode": "overlay",
              "size": 10,
              "solidity": 0.2
             }
            },
            "type": "bar"
           }
          ],
          "barpolar": [
           {
            "marker": {
             "line": {
              "color": "#E5ECF6",
              "width": 0.5
             },
             "pattern": {
              "fillmode": "overlay",
              "size": 10,
              "solidity": 0.2
             }
            },
            "type": "barpolar"
           }
          ],
          "carpet": [
           {
            "aaxis": {
             "endlinecolor": "#2a3f5f",
             "gridcolor": "white",
             "linecolor": "white",
             "minorgridcolor": "white",
             "startlinecolor": "#2a3f5f"
            },
            "baxis": {
             "endlinecolor": "#2a3f5f",
             "gridcolor": "white",
             "linecolor": "white",
             "minorgridcolor": "white",
             "startlinecolor": "#2a3f5f"
            },
            "type": "carpet"
           }
          ],
          "choropleth": [
           {
            "colorbar": {
             "outlinewidth": 0,
             "ticks": ""
            },
            "type": "choropleth"
           }
          ],
          "contour": [
           {
            "colorbar": {
             "outlinewidth": 0,
             "ticks": ""
            },
            "colorscale": [
             [
              0,
              "#0d0887"
             ],
             [
              0.1111111111111111,
              "#46039f"
             ],
             [
              0.2222222222222222,
              "#7201a8"
             ],
             [
              0.3333333333333333,
              "#9c179e"
             ],
             [
              0.4444444444444444,
              "#bd3786"
             ],
             [
              0.5555555555555556,
              "#d8576b"
             ],
             [
              0.6666666666666666,
              "#ed7953"
             ],
             [
              0.7777777777777778,
              "#fb9f3a"
             ],
             [
              0.8888888888888888,
              "#fdca26"
             ],
             [
              1,
              "#f0f921"
             ]
            ],
            "type": "contour"
           }
          ],
          "contourcarpet": [
           {
            "colorbar": {
             "outlinewidth": 0,
             "ticks": ""
            },
            "type": "contourcarpet"
           }
          ],
          "heatmap": [
           {
            "colorbar": {
             "outlinewidth": 0,
             "ticks": ""
            },
            "colorscale": [
             [
              0,
              "#0d0887"
             ],
             [
              0.1111111111111111,
              "#46039f"
             ],
             [
              0.2222222222222222,
              "#7201a8"
             ],
             [
              0.3333333333333333,
              "#9c179e"
             ],
             [
              0.4444444444444444,
              "#bd3786"
             ],
             [
              0.5555555555555556,
              "#d8576b"
             ],
             [
              0.6666666666666666,
              "#ed7953"
             ],
             [
              0.7777777777777778,
              "#fb9f3a"
             ],
             [
              0.8888888888888888,
              "#fdca26"
             ],
             [
              1,
              "#f0f921"
             ]
            ],
            "type": "heatmap"
           }
          ],
          "histogram": [
           {
            "marker": {
             "pattern": {
              "fillmode": "overlay",
              "size": 10,
              "solidity": 0.2
             }
            },
            "type": "histogram"
           }
          ],
          "histogram2d": [
           {
            "colorbar": {
             "outlinewidth": 0,
             "ticks": ""
            },
            "colorscale": [
             [
              0,
              "#0d0887"
             ],
             [
              0.1111111111111111,
              "#46039f"
             ],
             [
              0.2222222222222222,
              "#7201a8"
             ],
             [
              0.3333333333333333,
              "#9c179e"
             ],
             [
              0.4444444444444444,
              "#bd3786"
             ],
             [
              0.5555555555555556,
              "#d8576b"
             ],
             [
              0.6666666666666666,
              "#ed7953"
             ],
             [
              0.7777777777777778,
              "#fb9f3a"
             ],
             [
              0.8888888888888888,
              "#fdca26"
             ],
             [
              1,
              "#f0f921"
             ]
            ],
            "type": "histogram2d"
           }
          ],
          "histogram2dcontour": [
           {
            "colorbar": {
             "outlinewidth": 0,
             "ticks": ""
            },
            "colorscale": [
             [
              0,
              "#0d0887"
             ],
             [
              0.1111111111111111,
              "#46039f"
             ],
             [
              0.2222222222222222,
              "#7201a8"
             ],
             [
              0.3333333333333333,
              "#9c179e"
             ],
             [
              0.4444444444444444,
              "#bd3786"
             ],
             [
              0.5555555555555556,
              "#d8576b"
             ],
             [
              0.6666666666666666,
              "#ed7953"
             ],
             [
              0.7777777777777778,
              "#fb9f3a"
             ],
             [
              0.8888888888888888,
              "#fdca26"
             ],
             [
              1,
              "#f0f921"
             ]
            ],
            "type": "histogram2dcontour"
           }
          ],
          "mesh3d": [
           {
            "colorbar": {
             "outlinewidth": 0,
             "ticks": ""
            },
            "type": "mesh3d"
           }
          ],
          "parcoords": [
           {
            "line": {
             "colorbar": {
              "outlinewidth": 0,
              "ticks": ""
             }
            },
            "type": "parcoords"
           }
          ],
          "pie": [
           {
            "automargin": true,
            "type": "pie"
           }
          ],
          "scatter": [
           {
            "fillpattern": {
             "fillmode": "overlay",
             "size": 10,
             "solidity": 0.2
            },
            "type": "scatter"
           }
          ],
          "scatter3d": [
           {
            "line": {
             "colorbar": {
              "outlinewidth": 0,
              "ticks": ""
             }
            },
            "marker": {
             "colorbar": {
              "outlinewidth": 0,
              "ticks": ""
             }
            },
            "type": "scatter3d"
           }
          ],
          "scattercarpet": [
           {
            "marker": {
             "colorbar": {
              "outlinewidth": 0,
              "ticks": ""
             }
            },
            "type": "scattercarpet"
           }
          ],
          "scattergeo": [
           {
            "marker": {
             "colorbar": {
              "outlinewidth": 0,
              "ticks": ""
             }
            },
            "type": "scattergeo"
           }
          ],
          "scattergl": [
           {
            "marker": {
             "colorbar": {
              "outlinewidth": 0,
              "ticks": ""
             }
            },
            "type": "scattergl"
           }
          ],
          "scattermap": [
           {
            "marker": {
             "colorbar": {
              "outlinewidth": 0,
              "ticks": ""
             }
            },
            "type": "scattermap"
           }
          ],
          "scattermapbox": [
           {
            "marker": {
             "colorbar": {
              "outlinewidth": 0,
              "ticks": ""
             }
            },
            "type": "scattermapbox"
           }
          ],
          "scatterpolar": [
           {
            "marker": {
             "colorbar": {
              "outlinewidth": 0,
              "ticks": ""
             }
            },
            "type": "scatterpolar"
           }
          ],
          "scatterpolargl": [
           {
            "marker": {
             "colorbar": {
              "outlinewidth": 0,
              "ticks": ""
             }
            },
            "type": "scatterpolargl"
           }
          ],
          "scatterternary": [
           {
            "marker": {
             "colorbar": {
              "outlinewidth": 0,
              "ticks": ""
             }
            },
            "type": "scatterternary"
           }
          ],
          "surface": [
           {
            "colorbar": {
             "outlinewidth": 0,
             "ticks": ""
            },
            "colorscale": [
             [
              0,
              "#0d0887"
             ],
             [
              0.1111111111111111,
              "#46039f"
             ],
             [
              0.2222222222222222,
              "#7201a8"
             ],
             [
              0.3333333333333333,
              "#9c179e"
             ],
             [
              0.4444444444444444,
              "#bd3786"
             ],
             [
              0.5555555555555556,
              "#d8576b"
             ],
             [
              0.6666666666666666,
              "#ed7953"
             ],
             [
              0.7777777777777778,
              "#fb9f3a"
             ],
             [
              0.8888888888888888,
              "#fdca26"
             ],
             [
              1,
              "#f0f921"
             ]
            ],
            "type": "surface"
           }
          ],
          "table": [
           {
            "cells": {
             "fill": {
              "color": "#EBF0F8"
             },
             "line": {
              "color": "white"
             }
            },
            "header": {
             "fill": {
              "color": "#C8D4E3"
             },
             "line": {
              "color": "white"
             }
            },
            "type": "table"
           }
          ]
         },
         "layout": {
          "annotationdefaults": {
           "arrowcolor": "#2a3f5f",
           "arrowhead": 0,
           "arrowwidth": 1
          },
          "autotypenumbers": "strict",
          "coloraxis": {
           "colorbar": {
            "outlinewidth": 0,
            "ticks": ""
           }
          },
          "colorscale": {
           "diverging": [
            [
             0,
             "#8e0152"
            ],
            [
             0.1,
             "#c51b7d"
            ],
            [
             0.2,
             "#de77ae"
            ],
            [
             0.3,
             "#f1b6da"
            ],
            [
             0.4,
             "#fde0ef"
            ],
            [
             0.5,
             "#f7f7f7"
            ],
            [
             0.6,
             "#e6f5d0"
            ],
            [
             0.7,
             "#b8e186"
            ],
            [
             0.8,
             "#7fbc41"
            ],
            [
             0.9,
             "#4d9221"
            ],
            [
             1,
             "#276419"
            ]
           ],
           "sequential": [
            [
             0,
             "#0d0887"
            ],
            [
             0.1111111111111111,
             "#46039f"
            ],
            [
             0.2222222222222222,
             "#7201a8"
            ],
            [
             0.3333333333333333,
             "#9c179e"
            ],
            [
             0.4444444444444444,
             "#bd3786"
            ],
            [
             0.5555555555555556,
             "#d8576b"
            ],
            [
             0.6666666666666666,
             "#ed7953"
            ],
            [
             0.7777777777777778,
             "#fb9f3a"
            ],
            [
             0.8888888888888888,
             "#fdca26"
            ],
            [
             1,
             "#f0f921"
            ]
           ],
           "sequentialminus": [
            [
             0,
             "#0d0887"
            ],
            [
             0.1111111111111111,
             "#46039f"
            ],
            [
             0.2222222222222222,
             "#7201a8"
            ],
            [
             0.3333333333333333,
             "#9c179e"
            ],
            [
             0.4444444444444444,
             "#bd3786"
            ],
            [
             0.5555555555555556,
             "#d8576b"
            ],
            [
             0.6666666666666666,
             "#ed7953"
            ],
            [
             0.7777777777777778,
             "#fb9f3a"
            ],
            [
             0.8888888888888888,
             "#fdca26"
            ],
            [
             1,
             "#f0f921"
            ]
           ]
          },
          "colorway": [
           "#636efa",
           "#EF553B",
           "#00cc96",
           "#ab63fa",
           "#FFA15A",
           "#19d3f3",
           "#FF6692",
           "#B6E880",
           "#FF97FF",
           "#FECB52"
          ],
          "font": {
           "color": "#2a3f5f"
          },
          "geo": {
           "bgcolor": "white",
           "lakecolor": "white",
           "landcolor": "#E5ECF6",
           "showlakes": true,
           "showland": true,
           "subunitcolor": "white"
          },
          "hoverlabel": {
           "align": "left"
          },
          "hovermode": "closest",
          "mapbox": {
           "style": "light"
          },
          "paper_bgcolor": "white",
          "plot_bgcolor": "#E5ECF6",
          "polar": {
           "angularaxis": {
            "gridcolor": "white",
            "linecolor": "white",
            "ticks": ""
           },
           "bgcolor": "#E5ECF6",
           "radialaxis": {
            "gridcolor": "white",
            "linecolor": "white",
            "ticks": ""
           }
          },
          "scene": {
           "xaxis": {
            "backgroundcolor": "#E5ECF6",
            "gridcolor": "white",
            "gridwidth": 2,
            "linecolor": "white",
            "showbackground": true,
            "ticks": "",
            "zerolinecolor": "white"
           },
           "yaxis": {
            "backgroundcolor": "#E5ECF6",
            "gridcolor": "white",
            "gridwidth": 2,
            "linecolor": "white",
            "showbackground": true,
            "ticks": "",
            "zerolinecolor": "white"
           },
           "zaxis": {
            "backgroundcolor": "#E5ECF6",
            "gridcolor": "white",
            "gridwidth": 2,
            "linecolor": "white",
            "showbackground": true,
            "ticks": "",
            "zerolinecolor": "white"
           }
          },
          "shapedefaults": {
           "line": {
            "color": "#2a3f5f"
           }
          },
          "ternary": {
           "aaxis": {
            "gridcolor": "white",
            "linecolor": "white",
            "ticks": ""
           },
           "baxis": {
            "gridcolor": "white",
            "linecolor": "white",
            "ticks": ""
           },
           "bgcolor": "#E5ECF6",
           "caxis": {
            "gridcolor": "white",
            "linecolor": "white",
            "ticks": ""
           }
          },
          "title": {
           "x": 0.05
          },
          "xaxis": {
           "automargin": true,
           "gridcolor": "white",
           "linecolor": "white",
           "ticks": "",
           "title": {
            "standoff": 15
           },
           "zerolinecolor": "white",
           "zerolinewidth": 2
          },
          "yaxis": {
           "automargin": true,
           "gridcolor": "white",
           "linecolor": "white",
           "ticks": "",
           "title": {
            "standoff": 15
           },
           "zerolinecolor": "white",
           "zerolinewidth": 2
          }
         }
        },
        "title": {
         "text": "Ruta Óptima: Sede Posgrados EIA, Envigado, Colombia → Oficinas Almacenes Éxito, Envigado, Colombia"
        },
        "width": 1000
       }
      }
     },
     "metadata": {},
     "output_type": "display_data"
    }
   ],
   "source": [
    "# Ejecutar el ejemplo\n",
    "resultado_ejemplo = ejemplo_uso()"
   ]
  },
  {
   "cell_type": "markdown",
   "id": "2fc2916b",
   "metadata": {},
   "source": [
    "## Uso personalizado\n",
    "\n",
    "Puedes usar la función principal directamente así:"
   ]
  },
  {
   "cell_type": "code",
   "execution_count": 30,
   "id": "c4a0c939",
   "metadata": {},
   "outputs": [
    {
     "name": "stdout",
     "output_type": "stream",
     "text": [
      "=== PRIMERA EJECUCIÓN (descarga la ciudad) ===\n",
      "Procesando ruta de 'Carrera 84B, Loma de Los Bernal, Comuna 16 - Belén, Perímetro Urbano Medellín, Medellín, Valle de Aburrá, Antioquia, RAP del Agua y la Montaña, 050026, Colombia' a 'Unicentro, Medellín, Colombia' en Medellín, Antioquia, Colombia...\n",
      "💾 Usando ciudad desde caché (no se descarga nuevamente)...\n",
      "🔍 Buscando ubicaciones...\n",
      "✅ Inicio: Carrera 84B, Loma de Los Bernal, Comuna 16 - Belén, Perímetro Urbano Medellín, Medellín, Valle de Aburrá, Antioquia, RAP del Agua y la Montaña, 050026, Colombia\n",
      "✅ Destino: Unicentro, Los Conquistadores, Comuna 11 - Laureles-Estadio, Perímetro Urbano Medellín, Medellín, Valle de Aburrá, Antioquia, RAP del Agua y la Montaña, 050031, Colombia\n",
      "✅ Inicio: Carrera 84B, Loma de Los Bernal, Comuna 16 - Belén, Perímetro Urbano Medellín, Medellín, Valle de Aburrá, Antioquia, RAP del Agua y la Montaña, 050026, Colombia\n",
      "✅ Destino: Unicentro, Los Conquistadores, Comuna 11 - Laureles-Estadio, Perímetro Urbano Medellín, Medellín, Valle de Aburrá, Antioquia, RAP del Agua y la Montaña, 050031, Colombia\n",
      "✅ Penalizaciones ya calculadas (desde caché)\n",
      "✅ Penalizaciones ya calculadas (desde caché)\n",
      "🚀 Calculando ruta óptima con A*...\n",
      "🚀 Calculando ruta óptima con A*...\n",
      "✅ Ruta calculada: 5601 m, 2766.4 segundos\n",
      "🗺️ Generando mapa interactivo...\n",
      "✅ Ruta calculada: 5601 m, 2766.4 segundos\n",
      "🗺️ Generando mapa interactivo...\n",
      "🎉 ¡Ruta generada exitosamente!\n",
      "📏 Distancia total: 5601 metros\n",
      "⏱️ Tiempo estimado: 46.1 minutos\n",
      "💾 Caché: Usado\n",
      "\n",
      "🎯 Primera ruta generada:\n",
      "📍 Origen: Carrera 84B, Loma de Los Bernal, Comuna 16 - Belén, Perímetro Urbano Medellín, Medellín, Valle de Aburrá, Antioquia, RAP del Agua y la Montaña, 050026, Colombia\n",
      "🏁 Destino: Unicentro, Los Conquistadores, Comuna 11 - Laureles-Estadio, Perímetro Urbano Medellín, Medellín, Valle de Aburrá, Antioquia, RAP del Agua y la Montaña, 050031, Colombia\n",
      "📏 Distancia: 5601 metros\n",
      "⏱️ Tiempo estimado: 46.1 minutos\n",
      "🗺️ Mostrando mapa de la primera ruta...\n",
      "🎉 ¡Ruta generada exitosamente!\n",
      "📏 Distancia total: 5601 metros\n",
      "⏱️ Tiempo estimado: 46.1 minutos\n",
      "💾 Caché: Usado\n",
      "\n",
      "🎯 Primera ruta generada:\n",
      "📍 Origen: Carrera 84B, Loma de Los Bernal, Comuna 16 - Belén, Perímetro Urbano Medellín, Medellín, Valle de Aburrá, Antioquia, RAP del Agua y la Montaña, 050026, Colombia\n",
      "🏁 Destino: Unicentro, Los Conquistadores, Comuna 11 - Laureles-Estadio, Perímetro Urbano Medellín, Medellín, Valle de Aburrá, Antioquia, RAP del Agua y la Montaña, 050031, Colombia\n",
      "📏 Distancia: 5601 metros\n",
      "⏱️ Tiempo estimado: 46.1 minutos\n",
      "🗺️ Mostrando mapa de la primera ruta...\n"
     ]
    },
    {
     "data": {
      "application/vnd.plotly.v1+json": {
       "config": {
        "plotlyServerURL": "https://plot.ly"
       },
       "data": [
        {
         "hovertemplate": "Segmento 1<br>Distancia: 5.0m<br>Tiempo: 1.0s<extra></extra>",
         "lat": [
          6.2186218,
          6.2186455
         ],
         "line": {
          "color": "red",
          "width": 4
         },
         "lon": [
          -75.6070792,
          -75.6070371
         ],
         "mode": "lines",
         "showlegend": false,
         "type": "scattermap"
        },
        {
         "hovertemplate": "Segmento 2<br>Distancia: 5.0m<br>Tiempo: 1.0s<extra></extra>",
         "lat": [
          6.2186455,
          6.2186695
         ],
         "line": {
          "color": "red",
          "width": 4
         },
         "lon": [
          -75.6070371,
          -75.6070029
         ],
         "mode": "lines",
         "showlegend": false,
         "type": "scattermap"
        },
        {
         "hovertemplate": "Segmento 3<br>Distancia: 4.0m<br>Tiempo: 1.0s<extra></extra>",
         "lat": [
          6.2186695,
          6.2186935
         ],
         "line": {
          "color": "red",
          "width": 4
         },
         "lon": [
          -75.6070029,
          -75.6069767
         ],
         "mode": "lines",
         "showlegend": false,
         "type": "scattermap"
        },
        {
         "hovertemplate": "Segmento 4<br>Distancia: 8.0m<br>Tiempo: 1.0s<extra></extra>",
         "lat": [
          6.2186935,
          6.2187607
         ],
         "line": {
          "color": "red",
          "width": 4
         },
         "lon": [
          -75.6069767,
          -75.6069583
         ],
         "mode": "lines",
         "showlegend": false,
         "type": "scattermap"
        },
        {
         "hovertemplate": "Segmento 5<br>Distancia: 10.0m<br>Tiempo: 2.0s<extra></extra>",
         "lat": [
          6.2187607,
          6.2188516
         ],
         "line": {
          "color": "red",
          "width": 4
         },
         "lon": [
          -75.6069583,
          -75.6069476
         ],
         "mode": "lines",
         "showlegend": false,
         "type": "scattermap"
        },
        {
         "hovertemplate": "Segmento 6<br>Distancia: 48.0m<br>Tiempo: 9.0s<extra></extra>",
         "lat": [
          6.2188516,
          6.2192664
         ],
         "line": {
          "color": "red",
          "width": 4
         },
         "lon": [
          -75.6069476,
          -75.6070583
         ],
         "mode": "lines",
         "showlegend": false,
         "type": "scattermap"
        },
        {
         "hovertemplate": "Segmento 7<br>Distancia: 60.0m<br>Tiempo: 11.0s<extra></extra>",
         "lat": [
          6.2192664,
          6.2197866
         ],
         "line": {
          "color": "red",
          "width": 4
         },
         "lon": [
          -75.6070583,
          -75.6071953
         ],
         "mode": "lines",
         "showlegend": false,
         "type": "scattermap"
        },
        {
         "hovertemplate": "Segmento 8<br>Distancia: 3.0m<br>Tiempo: 1.0s<extra></extra>",
         "lat": [
          6.2197866,
          6.2198149
         ],
         "line": {
          "color": "red",
          "width": 4
         },
         "lon": [
          -75.6071953,
          -75.6072049
         ],
         "mode": "lines",
         "showlegend": false,
         "type": "scattermap"
        },
        {
         "hovertemplate": "Segmento 9<br>Distancia: 3.0m<br>Tiempo: 1.0s<extra></extra>",
         "lat": [
          6.2198149,
          6.2198357
         ],
         "line": {
          "color": "red",
          "width": 4
         },
         "lon": [
          -75.6072049,
          -75.6072198
         ],
         "mode": "lines",
         "showlegend": false,
         "type": "scattermap"
        },
        {
         "hovertemplate": "Segmento 10<br>Distancia: 3.0m<br>Tiempo: 0.0s<extra></extra>",
         "lat": [
          6.2198357,
          6.2198491
         ],
         "line": {
          "color": "red",
          "width": 4
         },
         "lon": [
          -75.6072198,
          -75.6072393
         ],
         "mode": "lines",
         "showlegend": false,
         "type": "scattermap"
        },
        {
         "hovertemplate": "Segmento 11<br>Distancia: 39.0m<br>Tiempo: 7.0s<extra></extra>",
         "lat": [
          6.2198491,
          6.2199979
         ],
         "line": {
          "color": "red",
          "width": 4
         },
         "lon": [
          -75.6072393,
          -75.6075614
         ],
         "mode": "lines",
         "showlegend": false,
         "type": "scattermap"
        },
        {
         "hovertemplate": "Segmento 12<br>Distancia: 11.0m<br>Tiempo: 2.0s<extra></extra>",
         "lat": [
          6.2199979,
          6.2200275
         ],
         "line": {
          "color": "red",
          "width": 4
         },
         "lon": [
          -75.6075614,
          -75.6074709
         ],
         "mode": "lines",
         "showlegend": false,
         "type": "scattermap"
        },
        {
         "hovertemplate": "Segmento 13<br>Distancia: 10.0m<br>Tiempo: 2.0s<extra></extra>",
         "lat": [
          6.2200275,
          6.2200694
         ],
         "line": {
          "color": "red",
          "width": 4
         },
         "lon": [
          -75.6074709,
          -75.6073871
         ],
         "mode": "lines",
         "showlegend": false,
         "type": "scattermap"
        },
        {
         "hovertemplate": "Segmento 14<br>Distancia: 11.0m<br>Tiempo: 2.0s<extra></extra>",
         "lat": [
          6.2200694,
          6.2201433
         ],
         "line": {
          "color": "red",
          "width": 4
         },
         "lon": [
          -75.6073871,
          -75.607318
         ],
         "mode": "lines",
         "showlegend": false,
         "type": "scattermap"
        },
        {
         "hovertemplate": "Segmento 15<br>Distancia: 34.0m<br>Tiempo: 6.0s<extra></extra>",
         "lat": [
          6.2201433,
          6.2204501
         ],
         "line": {
          "color": "red",
          "width": 4
         },
         "lon": [
          -75.607318,
          -75.6073259
         ],
         "mode": "lines",
         "showlegend": false,
         "type": "scattermap"
        },
        {
         "hovertemplate": "Segmento 16<br>Distancia: 109.0m<br>Tiempo: 20.0s<extra></extra>",
         "lat": [
          6.2204501,
          6.221432
         ],
         "line": {
          "color": "red",
          "width": 4
         },
         "lon": [
          -75.6073259,
          -75.6073626
         ],
         "mode": "lines",
         "showlegend": false,
         "type": "scattermap"
        },
        {
         "hovertemplate": "Segmento 17<br>Distancia: 41.0m<br>Tiempo: 7.0s<extra></extra>",
         "lat": [
          6.221432,
          6.2214504
         ],
         "line": {
          "color": "red",
          "width": 4
         },
         "lon": [
          -75.6073626,
          -75.6069922
         ],
         "mode": "lines",
         "showlegend": false,
         "type": "scattermap"
        },
        {
         "hovertemplate": "Segmento 18<br>Distancia: 40.0m<br>Tiempo: 7.0s<extra></extra>",
         "lat": [
          6.2214504,
          6.2214614
         ],
         "line": {
          "color": "red",
          "width": 4
         },
         "lon": [
          -75.6069922,
          -75.6066325
         ],
         "mode": "lines",
         "showlegend": false,
         "type": "scattermap"
        },
        {
         "hovertemplate": "Segmento 19<br>Distancia: 40.0m<br>Tiempo: 7.0s<extra></extra>",
         "lat": [
          6.2214614,
          6.2214772
         ],
         "line": {
          "color": "red",
          "width": 4
         },
         "lon": [
          -75.6066325,
          -75.6062694
         ],
         "mode": "lines",
         "showlegend": false,
         "type": "scattermap"
        },
        {
         "hovertemplate": "Segmento 20<br>Distancia: 65.0m<br>Tiempo: 12.0s<extra></extra>",
         "lat": [
          6.2214772,
          6.2220637
         ],
         "line": {
          "color": "red",
          "width": 4
         },
         "lon": [
          -75.6062694,
          -75.6062864
         ],
         "mode": "lines",
         "showlegend": false,
         "type": "scattermap"
        },
        {
         "hovertemplate": "Segmento 21<br>Distancia: 54.0m<br>Tiempo: 10.0s<extra></extra>",
         "lat": [
          6.2220637,
          6.2225534
         ],
         "line": {
          "color": "red",
          "width": 4
         },
         "lon": [
          -75.6062864,
          -75.6063039
         ],
         "mode": "lines",
         "showlegend": false,
         "type": "scattermap"
        },
        {
         "hovertemplate": "Segmento 22<br>Distancia: 20.0m<br>Tiempo: 4.0s<extra></extra>",
         "lat": [
          6.2225534,
          6.2227361
         ],
         "line": {
          "color": "red",
          "width": 4
         },
         "lon": [
          -75.6063039,
          -75.6063049
         ],
         "mode": "lines",
         "showlegend": false,
         "type": "scattermap"
        },
        {
         "hovertemplate": "Segmento 23<br>Distancia: 44.0m<br>Tiempo: 8.0s<extra></extra>",
         "lat": [
          6.2227361,
          6.222752
         ],
         "line": {
          "color": "red",
          "width": 4
         },
         "lon": [
          -75.6063049,
          -75.6059051
         ],
         "mode": "lines",
         "showlegend": false,
         "type": "scattermap"
        },
        {
         "hovertemplate": "Segmento 24<br>Distancia: 49.0m<br>Tiempo: 9.0s<extra></extra>",
         "lat": [
          6.222752,
          6.2227707
         ],
         "line": {
          "color": "red",
          "width": 4
         },
         "lon": [
          -75.6059051,
          -75.6054648
         ],
         "mode": "lines",
         "showlegend": false,
         "type": "scattermap"
        },
        {
         "hovertemplate": "Segmento 25<br>Distancia: 35.0m<br>Tiempo: 6.0s<extra></extra>",
         "lat": [
          6.2227707,
          6.2227851
         ],
         "line": {
          "color": "red",
          "width": 4
         },
         "lon": [
          -75.6054648,
          -75.6051475
         ],
         "mode": "lines",
         "showlegend": false,
         "type": "scattermap"
        },
        {
         "hovertemplate": "Segmento 26<br>Distancia: 36.0m<br>Tiempo: 7.0s<extra></extra>",
         "lat": [
          6.2227851,
          6.2227927
         ],
         "line": {
          "color": "red",
          "width": 4
         },
         "lon": [
          -75.6051475,
          -75.6048185
         ],
         "mode": "lines",
         "showlegend": false,
         "type": "scattermap"
        },
        {
         "hovertemplate": "Segmento 27<br>Distancia: 121.0m<br>Tiempo: 22.0s<extra></extra>",
         "lat": [
          6.2227927,
          6.2229706
         ],
         "line": {
          "color": "red",
          "width": 4
         },
         "lon": [
          -75.6048185,
          -75.6037381
         ],
         "mode": "lines",
         "showlegend": false,
         "type": "scattermap"
        },
        {
         "hovertemplate": "Segmento 28<br>Distancia: 104.0m<br>Tiempo: 19.0s<extra></extra>",
         "lat": [
          6.2229706,
          6.2228448
         ],
         "line": {
          "color": "red",
          "width": 4
         },
         "lon": [
          -75.6037381,
          -75.6028061
         ],
         "mode": "lines",
         "showlegend": false,
         "type": "scattermap"
        },
        {
         "hovertemplate": "Segmento 29<br>Distancia: 115.0m<br>Tiempo: 21.0s<extra></extra>",
         "lat": [
          6.2228448,
          6.2229522
         ],
         "line": {
          "color": "red",
          "width": 4
         },
         "lon": [
          -75.6028061,
          -75.6017741
         ],
         "mode": "lines",
         "showlegend": false,
         "type": "scattermap"
        },
        {
         "hovertemplate": "Segmento 30<br>Distancia: 39.0m<br>Tiempo: 7.0s<extra></extra>",
         "lat": [
          6.2229522,
          6.2232963
         ],
         "line": {
          "color": "red",
          "width": 4
         },
         "lon": [
          -75.6017741,
          -75.6017335
         ],
         "mode": "lines",
         "showlegend": false,
         "type": "scattermap"
        },
        {
         "hovertemplate": "Segmento 31<br>Distancia: 84.0m<br>Tiempo: 15.0s<extra></extra>",
         "lat": [
          6.2232963,
          6.2240517
         ],
         "line": {
          "color": "red",
          "width": 4
         },
         "lon": [
          -75.6017335,
          -75.6016544
         ],
         "mode": "lines",
         "showlegend": false,
         "type": "scattermap"
        },
        {
         "hovertemplate": "Segmento 32<br>Distancia: 39.0m<br>Tiempo: 7.0s<extra></extra>",
         "lat": [
          6.2240517,
          6.2243902
         ],
         "line": {
          "color": "red",
          "width": 4
         },
         "lon": [
          -75.6016544,
          -75.6015669
         ],
         "mode": "lines",
         "showlegend": false,
         "type": "scattermap"
        },
        {
         "hovertemplate": "Segmento 33<br>Distancia: 41.0m<br>Tiempo: 5.0s<extra></extra>",
         "lat": [
          6.2243902,
          6.2243412
         ],
         "line": {
          "color": "red",
          "width": 4
         },
         "lon": [
          -75.6015669,
          -75.601203
         ],
         "mode": "lines",
         "showlegend": false,
         "type": "scattermap"
        },
        {
         "hovertemplate": "Segmento 34<br>Distancia: 47.0m<br>Tiempo: 8.0s<extra></extra>",
         "lat": [
          6.2243412,
          6.224757
         ],
         "line": {
          "color": "red",
          "width": 4
         },
         "lon": [
          -75.601203,
          -75.6011422
         ],
         "mode": "lines",
         "showlegend": false,
         "type": "scattermap"
        },
        {
         "hovertemplate": "Segmento 35<br>Distancia: 50.0m<br>Tiempo: 9.0s<extra></extra>",
         "lat": [
          6.224757,
          6.2252003
         ],
         "line": {
          "color": "red",
          "width": 4
         },
         "lon": [
          -75.6011422,
          -75.6010818
         ],
         "mode": "lines",
         "showlegend": false,
         "type": "scattermap"
        },
        {
         "hovertemplate": "Segmento 36<br>Distancia: 74.0m<br>Tiempo: 13.0s<extra></extra>",
         "lat": [
          6.2252003,
          6.225109
         ],
         "line": {
          "color": "red",
          "width": 4
         },
         "lon": [
          -75.6010818,
          -75.6004212
         ],
         "mode": "lines",
         "showlegend": false,
         "type": "scattermap"
        },
        {
         "hovertemplate": "Segmento 37<br>Distancia: 52.0m<br>Tiempo: 9.0s<extra></extra>",
         "lat": [
          6.225109,
          6.2255756
         ],
         "line": {
          "color": "red",
          "width": 4
         },
         "lon": [
          -75.6004212,
          -75.6003746
         ],
         "mode": "lines",
         "showlegend": false,
         "type": "scattermap"
        },
        {
         "hovertemplate": "Segmento 38<br>Distancia: 9.0m<br>Tiempo: 2.0s<extra></extra>",
         "lat": [
          6.2255756,
          6.2255724
         ],
         "line": {
          "color": "red",
          "width": 4
         },
         "lon": [
          -75.6003746,
          -75.6002963
         ],
         "mode": "lines",
         "showlegend": false,
         "type": "scattermap"
        },
        {
         "hovertemplate": "Segmento 39<br>Distancia: 9.0m<br>Tiempo: 2.0s<extra></extra>",
         "lat": [
          6.2255724,
          6.2255676
         ],
         "line": {
          "color": "red",
          "width": 4
         },
         "lon": [
          -75.6002963,
          -75.6002148
         ],
         "mode": "lines",
         "showlegend": false,
         "type": "scattermap"
        },
        {
         "hovertemplate": "Segmento 40<br>Distancia: 16.0m<br>Tiempo: 3.0s<extra></extra>",
         "lat": [
          6.2255676,
          6.2255556
         ],
         "line": {
          "color": "red",
          "width": 4
         },
         "lon": [
          -75.6002148,
          -75.6000704
         ],
         "mode": "lines",
         "showlegend": false,
         "type": "scattermap"
        },
        {
         "hovertemplate": "Segmento 41<br>Distancia: 25.0m<br>Tiempo: 2.0s<extra></extra>",
         "lat": [
          6.2255556,
          6.2257101
         ],
         "line": {
          "color": "red",
          "width": 4
         },
         "lon": [
          -75.6000704,
          -75.6002386
         ],
         "mode": "lines",
         "showlegend": false,
         "type": "scattermap"
        },
        {
         "hovertemplate": "Segmento 42<br>Distancia: 19.0m<br>Tiempo: 1.0s<extra></extra>",
         "lat": [
          6.2257101,
          6.225826
         ],
         "line": {
          "color": "red",
          "width": 4
         },
         "lon": [
          -75.6002386,
          -75.600362
         ],
         "mode": "lines",
         "showlegend": false,
         "type": "scattermap"
        },
        {
         "hovertemplate": "Segmento 43<br>Distancia: 167.0m<br>Tiempo: 10.0s<extra></extra>",
         "lat": [
          6.225826,
          6.2268582
         ],
         "line": {
          "color": "red",
          "width": 4
         },
         "lon": [
          -75.600362,
          -75.6014635
         ],
         "mode": "lines",
         "showlegend": false,
         "type": "scattermap"
        },
        {
         "hovertemplate": "Segmento 44<br>Distancia: 10.0m<br>Tiempo: 1.0s<extra></extra>",
         "lat": [
          6.2268582,
          6.2269197
         ],
         "line": {
          "color": "red",
          "width": 4
         },
         "lon": [
          -75.6014635,
          -75.6015297
         ],
         "mode": "lines",
         "showlegend": false,
         "type": "scattermap"
        },
        {
         "hovertemplate": "Segmento 45<br>Distancia: 6.0m<br>Tiempo: 0.0s<extra></extra>",
         "lat": [
          6.2269197,
          6.226959
         ],
         "line": {
          "color": "red",
          "width": 4
         },
         "lon": [
          -75.6015297,
          -75.6015659
         ],
         "mode": "lines",
         "showlegend": false,
         "type": "scattermap"
        },
        {
         "hovertemplate": "Segmento 46<br>Distancia: 19.0m<br>Tiempo: 1.0s<extra></extra>",
         "lat": [
          6.226959,
          6.2270853
         ],
         "line": {
          "color": "red",
          "width": 4
         },
         "lon": [
          -75.6015659,
          -75.6016837
         ],
         "mode": "lines",
         "showlegend": false,
         "type": "scattermap"
        },
        {
         "hovertemplate": "Segmento 47<br>Distancia: 11.0m<br>Tiempo: 1.0s<extra></extra>",
         "lat": [
          6.2270853,
          6.2271529
         ],
         "line": {
          "color": "red",
          "width": 4
         },
         "lon": [
          -75.6016837,
          -75.6017504
         ],
         "mode": "lines",
         "showlegend": false,
         "type": "scattermap"
        },
        {
         "hovertemplate": "Segmento 48<br>Distancia: 5.0m<br>Tiempo: 0.0s<extra></extra>",
         "lat": [
          6.2271529,
          6.2271876
         ],
         "line": {
          "color": "red",
          "width": 4
         },
         "lon": [
          -75.6017504,
          -75.6017763
         ],
         "mode": "lines",
         "showlegend": false,
         "type": "scattermap"
        },
        {
         "hovertemplate": "Segmento 49<br>Distancia: 6.0m<br>Tiempo: 0.0s<extra></extra>",
         "lat": [
          6.2271876,
          6.2272357
         ],
         "line": {
          "color": "red",
          "width": 4
         },
         "lon": [
          -75.6017763,
          -75.6017993
         ],
         "mode": "lines",
         "showlegend": false,
         "type": "scattermap"
        },
        {
         "hovertemplate": "Segmento 50<br>Distancia: 7.0m<br>Tiempo: 0.0s<extra></extra>",
         "lat": [
          6.2272357,
          6.2273007
         ],
         "line": {
          "color": "red",
          "width": 4
         },
         "lon": [
          -75.6017993,
          -75.6018137
         ],
         "mode": "lines",
         "showlegend": false,
         "type": "scattermap"
        },
        {
         "hovertemplate": "Segmento 51<br>Distancia: 21.0m<br>Tiempo: 1.0s<extra></extra>",
         "lat": [
          6.2273007,
          6.2274894
         ],
         "line": {
          "color": "red",
          "width": 4
         },
         "lon": [
          -75.6018137,
          -75.6018332
         ],
         "mode": "lines",
         "showlegend": false,
         "type": "scattermap"
        },
        {
         "hovertemplate": "Segmento 52<br>Distancia: 15.0m<br>Tiempo: 1.0s<extra></extra>",
         "lat": [
          6.2274894,
          6.2276237
         ],
         "line": {
          "color": "red",
          "width": 4
         },
         "lon": [
          -75.6018332,
          -75.6018471
         ],
         "mode": "lines",
         "showlegend": false,
         "type": "scattermap"
        },
        {
         "hovertemplate": "Segmento 53<br>Distancia: 67.0m<br>Tiempo: 4.0s<extra></extra>",
         "lat": [
          6.2276237,
          6.2282184
         ],
         "line": {
          "color": "red",
          "width": 4
         },
         "lon": [
          -75.6018471,
          -75.6019184
         ],
         "mode": "lines",
         "showlegend": false,
         "type": "scattermap"
        },
        {
         "hovertemplate": "Segmento 54<br>Distancia: 57.0m<br>Tiempo: 3.0s<extra></extra>",
         "lat": [
          6.2282184,
          6.2287264
         ],
         "line": {
          "color": "red",
          "width": 4
         },
         "lon": [
          -75.6019184,
          -75.6019904
         ],
         "mode": "lines",
         "showlegend": false,
         "type": "scattermap"
        },
        {
         "hovertemplate": "Segmento 55<br>Distancia: 18.0m<br>Tiempo: 1.0s<extra></extra>",
         "lat": [
          6.2287264,
          6.2288855
         ],
         "line": {
          "color": "red",
          "width": 4
         },
         "lon": [
          -75.6019904,
          -75.6020108
         ],
         "mode": "lines",
         "showlegend": false,
         "type": "scattermap"
        },
        {
         "hovertemplate": "Segmento 56<br>Distancia: 15.0m<br>Tiempo: 1.0s<extra></extra>",
         "lat": [
          6.2288855,
          6.2290185
         ],
         "line": {
          "color": "red",
          "width": 4
         },
         "lon": [
          -75.6020108,
          -75.6020202
         ],
         "mode": "lines",
         "showlegend": false,
         "type": "scattermap"
        },
        {
         "hovertemplate": "Segmento 57<br>Distancia: 18.0m<br>Tiempo: 1.0s<extra></extra>",
         "lat": [
          6.2290185,
          6.2291764
         ],
         "line": {
          "color": "red",
          "width": 4
         },
         "lon": [
          -75.6020202,
          -75.602023
         ],
         "mode": "lines",
         "showlegend": false,
         "type": "scattermap"
        },
        {
         "hovertemplate": "Segmento 58<br>Distancia: 8.0m<br>Tiempo: 1.0s<extra></extra>",
         "lat": [
          6.2291764,
          6.2292525
         ],
         "line": {
          "color": "red",
          "width": 4
         },
         "lon": [
          -75.602023,
          -75.6020269
         ],
         "mode": "lines",
         "showlegend": false,
         "type": "scattermap"
        },
        {
         "hovertemplate": "Segmento 59<br>Distancia: 14.0m<br>Tiempo: 1.0s<extra></extra>",
         "lat": [
          6.2292525,
          6.2293746
         ],
         "line": {
          "color": "red",
          "width": 4
         },
         "lon": [
          -75.6020269,
          -75.6020284
         ],
         "mode": "lines",
         "showlegend": false,
         "type": "scattermap"
        },
        {
         "hovertemplate": "Segmento 60<br>Distancia: 11.0m<br>Tiempo: 1.0s<extra></extra>",
         "lat": [
          6.2293746,
          6.2294764
         ],
         "line": {
          "color": "red",
          "width": 4
         },
         "lon": [
          -75.6020284,
          -75.6020295
         ],
         "mode": "lines",
         "showlegend": false,
         "type": "scattermap"
        },
        {
         "hovertemplate": "Segmento 61<br>Distancia: 31.0m<br>Tiempo: 2.0s<extra></extra>",
         "lat": [
          6.2294764,
          6.2297587
         ],
         "line": {
          "color": "red",
          "width": 4
         },
         "lon": [
          -75.6020295,
          -75.6020298
         ],
         "mode": "lines",
         "showlegend": false,
         "type": "scattermap"
        },
        {
         "hovertemplate": "Segmento 62<br>Distancia: 28.0m<br>Tiempo: 2.0s<extra></extra>",
         "lat": [
          6.2297587,
          6.2300097
         ],
         "line": {
          "color": "red",
          "width": 4
         },
         "lon": [
          -75.6020298,
          -75.6020327
         ],
         "mode": "lines",
         "showlegend": false,
         "type": "scattermap"
        },
        {
         "hovertemplate": "Segmento 63<br>Distancia: 8.0m<br>Tiempo: 0.0s<extra></extra>",
         "lat": [
          6.2300097,
          6.230084
         ],
         "line": {
          "color": "red",
          "width": 4
         },
         "lon": [
          -75.6020327,
          -75.6020336
         ],
         "mode": "lines",
         "showlegend": false,
         "type": "scattermap"
        },
        {
         "hovertemplate": "Segmento 64<br>Distancia: 51.0m<br>Tiempo: 3.0s<extra></extra>",
         "lat": [
          6.230084,
          6.2305449
         ],
         "line": {
          "color": "red",
          "width": 4
         },
         "lon": [
          -75.6020336,
          -75.602039
         ],
         "mode": "lines",
         "showlegend": false,
         "type": "scattermap"
        },
        {
         "hovertemplate": "Segmento 65<br>Distancia: 7.0m<br>Tiempo: 0.0s<extra></extra>",
         "lat": [
          6.2305449,
          6.2306119
         ],
         "line": {
          "color": "red",
          "width": 4
         },
         "lon": [
          -75.602039,
          -75.6020364
         ],
         "mode": "lines",
         "showlegend": false,
         "type": "scattermap"
        },
        {
         "hovertemplate": "Segmento 66<br>Distancia: 5.0m<br>Tiempo: 0.0s<extra></extra>",
         "lat": [
          6.2306119,
          6.2306556
         ],
         "line": {
          "color": "red",
          "width": 4
         },
         "lon": [
          -75.6020364,
          -75.6020239
         ],
         "mode": "lines",
         "showlegend": false,
         "type": "scattermap"
        },
        {
         "hovertemplate": "Segmento 67<br>Distancia: 9.0m<br>Tiempo: 1.0s<extra></extra>",
         "lat": [
          6.2306556,
          6.2307343
         ],
         "line": {
          "color": "red",
          "width": 4
         },
         "lon": [
          -75.6020239,
          -75.6019938
         ],
         "mode": "lines",
         "showlegend": false,
         "type": "scattermap"
        },
        {
         "hovertemplate": "Segmento 68<br>Distancia: 11.0m<br>Tiempo: 1.0s<extra></extra>",
         "lat": [
          6.2307343,
          6.2308265
         ],
         "line": {
          "color": "red",
          "width": 4
         },
         "lon": [
          -75.6019938,
          -75.6019494
         ],
         "mode": "lines",
         "showlegend": false,
         "type": "scattermap"
        },
        {
         "hovertemplate": "Segmento 69<br>Distancia: 7.0m<br>Tiempo: 0.0s<extra></extra>",
         "lat": [
          6.2308265,
          6.2308613
         ],
         "line": {
          "color": "red",
          "width": 4
         },
         "lon": [
          -75.6019494,
          -75.6019002
         ],
         "mode": "lines",
         "showlegend": false,
         "type": "scattermap"
        },
        {
         "hovertemplate": "Segmento 70<br>Distancia: 7.0m<br>Tiempo: 0.0s<extra></extra>",
         "lat": [
          6.2308613,
          6.2309051
         ],
         "line": {
          "color": "red",
          "width": 4
         },
         "lon": [
          -75.6019002,
          -75.6018589
         ],
         "mode": "lines",
         "showlegend": false,
         "type": "scattermap"
        },
        {
         "hovertemplate": "Segmento 71<br>Distancia: 7.0m<br>Tiempo: 0.0s<extra></extra>",
         "lat": [
          6.2309051,
          6.2309563
         ],
         "line": {
          "color": "red",
          "width": 4
         },
         "lon": [
          -75.6018589,
          -75.6018273
         ],
         "mode": "lines",
         "showlegend": false,
         "type": "scattermap"
        },
        {
         "hovertemplate": "Segmento 72<br>Distancia: 5.0m<br>Tiempo: 0.0s<extra></extra>",
         "lat": [
          6.2309563,
          6.2309837
         ],
         "line": {
          "color": "red",
          "width": 4
         },
         "lon": [
          -75.6018273,
          -75.6017873
         ],
         "mode": "lines",
         "showlegend": false,
         "type": "scattermap"
        },
        {
         "hovertemplate": "Segmento 73<br>Distancia: 6.0m<br>Tiempo: 0.0s<extra></extra>",
         "lat": [
          6.2309837,
          6.2310083
         ],
         "line": {
          "color": "red",
          "width": 4
         },
         "lon": [
          -75.6017873,
          -75.6017395
         ],
         "mode": "lines",
         "showlegend": false,
         "type": "scattermap"
        },
        {
         "hovertemplate": "Segmento 74<br>Distancia: 5.0m<br>Tiempo: 0.0s<extra></extra>",
         "lat": [
          6.2310083,
          6.2310241
         ],
         "line": {
          "color": "red",
          "width": 4
         },
         "lon": [
          -75.6017395,
          -75.6017019
         ],
         "mode": "lines",
         "showlegend": false,
         "type": "scattermap"
        },
        {
         "hovertemplate": "Segmento 75<br>Distancia: 7.0m<br>Tiempo: 0.0s<extra></extra>",
         "lat": [
          6.2310241,
          6.2310374
         ],
         "line": {
          "color": "red",
          "width": 4
         },
         "lon": [
          -75.6017019,
          -75.6016431
         ],
         "mode": "lines",
         "showlegend": false,
         "type": "scattermap"
        },
        {
         "hovertemplate": "Segmento 76<br>Distancia: 5.0m<br>Tiempo: 0.0s<extra></extra>",
         "lat": [
          6.2310374,
          6.2310452
         ],
         "line": {
          "color": "red",
          "width": 4
         },
         "lon": [
          -75.6016431,
          -75.6015996
         ],
         "mode": "lines",
         "showlegend": false,
         "type": "scattermap"
        },
        {
         "hovertemplate": "Segmento 77<br>Distancia: 4.0m<br>Tiempo: 0.0s<extra></extra>",
         "lat": [
          6.2310452,
          6.2310484
         ],
         "line": {
          "color": "red",
          "width": 4
         },
         "lon": [
          -75.6015996,
          -75.601567
         ],
         "mode": "lines",
         "showlegend": false,
         "type": "scattermap"
        },
        {
         "hovertemplate": "Segmento 78<br>Distancia: 11.0m<br>Tiempo: 1.0s<extra></extra>",
         "lat": [
          6.2310484,
          6.2310518
         ],
         "line": {
          "color": "red",
          "width": 4
         },
         "lon": [
          -75.601567,
          -75.6014667
         ],
         "mode": "lines",
         "showlegend": false,
         "type": "scattermap"
        },
        {
         "hovertemplate": "Segmento 79<br>Distancia: 12.0m<br>Tiempo: 1.0s<extra></extra>",
         "lat": [
          6.2310518,
          6.2310545
         ],
         "line": {
          "color": "red",
          "width": 4
         },
         "lon": [
          -75.6014667,
          -75.6013572
         ],
         "mode": "lines",
         "showlegend": false,
         "type": "scattermap"
        },
        {
         "hovertemplate": "Segmento 80<br>Distancia: 60.0m<br>Tiempo: 4.0s<extra></extra>",
         "lat": [
          6.2310545,
          6.2310852
         ],
         "line": {
          "color": "red",
          "width": 4
         },
         "lon": [
          -75.6013572,
          -75.6008187
         ],
         "mode": "lines",
         "showlegend": false,
         "type": "scattermap"
        },
        {
         "hovertemplate": "Segmento 81<br>Distancia: 29.0m<br>Tiempo: 2.0s<extra></extra>",
         "lat": [
          6.2310852,
          6.2310967
         ],
         "line": {
          "color": "red",
          "width": 4
         },
         "lon": [
          -75.6008187,
          -75.6005574
         ],
         "mode": "lines",
         "showlegend": false,
         "type": "scattermap"
        },
        {
         "hovertemplate": "Segmento 82<br>Distancia: 102.0m<br>Tiempo: 7.0s<extra></extra>",
         "lat": [
          6.2310967,
          6.2311481
         ],
         "line": {
          "color": "red",
          "width": 4
         },
         "lon": [
          -75.6005574,
          -75.599638
         ],
         "mode": "lines",
         "showlegend": false,
         "type": "scattermap"
        },
        {
         "hovertemplate": "Segmento 83<br>Distancia: 98.0m<br>Tiempo: 7.0s<extra></extra>",
         "lat": [
          6.2311481,
          6.2311978
         ],
         "line": {
          "color": "red",
          "width": 4
         },
         "lon": [
          -75.599638,
          -75.5987494
         ],
         "mode": "lines",
         "showlegend": false,
         "type": "scattermap"
        },
        {
         "hovertemplate": "Segmento 84<br>Distancia: 59.0m<br>Tiempo: 4.0s<extra></extra>",
         "lat": [
          6.2311978,
          6.2312277
         ],
         "line": {
          "color": "red",
          "width": 4
         },
         "lon": [
          -75.5987494,
          -75.5982146
         ],
         "mode": "lines",
         "showlegend": false,
         "type": "scattermap"
        },
        {
         "hovertemplate": "Segmento 85<br>Distancia: 9.0m<br>Tiempo: 1.0s<extra></extra>",
         "lat": [
          6.2312277,
          6.231232
         ],
         "line": {
          "color": "red",
          "width": 4
         },
         "lon": [
          -75.5982146,
          -75.5981377
         ],
         "mode": "lines",
         "showlegend": false,
         "type": "scattermap"
        },
        {
         "hovertemplate": "Segmento 86<br>Distancia: 7.0m<br>Tiempo: 1.0s<extra></extra>",
         "lat": [
          6.231232,
          6.2312349
         ],
         "line": {
          "color": "red",
          "width": 4
         },
         "lon": [
          -75.5981377,
          -75.5980701
         ],
         "mode": "lines",
         "showlegend": false,
         "type": "scattermap"
        },
        {
         "hovertemplate": "Segmento 87<br>Distancia: 104.0m<br>Tiempo: 7.0s<extra></extra>",
         "lat": [
          6.2312349,
          6.2312757
         ],
         "line": {
          "color": "red",
          "width": 4
         },
         "lon": [
          -75.5980701,
          -75.5971294
         ],
         "mode": "lines",
         "showlegend": false,
         "type": "scattermap"
        },
        {
         "hovertemplate": "Segmento 88<br>Distancia: 9.0m<br>Tiempo: 1.0s<extra></extra>",
         "lat": [
          6.2312757,
          6.2312792
         ],
         "line": {
          "color": "red",
          "width": 4
         },
         "lon": [
          -75.5971294,
          -75.5970494
         ],
         "mode": "lines",
         "showlegend": false,
         "type": "scattermap"
        },
        {
         "hovertemplate": "Segmento 89<br>Distancia: 46.0m<br>Tiempo: 3.0s<extra></extra>",
         "lat": [
          6.2312792,
          6.2312973
         ],
         "line": {
          "color": "red",
          "width": 4
         },
         "lon": [
          -75.5970494,
          -75.5966309
         ],
         "mode": "lines",
         "showlegend": false,
         "type": "scattermap"
        },
        {
         "hovertemplate": "Segmento 90<br>Distancia: 39.0m<br>Tiempo: 3.0s<extra></extra>",
         "lat": [
          6.2312973,
          6.2313127
         ],
         "line": {
          "color": "red",
          "width": 4
         },
         "lon": [
          -75.5966309,
          -75.5962757
         ],
         "mode": "lines",
         "showlegend": false,
         "type": "scattermap"
        },
        {
         "hovertemplate": "Segmento 91<br>Distancia: 9.0m<br>Tiempo: 1.0s<extra></extra>",
         "lat": [
          6.2313127,
          6.2313161
         ],
         "line": {
          "color": "red",
          "width": 4
         },
         "lon": [
          -75.5962757,
          -75.5961967
         ],
         "mode": "lines",
         "showlegend": false,
         "type": "scattermap"
        },
        {
         "hovertemplate": "Segmento 92<br>Distancia: 5.0m<br>Tiempo: 0.0s<extra></extra>",
         "lat": [
          6.2313161,
          6.2313566
         ],
         "line": {
          "color": "red",
          "width": 4
         },
         "lon": [
          -75.5961967,
          -75.5962003
         ],
         "mode": "lines",
         "showlegend": false,
         "type": "scattermap"
        },
        {
         "hovertemplate": "Segmento 93<br>Distancia: 7.0m<br>Tiempo: 1.0s<extra></extra>",
         "lat": [
          6.2313566,
          6.2314197
         ],
         "line": {
          "color": "red",
          "width": 4
         },
         "lon": [
          -75.5962003,
          -75.5962059
         ],
         "mode": "lines",
         "showlegend": false,
         "type": "scattermap"
        },
        {
         "hovertemplate": "Segmento 94<br>Distancia: 4.0m<br>Tiempo: 0.0s<extra></extra>",
         "lat": [
          6.2314197,
          6.2314516
         ],
         "line": {
          "color": "red",
          "width": 4
         },
         "lon": [
          -75.5962059,
          -75.5962087
         ],
         "mode": "lines",
         "showlegend": false,
         "type": "scattermap"
        },
        {
         "hovertemplate": "Segmento 95<br>Distancia: 6.0m<br>Tiempo: 0.0s<extra></extra>",
         "lat": [
          6.2314516,
          6.2315052
         ],
         "line": {
          "color": "red",
          "width": 4
         },
         "lon": [
          -75.5962087,
          -75.5962118
         ],
         "mode": "lines",
         "showlegend": false,
         "type": "scattermap"
        },
        {
         "hovertemplate": "Segmento 96<br>Distancia: 60.0m<br>Tiempo: 4.0s<extra></extra>",
         "lat": [
          6.2315052,
          6.2320454
         ],
         "line": {
          "color": "red",
          "width": 4
         },
         "lon": [
          -75.5962118,
          -75.5962432
         ],
         "mode": "lines",
         "showlegend": false,
         "type": "scattermap"
        },
        {
         "hovertemplate": "Segmento 97<br>Distancia: 6.0m<br>Tiempo: 0.0s<extra></extra>",
         "lat": [
          6.2320454,
          6.2320963
         ],
         "line": {
          "color": "red",
          "width": 4
         },
         "lon": [
          -75.5962432,
          -75.5962461
         ],
         "mode": "lines",
         "showlegend": false,
         "type": "scattermap"
        },
        {
         "hovertemplate": "Segmento 98<br>Distancia: 6.0m<br>Tiempo: 0.0s<extra></extra>",
         "lat": [
          6.2320963,
          6.2321513
         ],
         "line": {
          "color": "red",
          "width": 4
         },
         "lon": [
          -75.5962461,
          -75.5962493
         ],
         "mode": "lines",
         "showlegend": false,
         "type": "scattermap"
        },
        {
         "hovertemplate": "Segmento 99<br>Distancia: 72.0m<br>Tiempo: 5.0s<extra></extra>",
         "lat": [
          6.2321513,
          6.2327963
         ],
         "line": {
          "color": "red",
          "width": 4
         },
         "lon": [
          -75.5962493,
          -75.5962651
         ],
         "mode": "lines",
         "showlegend": false,
         "type": "scattermap"
        },
        {
         "hovertemplate": "Segmento 100<br>Distancia: 5.0m<br>Tiempo: 0.0s<extra></extra>",
         "lat": [
          6.2327963,
          6.2328446
         ],
         "line": {
          "color": "red",
          "width": 4
         },
         "lon": [
          -75.5962651,
          -75.5962663
         ],
         "mode": "lines",
         "showlegend": false,
         "type": "scattermap"
        },
        {
         "hovertemplate": "Segmento 101<br>Distancia: 7.0m<br>Tiempo: 0.0s<extra></extra>",
         "lat": [
          6.2328446,
          6.2328612
         ],
         "line": {
          "color": "red",
          "width": 4
         },
         "lon": [
          -75.5962663,
          -75.5962072
         ],
         "mode": "lines",
         "showlegend": false,
         "type": "scattermap"
        },
        {
         "hovertemplate": "Segmento 102<br>Distancia: 5.0m<br>Tiempo: 0.0s<extra></extra>",
         "lat": [
          6.2328612,
          6.232886
         ],
         "line": {
          "color": "red",
          "width": 4
         },
         "lon": [
          -75.5962072,
          -75.5961719
         ],
         "mode": "lines",
         "showlegend": false,
         "type": "scattermap"
        },
        {
         "hovertemplate": "Segmento 103<br>Distancia: 5.0m<br>Tiempo: 0.0s<extra></extra>",
         "lat": [
          6.232886,
          6.2329128
         ],
         "line": {
          "color": "red",
          "width": 4
         },
         "lon": [
          -75.5961719,
          -75.5961388
         ],
         "mode": "lines",
         "showlegend": false,
         "type": "scattermap"
        },
        {
         "hovertemplate": "Segmento 104<br>Distancia: 5.0m<br>Tiempo: 0.0s<extra></extra>",
         "lat": [
          6.2329128,
          6.2329396
         ],
         "line": {
          "color": "red",
          "width": 4
         },
         "lon": [
          -75.5961388,
          -75.5961079
         ],
         "mode": "lines",
         "showlegend": false,
         "type": "scattermap"
        },
        {
         "hovertemplate": "Segmento 105<br>Distancia: 4.0m<br>Tiempo: 0.0s<extra></extra>",
         "lat": [
          6.2329396,
          6.2329647
         ],
         "line": {
          "color": "red",
          "width": 4
         },
         "lon": [
          -75.5961079,
          -75.5960844
         ],
         "mode": "lines",
         "showlegend": false,
         "type": "scattermap"
        },
        {
         "hovertemplate": "Segmento 106<br>Distancia: 86.0m<br>Tiempo: 6.0s<extra></extra>",
         "lat": [
          6.2329647,
          6.2335335
         ],
         "line": {
          "color": "red",
          "width": 4
         },
         "lon": [
          -75.5960844,
          -75.5955516
         ],
         "mode": "lines",
         "showlegend": false,
         "type": "scattermap"
        },
        {
         "hovertemplate": "Segmento 107<br>Distancia: 17.0m<br>Tiempo: 1.0s<extra></extra>",
         "lat": [
          6.2335335,
          6.2336466
         ],
         "line": {
          "color": "red",
          "width": 4
         },
         "lon": [
          -75.5955516,
          -75.5954455
         ],
         "mode": "lines",
         "showlegend": false,
         "type": "scattermap"
        },
        {
         "hovertemplate": "Segmento 108<br>Distancia: 10.0m<br>Tiempo: 1.0s<extra></extra>",
         "lat": [
          6.2336466,
          6.2337137
         ],
         "line": {
          "color": "red",
          "width": 4
         },
         "lon": [
          -75.5954455,
          -75.5953846
         ],
         "mode": "lines",
         "showlegend": false,
         "type": "scattermap"
        },
        {
         "hovertemplate": "Segmento 109<br>Distancia: 11.0m<br>Tiempo: 1.0s<extra></extra>",
         "lat": [
          6.2337137,
          6.2337855
         ],
         "line": {
          "color": "red",
          "width": 4
         },
         "lon": [
          -75.5953846,
          -75.5953153
         ],
         "mode": "lines",
         "showlegend": false,
         "type": "scattermap"
        },
        {
         "hovertemplate": "Segmento 110<br>Distancia: 66.0m<br>Tiempo: 5.0s<extra></extra>",
         "lat": [
          6.2337855,
          6.234196
         ],
         "line": {
          "color": "red",
          "width": 4
         },
         "lon": [
          -75.5953153,
          -75.5948851
         ],
         "mode": "lines",
         "showlegend": false,
         "type": "scattermap"
        },
        {
         "hovertemplate": "Segmento 111<br>Distancia: 1.0m<br>Tiempo: 0.0s<extra></extra>",
         "lat": [
          6.234196,
          6.2342059
         ],
         "line": {
          "color": "red",
          "width": 4
         },
         "lon": [
          -75.5948851,
          -75.5948769
         ],
         "mode": "lines",
         "showlegend": false,
         "type": "scattermap"
        },
        {
         "hovertemplate": "Segmento 112<br>Distancia: 90.0m<br>Tiempo: 6.0s<extra></extra>",
         "lat": [
          6.2342059,
          6.234775
         ],
         "line": {
          "color": "red",
          "width": 4
         },
         "lon": [
          -75.5948769,
          -75.5943039
         ],
         "mode": "lines",
         "showlegend": false,
         "type": "scattermap"
        },
        {
         "hovertemplate": "Segmento 113<br>Distancia: 53.0m<br>Tiempo: 4.0s<extra></extra>",
         "lat": [
          6.234775,
          6.2351192
         ],
         "line": {
          "color": "red",
          "width": 4
         },
         "lon": [
          -75.5943039,
          -75.5939716
         ],
         "mode": "lines",
         "showlegend": false,
         "type": "scattermap"
        },
        {
         "hovertemplate": "Segmento 114<br>Distancia: 16.0m<br>Tiempo: 1.0s<extra></extra>",
         "lat": [
          6.2351192,
          6.235219
         ],
         "line": {
          "color": "red",
          "width": 4
         },
         "lon": [
          -75.5939716,
          -75.5938715
         ],
         "mode": "lines",
         "showlegend": false,
         "type": "scattermap"
        },
        {
         "hovertemplate": "Segmento 115<br>Distancia: 8.0m<br>Tiempo: 1.0s<extra></extra>",
         "lat": [
          6.235219,
          6.2352716
         ],
         "line": {
          "color": "red",
          "width": 4
         },
         "lon": [
          -75.5938715,
          -75.5938187
         ],
         "mode": "lines",
         "showlegend": false,
         "type": "scattermap"
        },
        {
         "hovertemplate": "Segmento 116<br>Distancia: 8.0m<br>Tiempo: 1.0s<extra></extra>",
         "lat": [
          6.2352716,
          6.2353244
         ],
         "line": {
          "color": "red",
          "width": 4
         },
         "lon": [
          -75.5938187,
          -75.5937658
         ],
         "mode": "lines",
         "showlegend": false,
         "type": "scattermap"
        },
        {
         "hovertemplate": "Segmento 117<br>Distancia: 56.0m<br>Tiempo: 4.0s<extra></extra>",
         "lat": [
          6.2353244,
          6.2356823
         ],
         "line": {
          "color": "red",
          "width": 4
         },
         "lon": [
          -75.5937658,
          -75.5934128
         ],
         "mode": "lines",
         "showlegend": false,
         "type": "scattermap"
        },
        {
         "hovertemplate": "Segmento 118<br>Distancia: 49.0m<br>Tiempo: 3.0s<extra></extra>",
         "lat": [
          6.2356823,
          6.2359851
         ],
         "line": {
          "color": "red",
          "width": 4
         },
         "lon": [
          -75.5934128,
          -75.5930968
         ],
         "mode": "lines",
         "showlegend": false,
         "type": "scattermap"
        },
        {
         "hovertemplate": "Segmento 119<br>Distancia: 8.0m<br>Tiempo: 1.0s<extra></extra>",
         "lat": [
          6.2359851,
          6.2360352
         ],
         "line": {
          "color": "red",
          "width": 4
         },
         "lon": [
          -75.5930968,
          -75.5930462
         ],
         "mode": "lines",
         "showlegend": false,
         "type": "scattermap"
        },
        {
         "hovertemplate": "Segmento 120<br>Distancia: 11.0m<br>Tiempo: 1.0s<extra></extra>",
         "lat": [
          6.2360352,
          6.2361026
         ],
         "line": {
          "color": "red",
          "width": 4
         },
         "lon": [
          -75.5930462,
          -75.592978
         ],
         "mode": "lines",
         "showlegend": false,
         "type": "scattermap"
        },
        {
         "hovertemplate": "Segmento 121<br>Distancia: 59.0m<br>Tiempo: 4.0s<extra></extra>",
         "lat": [
          6.2361026,
          6.2364717
         ],
         "line": {
          "color": "red",
          "width": 4
         },
         "lon": [
          -75.592978,
          -75.5925954
         ],
         "mode": "lines",
         "showlegend": false,
         "type": "scattermap"
        },
        {
         "hovertemplate": "Segmento 122<br>Distancia: 71.0m<br>Tiempo: 5.0s<extra></extra>",
         "lat": [
          6.2364717,
          6.2369143
         ],
         "line": {
          "color": "red",
          "width": 4
         },
         "lon": [
          -75.5925954,
          -75.592137
         ],
         "mode": "lines",
         "showlegend": false,
         "type": "scattermap"
        },
        {
         "hovertemplate": "Segmento 123<br>Distancia: 77.0m<br>Tiempo: 6.0s<extra></extra>",
         "lat": [
          6.2369143,
          6.2373805
         ],
         "line": {
          "color": "red",
          "width": 4
         },
         "lon": [
          -75.592137,
          -75.5916273
         ],
         "mode": "lines",
         "showlegend": false,
         "type": "scattermap"
        },
        {
         "hovertemplate": "Segmento 124<br>Distancia: 5.0m<br>Tiempo: 0.0s<extra></extra>",
         "lat": [
          6.2373805,
          6.2374088
         ],
         "line": {
          "color": "red",
          "width": 4
         },
         "lon": [
          -75.5916273,
          -75.5915954
         ],
         "mode": "lines",
         "showlegend": false,
         "type": "scattermap"
        },
        {
         "hovertemplate": "Segmento 125<br>Distancia: 81.0m<br>Tiempo: 6.0s<extra></extra>",
         "lat": [
          6.2374088,
          6.2379537
         ],
         "line": {
          "color": "red",
          "width": 4
         },
         "lon": [
          -75.5915954,
          -75.5911065
         ],
         "mode": "lines",
         "showlegend": false,
         "type": "scattermap"
        },
        {
         "hovertemplate": "Segmento 126<br>Distancia: 200.0m<br>Tiempo: 14.0s<extra></extra>",
         "lat": [
          6.2379537,
          6.2392492
         ],
         "line": {
          "color": "red",
          "width": 4
         },
         "lon": [
          -75.5911065,
          -75.5898529
         ],
         "mode": "lines",
         "showlegend": false,
         "type": "scattermap"
        },
        {
         "hovertemplate": "Segmento 127<br>Distancia: 212.0m<br>Tiempo: 15.0s<extra></extra>",
         "lat": [
          6.2392492,
          6.2406245
         ],
         "line": {
          "color": "red",
          "width": 4
         },
         "lon": [
          -75.5898529,
          -75.5885221
         ],
         "mode": "lines",
         "showlegend": false,
         "type": "scattermap"
        },
        {
         "hovertemplate": "Segmento 128<br>Distancia: 34.0m<br>Tiempo: 2.0s<extra></extra>",
         "lat": [
          6.2406245,
          6.2408377
         ],
         "line": {
          "color": "red",
          "width": 4
         },
         "lon": [
          -75.5885221,
          -75.5882997
         ],
         "mode": "lines",
         "showlegend": false,
         "type": "scattermap"
        },
        {
         "hovertemplate": "Segmento 129<br>Distancia: 32.0m<br>Tiempo: 2.0s<extra></extra>",
         "lat": [
          6.2408377,
          6.241028
         ],
         "line": {
          "color": "red",
          "width": 4
         },
         "lon": [
          -75.5882997,
          -75.5880783
         ],
         "mode": "lines",
         "showlegend": false,
         "type": "scattermap"
        },
        {
         "hovertemplate": "Segmento 130<br>Distancia: 27.0m<br>Tiempo: 2.0s<extra></extra>",
         "lat": [
          6.241028,
          6.241202
         ],
         "line": {
          "color": "red",
          "width": 4
         },
         "lon": [
          -75.5880783,
          -75.5879026
         ],
         "mode": "lines",
         "showlegend": false,
         "type": "scattermap"
        },
        {
         "hovertemplate": "Segmento 131<br>Distancia: 3.0m<br>Tiempo: 0.0s<extra></extra>",
         "lat": [
          6.241202,
          6.2412198
         ],
         "line": {
          "color": "red",
          "width": 4
         },
         "lon": [
          -75.5879026,
          -75.5878846
         ],
         "mode": "lines",
         "showlegend": false,
         "type": "scattermap"
        },
        {
         "hovertemplate": "Segmento 132<br>Distancia: 73.0m<br>Tiempo: 5.0s<extra></extra>",
         "lat": [
          6.2412198,
          6.2416861
         ],
         "line": {
          "color": "red",
          "width": 4
         },
         "lon": [
          -75.5878846,
          -75.5874141
         ],
         "mode": "lines",
         "showlegend": false,
         "type": "scattermap"
        },
        {
         "hovertemplate": "Segmento 133<br>Distancia: 24.0m<br>Tiempo: 2.0s<extra></extra>",
         "lat": [
          6.2416861,
          6.2418366
         ],
         "line": {
          "color": "red",
          "width": 4
         },
         "lon": [
          -75.5874141,
          -75.5872622
         ],
         "mode": "lines",
         "showlegend": false,
         "type": "scattermap"
        },
        {
         "hovertemplate": "Segmento 134<br>Distancia: 18.0m<br>Tiempo: 1.0s<extra></extra>",
         "lat": [
          6.2418366,
          6.2419529
         ],
         "line": {
          "color": "red",
          "width": 4
         },
         "lon": [
          -75.5872622,
          -75.5871449
         ],
         "mode": "lines",
         "showlegend": false,
         "type": "scattermap"
        },
        {
         "hovertemplate": "Segmento 135<br>Distancia: 27.0m<br>Tiempo: 2.0s<extra></extra>",
         "lat": [
          6.2419529,
          6.2421221
         ],
         "line": {
          "color": "red",
          "width": 4
         },
         "lon": [
          -75.5871449,
          -75.586974
         ],
         "mode": "lines",
         "showlegend": false,
         "type": "scattermap"
        },
        {
         "hovertemplate": "Segmento 136<br>Distancia: 38.0m<br>Tiempo: 3.0s<extra></extra>",
         "lat": [
          6.2421221,
          6.2423599
         ],
         "line": {
          "color": "red",
          "width": 4
         },
         "lon": [
          -75.586974,
          -75.5867273
         ],
         "mode": "lines",
         "showlegend": false,
         "type": "scattermap"
        },
        {
         "hovertemplate": "Segmento 137<br>Distancia: 61.0m<br>Tiempo: 4.0s<extra></extra>",
         "lat": [
          6.2423599,
          6.2427427
         ],
         "line": {
          "color": "red",
          "width": 4
         },
         "lon": [
          -75.5867273,
          -75.5863301
         ],
         "mode": "lines",
         "showlegend": false,
         "type": "scattermap"
        },
        {
         "hovertemplate": "Segmento 138<br>Distancia: 30.0m<br>Tiempo: 2.0s<extra></extra>",
         "lat": [
          6.2427427,
          6.2429298
         ],
         "line": {
          "color": "red",
          "width": 4
         },
         "lon": [
          -75.5863301,
          -75.5861345
         ],
         "mode": "lines",
         "showlegend": false,
         "type": "scattermap"
        },
        {
         "hovertemplate": "Segmento 139<br>Distancia: 2.0m<br>Tiempo: 0.0s<extra></extra>",
         "lat": [
          6.2429298,
          6.2429441
         ],
         "line": {
          "color": "red",
          "width": 4
         },
         "lon": [
          -75.5861345,
          -75.5861201
         ],
         "mode": "lines",
         "showlegend": false,
         "type": "scattermap"
        },
        {
         "hovertemplate": "Segmento 140<br>Distancia: 27.0m<br>Tiempo: 2.0s<extra></extra>",
         "lat": [
          6.2429441,
          6.2431195
         ],
         "line": {
          "color": "red",
          "width": 4
         },
         "lon": [
          -75.5861201,
          -75.5859454
         ],
         "mode": "lines",
         "showlegend": false,
         "type": "scattermap"
        },
        {
         "hovertemplate": "Segmento 141<br>Distancia: 11.0m<br>Tiempo: 1.0s<extra></extra>",
         "lat": [
          6.2431195,
          6.2431869
         ],
         "line": {
          "color": "red",
          "width": 4
         },
         "lon": [
          -75.5859454,
          -75.5858769
         ],
         "mode": "lines",
         "showlegend": false,
         "type": "scattermap"
        },
        {
         "hovertemplate": "Segmento 142<br>Distancia: 25.0m<br>Tiempo: 2.0s<extra></extra>",
         "lat": [
          6.2431869,
          6.2433454
         ],
         "line": {
          "color": "red",
          "width": 4
         },
         "lon": [
          -75.5858769,
          -75.5857216
         ],
         "mode": "lines",
         "showlegend": false,
         "type": "scattermap"
        },
        {
         "hovertemplate": "Segmento 143<br>Distancia: 35.0m<br>Tiempo: 2.0s<extra></extra>",
         "lat": [
          6.2433454,
          6.2435624
         ],
         "line": {
          "color": "red",
          "width": 4
         },
         "lon": [
          -75.5857216,
          -75.5854965
         ],
         "mode": "lines",
         "showlegend": false,
         "type": "scattermap"
        },
        {
         "hovertemplate": "Segmento 144<br>Distancia: 68.0m<br>Tiempo: 5.0s<extra></extra>",
         "lat": [
          6.2435624,
          6.2440023
         ],
         "line": {
          "color": "red",
          "width": 4
         },
         "lon": [
          -75.5854965,
          -75.5850679
         ],
         "mode": "lines",
         "showlegend": false,
         "type": "scattermap"
        },
        {
         "hovertemplate": "Segmento 145<br>Distancia: 66.0m<br>Tiempo: 5.0s<extra></extra>",
         "lat": [
          6.2440023,
          6.2444166
         ],
         "line": {
          "color": "red",
          "width": 4
         },
         "lon": [
          -75.5850679,
          -75.5846435
         ],
         "mode": "lines",
         "showlegend": false,
         "type": "scattermap"
        },
        {
         "hovertemplate": "Segmento 146<br>Distancia: 3.0m<br>Tiempo: 1.0s<extra></extra>",
         "lat": [
          6.2444166,
          6.2443943
         ],
         "line": {
          "color": "red",
          "width": 4
         },
         "lon": [
          -75.5846435,
          -75.5846215
         ],
         "mode": "lines",
         "showlegend": false,
         "type": "scattermap"
        },
        {
         "hovertemplate": "Segmento 147<br>Distancia: 154.0m<br>Tiempo: 28.0s<extra></extra>",
         "lat": [
          6.2443943,
          6.2434036
         ],
         "line": {
          "color": "red",
          "width": 4
         },
         "lon": [
          -75.5846215,
          -75.5836433
         ],
         "mode": "lines",
         "showlegend": false,
         "type": "scattermap"
        },
        {
         "hovertemplate": "Segmento 148<br>Distancia: 41.0m<br>Tiempo: 7.0s<extra></extra>",
         "lat": [
          6.2434036,
          6.2431418
         ],
         "line": {
          "color": "red",
          "width": 4
         },
         "lon": [
          -75.5836433,
          -75.5833848
         ],
         "mode": "lines",
         "showlegend": false,
         "type": "scattermap"
        },
        {
         "hovertemplate": "Segmento 149<br>Distancia: 63.0m<br>Tiempo: 11.0s<extra></extra>",
         "lat": [
          6.2431418,
          6.2427363
         ],
         "line": {
          "color": "red",
          "width": 4
         },
         "lon": [
          -75.5833848,
          -75.5837826
         ],
         "mode": "lines",
         "showlegend": false,
         "type": "scattermap"
        },
        {
         "hovertemplate": "Segmento 150<br>Distancia: 71.0m<br>Tiempo: 13.0s<extra></extra>",
         "lat": [
          6.2427363,
          6.2422816
         ],
         "line": {
          "color": "red",
          "width": 4
         },
         "lon": [
          -75.5837826,
          -75.5833298
         ],
         "mode": "lines",
         "showlegend": false,
         "type": "scattermap"
        },
        {
         "hovertemplate": "Segmento 151<br>Distancia: 6.0m<br>Tiempo: 1.0s<extra></extra>",
         "lat": [
          6.2422816,
          6.2422339
         ],
         "line": {
          "color": "red",
          "width": 4
         },
         "lon": [
          -75.5833298,
          -75.5833604
         ],
         "mode": "lines",
         "showlegend": false,
         "type": "scattermap"
        },
        {
         "hovertemplate": "Segmento 152<br>Distancia: 4.0m<br>Tiempo: 1.0s<extra></extra>",
         "lat": [
          6.2422339,
          6.2422047
         ],
         "line": {
          "color": "red",
          "width": 4
         },
         "lon": [
          -75.5833604,
          -75.5833851
         ],
         "mode": "lines",
         "showlegend": false,
         "type": "scattermap"
        },
        {
         "hovertemplate": "Segmento 153<br>Distancia: 59.0m<br>Tiempo: 7.0s<extra></extra>",
         "lat": [
          6.2422047,
          6.2417651
         ],
         "line": {
          "color": "red",
          "width": 4
         },
         "lon": [
          -75.5833851,
          -75.583686
         ],
         "mode": "lines",
         "showlegend": false,
         "type": "scattermap"
        },
        {
         "hovertemplate": "Segmento 154<br>Distancia: 70.0m<br>Tiempo: 8.0s<extra></extra>",
         "lat": [
          6.2417651,
          6.2412469
         ],
         "line": {
          "color": "red",
          "width": 4
         },
         "lon": [
          -75.583686,
          -75.5840439
         ],
         "mode": "lines",
         "showlegend": false,
         "type": "scattermap"
        },
        {
         "hovertemplate": "Segmento 155<br>Distancia: 51.0m<br>Tiempo: 6.0s<extra></extra>",
         "lat": [
          6.2412469,
          6.2408576
         ],
         "line": {
          "color": "red",
          "width": 4
         },
         "lon": [
          -75.5840439,
          -75.5842903
         ],
         "mode": "lines",
         "showlegend": false,
         "type": "scattermap"
        },
        {
         "hovertemplate": "Segmento 156<br>Distancia: 11.0m<br>Tiempo: 1.0s<extra></extra>",
         "lat": [
          6.2408576,
          6.2407762
         ],
         "line": {
          "color": "red",
          "width": 4
         },
         "lon": [
          -75.5842903,
          -75.5843479
         ],
         "mode": "lines",
         "showlegend": false,
         "type": "scattermap"
        },
        {
         "hovertemplate": "Segmento 157<br>Distancia: 5.0m<br>Tiempo: 1.0s<extra></extra>",
         "lat": [
          6.2407762,
          6.2408076
         ],
         "line": {
          "color": "red",
          "width": 4
         },
         "lon": [
          -75.5843479,
          -75.5843792
         ],
         "mode": "lines",
         "showlegend": false,
         "type": "scattermap"
        },
        {
         "hovertemplate": "Segmento 158<br>Distancia: 106.0m<br>Tiempo: 19.0s<extra></extra>",
         "lat": [
          6.2408076,
          6.2414824
         ],
         "line": {
          "color": "red",
          "width": 4
         },
         "lon": [
          -75.5843792,
          -75.5850518
         ],
         "mode": "lines",
         "showlegend": false,
         "type": "scattermap"
        },
        {
         "hovertemplate": "Segmento 159<br>Distancia: 63.0m<br>Tiempo: 11.0s<extra></extra>",
         "lat": [
          6.2414824,
          6.2410748
         ],
         "line": {
          "color": "red",
          "width": 4
         },
         "lon": [
          -75.5850518,
          -75.5854518
         ],
         "mode": "lines",
         "showlegend": false,
         "type": "scattermap"
        },
        {
         "hovertemplate": "<b>Inicio</b><br>Carrera 84B, Loma de Los Bernal, Comuna 16 - Belén, Perímetro Urbano Medellín, Medellín, Valle de Aburrá, Antioquia, RAP del Agua y la Montaña, 050026, Colombia<extra></extra>",
         "lat": [
          6.2186249
         ],
         "lon": [
          -75.6070737
         ],
         "marker": {
          "color": "green",
          "size": 15
         },
         "mode": "markers",
         "name": "Inicio",
         "text": [
          "Inicio"
         ],
         "type": "scattermap"
        },
        {
         "hovertemplate": "<b>Destino</b><br>Unicentro, Los Conquistadores, Comuna 11 - Laureles-Estadio, Perímetro Urbano Medellín, Medellín, Valle de Aburrá, Antioquia, RAP del Agua y la Montaña, 050031, Colombia<extra></extra>",
         "lat": [
          6.2410415
         ],
         "lon": [
          -75.5857707
         ],
         "marker": {
          "color": "red",
          "size": 15
         },
         "mode": "markers",
         "name": "Destino",
         "text": [
          "Destino"
         ],
         "type": "scattermap"
        }
       ],
       "layout": {
        "height": 800,
        "map": {
         "center": {
          "lat": 6.2298332,
          "lon": -75.5964222
         },
         "style": "open-street-map",
         "zoom": 13
        },
        "showlegend": true,
        "template": {
         "data": {
          "bar": [
           {
            "error_x": {
             "color": "#2a3f5f"
            },
            "error_y": {
             "color": "#2a3f5f"
            },
            "marker": {
             "line": {
              "color": "#E5ECF6",
              "width": 0.5
             },
             "pattern": {
              "fillmode": "overlay",
              "size": 10,
              "solidity": 0.2
             }
            },
            "type": "bar"
           }
          ],
          "barpolar": [
           {
            "marker": {
             "line": {
              "color": "#E5ECF6",
              "width": 0.5
             },
             "pattern": {
              "fillmode": "overlay",
              "size": 10,
              "solidity": 0.2
             }
            },
            "type": "barpolar"
           }
          ],
          "carpet": [
           {
            "aaxis": {
             "endlinecolor": "#2a3f5f",
             "gridcolor": "white",
             "linecolor": "white",
             "minorgridcolor": "white",
             "startlinecolor": "#2a3f5f"
            },
            "baxis": {
             "endlinecolor": "#2a3f5f",
             "gridcolor": "white",
             "linecolor": "white",
             "minorgridcolor": "white",
             "startlinecolor": "#2a3f5f"
            },
            "type": "carpet"
           }
          ],
          "choropleth": [
           {
            "colorbar": {
             "outlinewidth": 0,
             "ticks": ""
            },
            "type": "choropleth"
           }
          ],
          "contour": [
           {
            "colorbar": {
             "outlinewidth": 0,
             "ticks": ""
            },
            "colorscale": [
             [
              0,
              "#0d0887"
             ],
             [
              0.1111111111111111,
              "#46039f"
             ],
             [
              0.2222222222222222,
              "#7201a8"
             ],
             [
              0.3333333333333333,
              "#9c179e"
             ],
             [
              0.4444444444444444,
              "#bd3786"
             ],
             [
              0.5555555555555556,
              "#d8576b"
             ],
             [
              0.6666666666666666,
              "#ed7953"
             ],
             [
              0.7777777777777778,
              "#fb9f3a"
             ],
             [
              0.8888888888888888,
              "#fdca26"
             ],
             [
              1,
              "#f0f921"
             ]
            ],
            "type": "contour"
           }
          ],
          "contourcarpet": [
           {
            "colorbar": {
             "outlinewidth": 0,
             "ticks": ""
            },
            "type": "contourcarpet"
           }
          ],
          "heatmap": [
           {
            "colorbar": {
             "outlinewidth": 0,
             "ticks": ""
            },
            "colorscale": [
             [
              0,
              "#0d0887"
             ],
             [
              0.1111111111111111,
              "#46039f"
             ],
             [
              0.2222222222222222,
              "#7201a8"
             ],
             [
              0.3333333333333333,
              "#9c179e"
             ],
             [
              0.4444444444444444,
              "#bd3786"
             ],
             [
              0.5555555555555556,
              "#d8576b"
             ],
             [
              0.6666666666666666,
              "#ed7953"
             ],
             [
              0.7777777777777778,
              "#fb9f3a"
             ],
             [
              0.8888888888888888,
              "#fdca26"
             ],
             [
              1,
              "#f0f921"
             ]
            ],
            "type": "heatmap"
           }
          ],
          "histogram": [
           {
            "marker": {
             "pattern": {
              "fillmode": "overlay",
              "size": 10,
              "solidity": 0.2
             }
            },
            "type": "histogram"
           }
          ],
          "histogram2d": [
           {
            "colorbar": {
             "outlinewidth": 0,
             "ticks": ""
            },
            "colorscale": [
             [
              0,
              "#0d0887"
             ],
             [
              0.1111111111111111,
              "#46039f"
             ],
             [
              0.2222222222222222,
              "#7201a8"
             ],
             [
              0.3333333333333333,
              "#9c179e"
             ],
             [
              0.4444444444444444,
              "#bd3786"
             ],
             [
              0.5555555555555556,
              "#d8576b"
             ],
             [
              0.6666666666666666,
              "#ed7953"
             ],
             [
              0.7777777777777778,
              "#fb9f3a"
             ],
             [
              0.8888888888888888,
              "#fdca26"
             ],
             [
              1,
              "#f0f921"
             ]
            ],
            "type": "histogram2d"
           }
          ],
          "histogram2dcontour": [
           {
            "colorbar": {
             "outlinewidth": 0,
             "ticks": ""
            },
            "colorscale": [
             [
              0,
              "#0d0887"
             ],
             [
              0.1111111111111111,
              "#46039f"
             ],
             [
              0.2222222222222222,
              "#7201a8"
             ],
             [
              0.3333333333333333,
              "#9c179e"
             ],
             [
              0.4444444444444444,
              "#bd3786"
             ],
             [
              0.5555555555555556,
              "#d8576b"
             ],
             [
              0.6666666666666666,
              "#ed7953"
             ],
             [
              0.7777777777777778,
              "#fb9f3a"
             ],
             [
              0.8888888888888888,
              "#fdca26"
             ],
             [
              1,
              "#f0f921"
             ]
            ],
            "type": "histogram2dcontour"
           }
          ],
          "mesh3d": [
           {
            "colorbar": {
             "outlinewidth": 0,
             "ticks": ""
            },
            "type": "mesh3d"
           }
          ],
          "parcoords": [
           {
            "line": {
             "colorbar": {
              "outlinewidth": 0,
              "ticks": ""
             }
            },
            "type": "parcoords"
           }
          ],
          "pie": [
           {
            "automargin": true,
            "type": "pie"
           }
          ],
          "scatter": [
           {
            "fillpattern": {
             "fillmode": "overlay",
             "size": 10,
             "solidity": 0.2
            },
            "type": "scatter"
           }
          ],
          "scatter3d": [
           {
            "line": {
             "colorbar": {
              "outlinewidth": 0,
              "ticks": ""
             }
            },
            "marker": {
             "colorbar": {
              "outlinewidth": 0,
              "ticks": ""
             }
            },
            "type": "scatter3d"
           }
          ],
          "scattercarpet": [
           {
            "marker": {
             "colorbar": {
              "outlinewidth": 0,
              "ticks": ""
             }
            },
            "type": "scattercarpet"
           }
          ],
          "scattergeo": [
           {
            "marker": {
             "colorbar": {
              "outlinewidth": 0,
              "ticks": ""
             }
            },
            "type": "scattergeo"
           }
          ],
          "scattergl": [
           {
            "marker": {
             "colorbar": {
              "outlinewidth": 0,
              "ticks": ""
             }
            },
            "type": "scattergl"
           }
          ],
          "scattermap": [
           {
            "marker": {
             "colorbar": {
              "outlinewidth": 0,
              "ticks": ""
             }
            },
            "type": "scattermap"
           }
          ],
          "scattermapbox": [
           {
            "marker": {
             "colorbar": {
              "outlinewidth": 0,
              "ticks": ""
             }
            },
            "type": "scattermapbox"
           }
          ],
          "scatterpolar": [
           {
            "marker": {
             "colorbar": {
              "outlinewidth": 0,
              "ticks": ""
             }
            },
            "type": "scatterpolar"
           }
          ],
          "scatterpolargl": [
           {
            "marker": {
             "colorbar": {
              "outlinewidth": 0,
              "ticks": ""
             }
            },
            "type": "scatterpolargl"
           }
          ],
          "scatterternary": [
           {
            "marker": {
             "colorbar": {
              "outlinewidth": 0,
              "ticks": ""
             }
            },
            "type": "scatterternary"
           }
          ],
          "surface": [
           {
            "colorbar": {
             "outlinewidth": 0,
             "ticks": ""
            },
            "colorscale": [
             [
              0,
              "#0d0887"
             ],
             [
              0.1111111111111111,
              "#46039f"
             ],
             [
              0.2222222222222222,
              "#7201a8"
             ],
             [
              0.3333333333333333,
              "#9c179e"
             ],
             [
              0.4444444444444444,
              "#bd3786"
             ],
             [
              0.5555555555555556,
              "#d8576b"
             ],
             [
              0.6666666666666666,
              "#ed7953"
             ],
             [
              0.7777777777777778,
              "#fb9f3a"
             ],
             [
              0.8888888888888888,
              "#fdca26"
             ],
             [
              1,
              "#f0f921"
             ]
            ],
            "type": "surface"
           }
          ],
          "table": [
           {
            "cells": {
             "fill": {
              "color": "#EBF0F8"
             },
             "line": {
              "color": "white"
             }
            },
            "header": {
             "fill": {
              "color": "#C8D4E3"
             },
             "line": {
              "color": "white"
             }
            },
            "type": "table"
           }
          ]
         },
         "layout": {
          "annotationdefaults": {
           "arrowcolor": "#2a3f5f",
           "arrowhead": 0,
           "arrowwidth": 1
          },
          "autotypenumbers": "strict",
          "coloraxis": {
           "colorbar": {
            "outlinewidth": 0,
            "ticks": ""
           }
          },
          "colorscale": {
           "diverging": [
            [
             0,
             "#8e0152"
            ],
            [
             0.1,
             "#c51b7d"
            ],
            [
             0.2,
             "#de77ae"
            ],
            [
             0.3,
             "#f1b6da"
            ],
            [
             0.4,
             "#fde0ef"
            ],
            [
             0.5,
             "#f7f7f7"
            ],
            [
             0.6,
             "#e6f5d0"
            ],
            [
             0.7,
             "#b8e186"
            ],
            [
             0.8,
             "#7fbc41"
            ],
            [
             0.9,
             "#4d9221"
            ],
            [
             1,
             "#276419"
            ]
           ],
           "sequential": [
            [
             0,
             "#0d0887"
            ],
            [
             0.1111111111111111,
             "#46039f"
            ],
            [
             0.2222222222222222,
             "#7201a8"
            ],
            [
             0.3333333333333333,
             "#9c179e"
            ],
            [
             0.4444444444444444,
             "#bd3786"
            ],
            [
             0.5555555555555556,
             "#d8576b"
            ],
            [
             0.6666666666666666,
             "#ed7953"
            ],
            [
             0.7777777777777778,
             "#fb9f3a"
            ],
            [
             0.8888888888888888,
             "#fdca26"
            ],
            [
             1,
             "#f0f921"
            ]
           ],
           "sequentialminus": [
            [
             0,
             "#0d0887"
            ],
            [
             0.1111111111111111,
             "#46039f"
            ],
            [
             0.2222222222222222,
             "#7201a8"
            ],
            [
             0.3333333333333333,
             "#9c179e"
            ],
            [
             0.4444444444444444,
             "#bd3786"
            ],
            [
             0.5555555555555556,
             "#d8576b"
            ],
            [
             0.6666666666666666,
             "#ed7953"
            ],
            [
             0.7777777777777778,
             "#fb9f3a"
            ],
            [
             0.8888888888888888,
             "#fdca26"
            ],
            [
             1,
             "#f0f921"
            ]
           ]
          },
          "colorway": [
           "#636efa",
           "#EF553B",
           "#00cc96",
           "#ab63fa",
           "#FFA15A",
           "#19d3f3",
           "#FF6692",
           "#B6E880",
           "#FF97FF",
           "#FECB52"
          ],
          "font": {
           "color": "#2a3f5f"
          },
          "geo": {
           "bgcolor": "white",
           "lakecolor": "white",
           "landcolor": "#E5ECF6",
           "showlakes": true,
           "showland": true,
           "subunitcolor": "white"
          },
          "hoverlabel": {
           "align": "left"
          },
          "hovermode": "closest",
          "mapbox": {
           "style": "light"
          },
          "paper_bgcolor": "white",
          "plot_bgcolor": "#E5ECF6",
          "polar": {
           "angularaxis": {
            "gridcolor": "white",
            "linecolor": "white",
            "ticks": ""
           },
           "bgcolor": "#E5ECF6",
           "radialaxis": {
            "gridcolor": "white",
            "linecolor": "white",
            "ticks": ""
           }
          },
          "scene": {
           "xaxis": {
            "backgroundcolor": "#E5ECF6",
            "gridcolor": "white",
            "gridwidth": 2,
            "linecolor": "white",
            "showbackground": true,
            "ticks": "",
            "zerolinecolor": "white"
           },
           "yaxis": {
            "backgroundcolor": "#E5ECF6",
            "gridcolor": "white",
            "gridwidth": 2,
            "linecolor": "white",
            "showbackground": true,
            "ticks": "",
            "zerolinecolor": "white"
           },
           "zaxis": {
            "backgroundcolor": "#E5ECF6",
            "gridcolor": "white",
            "gridwidth": 2,
            "linecolor": "white",
            "showbackground": true,
            "ticks": "",
            "zerolinecolor": "white"
           }
          },
          "shapedefaults": {
           "line": {
            "color": "#2a3f5f"
           }
          },
          "ternary": {
           "aaxis": {
            "gridcolor": "white",
            "linecolor": "white",
            "ticks": ""
           },
           "baxis": {
            "gridcolor": "white",
            "linecolor": "white",
            "ticks": ""
           },
           "bgcolor": "#E5ECF6",
           "caxis": {
            "gridcolor": "white",
            "linecolor": "white",
            "ticks": ""
           }
          },
          "title": {
           "x": 0.05
          },
          "xaxis": {
           "automargin": true,
           "gridcolor": "white",
           "linecolor": "white",
           "ticks": "",
           "title": {
            "standoff": 15
           },
           "zerolinecolor": "white",
           "zerolinewidth": 2
          },
          "yaxis": {
           "automargin": true,
           "gridcolor": "white",
           "linecolor": "white",
           "ticks": "",
           "title": {
            "standoff": 15
           },
           "zerolinecolor": "white",
           "zerolinewidth": 2
          }
         }
        },
        "title": {
         "text": "Ruta Óptima: Carrera 84B, Loma de Los Bernal, Comuna 16 - Belén, Perímetro Urbano Medellín, Medellín, Valle de Aburrá, Antioquia, RAP del Agua y la Montaña, 050026, Colombia → Unicentro, Medellín, Colombia"
        },
        "width": 1200
       }
      }
     },
     "metadata": {},
     "output_type": "display_data"
    },
    {
     "name": "stdout",
     "output_type": "stream",
     "text": [
      "\n",
      "============================================================\n",
      "=== SEGUNDA EJECUCIÓN (usa caché - más rápido) ===\n",
      "Procesando ruta de 'Universidad Nacional de Colombia, Medellín' a 'Estación Universidad, Medellín' en Medellín, Antioquia, Colombia...\n",
      "💾 Usando ciudad desde caché (no se descarga nuevamente)...\n",
      "🔍 Buscando ubicaciones...\n",
      "✅ Inicio: Universidad Nacional de Colombia, Calle 58, Comuna 7 - Robledo, Perímetro Urbano Medellín, Medellín, Valle de Aburrá, Antioquia, RAP del Agua y la Montaña, 050010, Colombia\n",
      "✅ Destino: Estación EnCicla Universidad, Ciclorruta Jardin Botanico, San Pedro, Comuna 4 - Aranjuez, Perímetro Urbano Medellín, Medellín, Valle de Aburrá, Antioquia, RAP del Agua y la Montaña, 050006, Colombia\n",
      "✅ Inicio: Universidad Nacional de Colombia, Calle 58, Comuna 7 - Robledo, Perímetro Urbano Medellín, Medellín, Valle de Aburrá, Antioquia, RAP del Agua y la Montaña, 050010, Colombia\n",
      "✅ Destino: Estación EnCicla Universidad, Ciclorruta Jardin Botanico, San Pedro, Comuna 4 - Aranjuez, Perímetro Urbano Medellín, Medellín, Valle de Aburrá, Antioquia, RAP del Agua y la Montaña, 050006, Colombia\n",
      "✅ Penalizaciones ya calculadas (desde caché)\n",
      "✅ Penalizaciones ya calculadas (desde caché)\n",
      "🚀 Calculando ruta óptima con A*...\n",
      "✅ Ruta calculada: 2795 m, 1369.2 segundos\n",
      "🗺️ Generando mapa interactivo...\n",
      "🚀 Calculando ruta óptima con A*...\n",
      "✅ Ruta calculada: 2795 m, 1369.2 segundos\n",
      "🗺️ Generando mapa interactivo...\n",
      "🎉 ¡Ruta generada exitosamente!\n",
      "📏 Distancia total: 2795 metros\n",
      "⏱️ Tiempo estimado: 22.8 minutos\n",
      "💾 Caché: Usado\n",
      "\n",
      "🚀 Segunda ruta (desde caché):\n",
      "📍 Origen: Universidad Nacional de Colombia, Calle 58, Comuna 7 - Robledo, Perímetro Urbano Medellín, Medellín, Valle de Aburrá, Antioquia, RAP del Agua y la Montaña, 050010, Colombia\n",
      "🏁 Destino: Estación EnCicla Universidad, Ciclorruta Jardin Botanico, San Pedro, Comuna 4 - Aranjuez, Perímetro Urbano Medellín, Medellín, Valle de Aburrá, Antioquia, RAP del Agua y la Montaña, 050006, Colombia\n",
      "📏 Distancia: 2795 metros\n",
      "⏱️ Tiempo estimado: 22.8 minutos\n",
      "🗺️ Mostrando mapa de la segunda ruta...\n",
      "🎉 ¡Ruta generada exitosamente!\n",
      "📏 Distancia total: 2795 metros\n",
      "⏱️ Tiempo estimado: 22.8 minutos\n",
      "💾 Caché: Usado\n",
      "\n",
      "🚀 Segunda ruta (desde caché):\n",
      "📍 Origen: Universidad Nacional de Colombia, Calle 58, Comuna 7 - Robledo, Perímetro Urbano Medellín, Medellín, Valle de Aburrá, Antioquia, RAP del Agua y la Montaña, 050010, Colombia\n",
      "🏁 Destino: Estación EnCicla Universidad, Ciclorruta Jardin Botanico, San Pedro, Comuna 4 - Aranjuez, Perímetro Urbano Medellín, Medellín, Valle de Aburrá, Antioquia, RAP del Agua y la Montaña, 050006, Colombia\n",
      "📏 Distancia: 2795 metros\n",
      "⏱️ Tiempo estimado: 22.8 minutos\n",
      "🗺️ Mostrando mapa de la segunda ruta...\n"
     ]
    },
    {
     "data": {
      "application/vnd.plotly.v1+json": {
       "config": {
        "plotlyServerURL": "https://plot.ly"
       },
       "data": [
        {
         "hovertemplate": "Segmento 1<br>Distancia: 5.0m<br>Tiempo: 1.0s<extra></extra>",
         "lat": [
          6.2617659,
          6.2617945
         ],
         "line": {
          "color": "red",
          "width": 4
         },
         "lon": [
          -75.5783459,
          -75.5783818
         ],
         "mode": "lines",
         "showlegend": false,
         "type": "scattermap"
        },
        {
         "hovertemplate": "Segmento 2<br>Distancia: 7.0m<br>Tiempo: 1.0s<extra></extra>",
         "lat": [
          6.2617945,
          6.2618147
         ],
         "line": {
          "color": "red",
          "width": 4
         },
         "lon": [
          -75.5783818,
          -75.5784386
         ],
         "mode": "lines",
         "showlegend": false,
         "type": "scattermap"
        },
        {
         "hovertemplate": "Segmento 3<br>Distancia: 71.0m<br>Tiempo: 13.0s<extra></extra>",
         "lat": [
          6.2618147,
          6.2620133
         ],
         "line": {
          "color": "red",
          "width": 4
         },
         "lon": [
          -75.5784386,
          -75.579051
         ],
         "mode": "lines",
         "showlegend": false,
         "type": "scattermap"
        },
        {
         "hovertemplate": "Segmento 4<br>Distancia: 5.0m<br>Tiempo: 1.0s<extra></extra>",
         "lat": [
          6.2620133,
          6.2619718
         ],
         "line": {
          "color": "red",
          "width": 4
         },
         "lon": [
          -75.579051,
          -75.5790658
         ],
         "mode": "lines",
         "showlegend": false,
         "type": "scattermap"
        },
        {
         "hovertemplate": "Segmento 5<br>Distancia: 34.0m<br>Tiempo: 6.0s<extra></extra>",
         "lat": [
          6.2619718,
          6.261684
         ],
         "line": {
          "color": "red",
          "width": 4
         },
         "lon": [
          -75.5790658,
          -75.57916
         ],
         "mode": "lines",
         "showlegend": false,
         "type": "scattermap"
        },
        {
         "hovertemplate": "Segmento 6<br>Distancia: 5.0m<br>Tiempo: 1.0s<extra></extra>",
         "lat": [
          6.261684,
          6.2616373
         ],
         "line": {
          "color": "red",
          "width": 4
         },
         "lon": [
          -75.57916,
          -75.5791753
         ],
         "mode": "lines",
         "showlegend": false,
         "type": "scattermap"
        },
        {
         "hovertemplate": "Segmento 7<br>Distancia: 42.0m<br>Tiempo: 8.0s<extra></extra>",
         "lat": [
          6.2616373,
          6.2612809
         ],
         "line": {
          "color": "red",
          "width": 4
         },
         "lon": [
          -75.5791753,
          -75.5792985
         ],
         "mode": "lines",
         "showlegend": false,
         "type": "scattermap"
        },
        {
         "hovertemplate": "Segmento 8<br>Distancia: 19.0m<br>Tiempo: 3.0s<extra></extra>",
         "lat": [
          6.2612809,
          6.2611186
         ],
         "line": {
          "color": "red",
          "width": 4
         },
         "lon": [
          -75.5792985,
          -75.5793471
         ],
         "mode": "lines",
         "showlegend": false,
         "type": "scattermap"
        },
        {
         "hovertemplate": "Segmento 9<br>Distancia: 6.0m<br>Tiempo: 1.0s<extra></extra>",
         "lat": [
          6.2611186,
          6.2610672
         ],
         "line": {
          "color": "red",
          "width": 4
         },
         "lon": [
          -75.5793471,
          -75.5793612
         ],
         "mode": "lines",
         "showlegend": false,
         "type": "scattermap"
        },
        {
         "hovertemplate": "Segmento 10<br>Distancia: 6.0m<br>Tiempo: 1.0s<extra></extra>",
         "lat": [
          6.2610672,
          6.2610099
         ],
         "line": {
          "color": "red",
          "width": 4
         },
         "lon": [
          -75.5793612,
          -75.5793684
         ],
         "mode": "lines",
         "showlegend": false,
         "type": "scattermap"
        },
        {
         "hovertemplate": "Segmento 11<br>Distancia: 7.0m<br>Tiempo: 1.0s<extra></extra>",
         "lat": [
          6.2610099,
          6.2609513
         ],
         "line": {
          "color": "red",
          "width": 4
         },
         "lon": [
          -75.5793684,
          -75.579367
         ],
         "mode": "lines",
         "showlegend": false,
         "type": "scattermap"
        },
        {
         "hovertemplate": "Segmento 12<br>Distancia: 7.0m<br>Tiempo: 1.0s<extra></extra>",
         "lat": [
          6.2609513,
          6.2608887
         ],
         "line": {
          "color": "red",
          "width": 4
         },
         "lon": [
          -75.579367,
          -75.5793554
         ],
         "mode": "lines",
         "showlegend": false,
         "type": "scattermap"
        },
        {
         "hovertemplate": "Segmento 13<br>Distancia: 11.0m<br>Tiempo: 2.0s<extra></extra>",
         "lat": [
          6.2608887,
          6.2607934
         ],
         "line": {
          "color": "red",
          "width": 4
         },
         "lon": [
          -75.5793554,
          -75.5793453
         ],
         "mode": "lines",
         "showlegend": false,
         "type": "scattermap"
        },
        {
         "hovertemplate": "Segmento 14<br>Distancia: 5.0m<br>Tiempo: 1.0s<extra></extra>",
         "lat": [
          6.2607934,
          6.2607441
         ],
         "line": {
          "color": "red",
          "width": 4
         },
         "lon": [
          -75.5793453,
          -75.5793481
         ],
         "mode": "lines",
         "showlegend": false,
         "type": "scattermap"
        },
        {
         "hovertemplate": "Segmento 15<br>Distancia: 6.0m<br>Tiempo: 1.0s<extra></extra>",
         "lat": [
          6.2607441,
          6.260686
         ],
         "line": {
          "color": "red",
          "width": 4
         },
         "lon": [
          -75.5793481,
          -75.5793514
         ],
         "mode": "lines",
         "showlegend": false,
         "type": "scattermap"
        },
        {
         "hovertemplate": "Segmento 16<br>Distancia: 12.0m<br>Tiempo: 1.0s<extra></extra>",
         "lat": [
          6.260686,
          6.2606838
         ],
         "line": {
          "color": "red",
          "width": 4
         },
         "lon": [
          -75.5793514,
          -75.5794589
         ],
         "mode": "lines",
         "showlegend": false,
         "type": "scattermap"
        },
        {
         "hovertemplate": "Segmento 17<br>Distancia: 3.0m<br>Tiempo: 0.0s<extra></extra>",
         "lat": [
          6.2606838,
          6.260686
         ],
         "line": {
          "color": "red",
          "width": 4
         },
         "lon": [
          -75.5794589,
          -75.5794824
         ],
         "mode": "lines",
         "showlegend": false,
         "type": "scattermap"
        },
        {
         "hovertemplate": "Segmento 18<br>Distancia: 2.0m<br>Tiempo: 0.0s<extra></extra>",
         "lat": [
          6.260686,
          6.2606904
         ],
         "line": {
          "color": "red",
          "width": 4
         },
         "lon": [
          -75.5794824,
          -75.5794979
         ],
         "mode": "lines",
         "showlegend": false,
         "type": "scattermap"
        },
        {
         "hovertemplate": "Segmento 19<br>Distancia: 1.0m<br>Tiempo: 0.0s<extra></extra>",
         "lat": [
          6.2606904,
          6.2606949
         ],
         "line": {
          "color": "red",
          "width": 4
         },
         "lon": [
          -75.5794979,
          -75.5795084
         ],
         "mode": "lines",
         "showlegend": false,
         "type": "scattermap"
        },
        {
         "hovertemplate": "Segmento 20<br>Distancia: 2.0m<br>Tiempo: 0.0s<extra></extra>",
         "lat": [
          6.2606949,
          6.2607051
         ],
         "line": {
          "color": "red",
          "width": 4
         },
         "lon": [
          -75.5795084,
          -75.5795275
         ],
         "mode": "lines",
         "showlegend": false,
         "type": "scattermap"
        },
        {
         "hovertemplate": "Segmento 21<br>Distancia: 2.0m<br>Tiempo: 0.0s<extra></extra>",
         "lat": [
          6.2607051,
          6.2607163
         ],
         "line": {
          "color": "red",
          "width": 4
         },
         "lon": [
          -75.5795275,
          -75.5795415
         ],
         "mode": "lines",
         "showlegend": false,
         "type": "scattermap"
        },
        {
         "hovertemplate": "Segmento 22<br>Distancia: 2.0m<br>Tiempo: 0.0s<extra></extra>",
         "lat": [
          6.2607163,
          6.2607283
         ],
         "line": {
          "color": "red",
          "width": 4
         },
         "lon": [
          -75.5795415,
          -75.5795524
         ],
         "mode": "lines",
         "showlegend": false,
         "type": "scattermap"
        },
        {
         "hovertemplate": "Segmento 23<br>Distancia: 7.0m<br>Tiempo: 1.0s<extra></extra>",
         "lat": [
          6.2607283,
          6.2607745
         ],
         "line": {
          "color": "red",
          "width": 4
         },
         "lon": [
          -75.5795524,
          -75.5795975
         ],
         "mode": "lines",
         "showlegend": false,
         "type": "scattermap"
        },
        {
         "hovertemplate": "Segmento 24<br>Distancia: 15.0m<br>Tiempo: 2.0s<extra></extra>",
         "lat": [
          6.2607745,
          6.2609087
         ],
         "line": {
          "color": "red",
          "width": 4
         },
         "lon": [
          -75.5795975,
          -75.5796155
         ],
         "mode": "lines",
         "showlegend": false,
         "type": "scattermap"
        },
        {
         "hovertemplate": "Segmento 25<br>Distancia: 9.0m<br>Tiempo: 1.0s<extra></extra>",
         "lat": [
          6.2609087,
          6.2609853
         ],
         "line": {
          "color": "red",
          "width": 4
         },
         "lon": [
          -75.5796155,
          -75.579641
         ],
         "mode": "lines",
         "showlegend": false,
         "type": "scattermap"
        },
        {
         "hovertemplate": "Segmento 26<br>Distancia: 5.0m<br>Tiempo: 1.0s<extra></extra>",
         "lat": [
          6.2609853,
          6.261024
         ],
         "line": {
          "color": "red",
          "width": 4
         },
         "lon": [
          -75.579641,
          -75.5796638
         ],
         "mode": "lines",
         "showlegend": false,
         "type": "scattermap"
        },
        {
         "hovertemplate": "Segmento 27<br>Distancia: 5.0m<br>Tiempo: 1.0s<extra></extra>",
         "lat": [
          6.261024,
          6.2610546
         ],
         "line": {
          "color": "red",
          "width": 4
         },
         "lon": [
          -75.5796638,
          -75.5796953
         ],
         "mode": "lines",
         "showlegend": false,
         "type": "scattermap"
        },
        {
         "hovertemplate": "Segmento 28<br>Distancia: 5.0m<br>Tiempo: 1.0s<extra></extra>",
         "lat": [
          6.2610546,
          6.2610887
         ],
         "line": {
          "color": "red",
          "width": 4
         },
         "lon": [
          -75.5796953,
          -75.5797267
         ],
         "mode": "lines",
         "showlegend": false,
         "type": "scattermap"
        },
        {
         "hovertemplate": "Segmento 29<br>Distancia: 48.0m<br>Tiempo: 6.0s<extra></extra>",
         "lat": [
          6.2610887,
          6.2615178
         ],
         "line": {
          "color": "red",
          "width": 4
         },
         "lon": [
          -75.5797267,
          -75.5797836
         ],
         "mode": "lines",
         "showlegend": false,
         "type": "scattermap"
        },
        {
         "hovertemplate": "Segmento 30<br>Distancia: 12.0m<br>Tiempo: 1.0s<extra></extra>",
         "lat": [
          6.2615178,
          6.2616223
         ],
         "line": {
          "color": "red",
          "width": 4
         },
         "lon": [
          -75.5797836,
          -75.5797884
         ],
         "mode": "lines",
         "showlegend": false,
         "type": "scattermap"
        },
        {
         "hovertemplate": "Segmento 31<br>Distancia: 11.0m<br>Tiempo: 1.0s<extra></extra>",
         "lat": [
          6.2616223,
          6.2617186
         ],
         "line": {
          "color": "red",
          "width": 4
         },
         "lon": [
          -75.5797884,
          -75.5797818
         ],
         "mode": "lines",
         "showlegend": false,
         "type": "scattermap"
        },
        {
         "hovertemplate": "Segmento 32<br>Distancia: 7.0m<br>Tiempo: 1.0s<extra></extra>",
         "lat": [
          6.2617186,
          6.261785
         ],
         "line": {
          "color": "red",
          "width": 4
         },
         "lon": [
          -75.5797818,
          -75.5797725
         ],
         "mode": "lines",
         "showlegend": false,
         "type": "scattermap"
        },
        {
         "hovertemplate": "Segmento 33<br>Distancia: 9.0m<br>Tiempo: 1.0s<extra></extra>",
         "lat": [
          6.261785,
          6.2618628
         ],
         "line": {
          "color": "red",
          "width": 4
         },
         "lon": [
          -75.5797725,
          -75.5797517
         ],
         "mode": "lines",
         "showlegend": false,
         "type": "scattermap"
        },
        {
         "hovertemplate": "Segmento 34<br>Distancia: 11.0m<br>Tiempo: 1.0s<extra></extra>",
         "lat": [
          6.2618628,
          6.2619605
         ],
         "line": {
          "color": "red",
          "width": 4
         },
         "lon": [
          -75.5797517,
          -75.579721
         ],
         "mode": "lines",
         "showlegend": false,
         "type": "scattermap"
        },
        {
         "hovertemplate": "Segmento 35<br>Distancia: 65.0m<br>Tiempo: 8.0s<extra></extra>",
         "lat": [
          6.2619605,
          6.2625147
         ],
         "line": {
          "color": "red",
          "width": 4
         },
         "lon": [
          -75.579721,
          -75.5795234
         ],
         "mode": "lines",
         "showlegend": false,
         "type": "scattermap"
        },
        {
         "hovertemplate": "Segmento 36<br>Distancia: 28.0m<br>Tiempo: 3.0s<extra></extra>",
         "lat": [
          6.2625147,
          6.2627432
         ],
         "line": {
          "color": "red",
          "width": 4
         },
         "lon": [
          -75.5795234,
          -75.5794185
         ],
         "mode": "lines",
         "showlegend": false,
         "type": "scattermap"
        },
        {
         "hovertemplate": "Segmento 37<br>Distancia: 17.0m<br>Tiempo: 2.0s<extra></extra>",
         "lat": [
          6.2627432,
          6.2628767
         ],
         "line": {
          "color": "red",
          "width": 4
         },
         "lon": [
          -75.5794185,
          -75.5793401
         ],
         "mode": "lines",
         "showlegend": false,
         "type": "scattermap"
        },
        {
         "hovertemplate": "Segmento 38<br>Distancia: 49.0m<br>Tiempo: 6.0s<extra></extra>",
         "lat": [
          6.2628767,
          6.2632381
         ],
         "line": {
          "color": "red",
          "width": 4
         },
         "lon": [
          -75.5793401,
          -75.5790939
         ],
         "mode": "lines",
         "showlegend": false,
         "type": "scattermap"
        },
        {
         "hovertemplate": "Segmento 39<br>Distancia: 107.0m<br>Tiempo: 13.0s<extra></extra>",
         "lat": [
          6.2632381,
          6.2640096
         ],
         "line": {
          "color": "red",
          "width": 4
         },
         "lon": [
          -75.5790939,
          -75.5785101
         ],
         "mode": "lines",
         "showlegend": false,
         "type": "scattermap"
        },
        {
         "hovertemplate": "Segmento 40<br>Distancia: 52.0m<br>Tiempo: 6.0s<extra></extra>",
         "lat": [
          6.2640096,
          6.2643949
         ],
         "line": {
          "color": "red",
          "width": 4
         },
         "lon": [
          -75.5785101,
          -75.5782452
         ],
         "mode": "lines",
         "showlegend": false,
         "type": "scattermap"
        },
        {
         "hovertemplate": "Segmento 41<br>Distancia: 52.0m<br>Tiempo: 6.0s<extra></extra>",
         "lat": [
          6.2643949,
          6.2647831
         ],
         "line": {
          "color": "red",
          "width": 4
         },
         "lon": [
          -75.5782452,
          -75.5779784
         ],
         "mode": "lines",
         "showlegend": false,
         "type": "scattermap"
        },
        {
         "hovertemplate": "Segmento 42<br>Distancia: 73.0m<br>Tiempo: 9.0s<extra></extra>",
         "lat": [
          6.2647831,
          6.2653418
         ],
         "line": {
          "color": "red",
          "width": 4
         },
         "lon": [
          -75.5779784,
          -75.5776278
         ],
         "mode": "lines",
         "showlegend": false,
         "type": "scattermap"
        },
        {
         "hovertemplate": "Segmento 43<br>Distancia: 75.0m<br>Tiempo: 9.0s<extra></extra>",
         "lat": [
          6.2653418,
          6.2659384
         ],
         "line": {
          "color": "red",
          "width": 4
         },
         "lon": [
          -75.5776278,
          -75.5773148
         ],
         "mode": "lines",
         "showlegend": false,
         "type": "scattermap"
        },
        {
         "hovertemplate": "Segmento 44<br>Distancia: 66.0m<br>Tiempo: 8.0s<extra></extra>",
         "lat": [
          6.2659384,
          6.2664893
         ],
         "line": {
          "color": "red",
          "width": 4
         },
         "lon": [
          -75.5773148,
          -75.5770838
         ],
         "mode": "lines",
         "showlegend": false,
         "type": "scattermap"
        },
        {
         "hovertemplate": "Segmento 45<br>Distancia: 17.0m<br>Tiempo: 1.0s<extra></extra>",
         "lat": [
          6.2664893,
          6.2665998
         ],
         "line": {
          "color": "red",
          "width": 4
         },
         "lon": [
          -75.5770838,
          -75.5769803
         ],
         "mode": "lines",
         "showlegend": false,
         "type": "scattermap"
        },
        {
         "hovertemplate": "Segmento 46<br>Distancia: 10.0m<br>Tiempo: 1.0s<extra></extra>",
         "lat": [
          6.2665998,
          6.2666425
         ],
         "line": {
          "color": "red",
          "width": 4
         },
         "lon": [
          -75.5769803,
          -75.5769031
         ],
         "mode": "lines",
         "showlegend": false,
         "type": "scattermap"
        },
        {
         "hovertemplate": "Segmento 47<br>Distancia: 10.0m<br>Tiempo: 1.0s<extra></extra>",
         "lat": [
          6.2666425,
          6.2666681
         ],
         "line": {
          "color": "red",
          "width": 4
         },
         "lon": [
          -75.5769031,
          -75.5768172
         ],
         "mode": "lines",
         "showlegend": false,
         "type": "scattermap"
        },
        {
         "hovertemplate": "Segmento 48<br>Distancia: 11.0m<br>Tiempo: 1.0s<extra></extra>",
         "lat": [
          6.2666681,
          6.2666681
         ],
         "line": {
          "color": "red",
          "width": 4
         },
         "lon": [
          -75.5768172,
          -75.5767142
         ],
         "mode": "lines",
         "showlegend": false,
         "type": "scattermap"
        },
        {
         "hovertemplate": "Segmento 49<br>Distancia: 12.0m<br>Tiempo: 1.0s<extra></extra>",
         "lat": [
          6.2666681,
          6.2666421
         ],
         "line": {
          "color": "red",
          "width": 4
         },
         "lon": [
          -75.5767142,
          -75.5766089
         ],
         "mode": "lines",
         "showlegend": false,
         "type": "scattermap"
        },
        {
         "hovertemplate": "Segmento 50<br>Distancia: 10.0m<br>Tiempo: 1.0s<extra></extra>",
         "lat": [
          6.2666421,
          6.2666028
         ],
         "line": {
          "color": "red",
          "width": 4
         },
         "lon": [
          -75.5766089,
          -75.5765318
         ],
         "mode": "lines",
         "showlegend": false,
         "type": "scattermap"
        },
        {
         "hovertemplate": "Segmento 51<br>Distancia: 12.0m<br>Tiempo: 1.0s<extra></extra>",
         "lat": [
          6.2666028,
          6.2665318
         ],
         "line": {
          "color": "red",
          "width": 4
         },
         "lon": [
          -75.5765318,
          -75.5764549
         ],
         "mode": "lines",
         "showlegend": false,
         "type": "scattermap"
        },
        {
         "hovertemplate": "Segmento 52<br>Distancia: 10.0m<br>Tiempo: 1.0s<extra></extra>",
         "lat": [
          6.2665318,
          6.2664721
         ],
         "line": {
          "color": "red",
          "width": 4
         },
         "lon": [
          -75.5764549,
          -75.5763862
         ],
         "mode": "lines",
         "showlegend": false,
         "type": "scattermap"
        },
        {
         "hovertemplate": "Segmento 53<br>Distancia: 10.0m<br>Tiempo: 1.0s<extra></extra>",
         "lat": [
          6.2664721,
          6.2664124
         ],
         "line": {
          "color": "red",
          "width": 4
         },
         "lon": [
          -75.5763862,
          -75.5763176
         ],
         "mode": "lines",
         "showlegend": false,
         "type": "scattermap"
        },
        {
         "hovertemplate": "Segmento 54<br>Distancia: 14.0m<br>Tiempo: 1.0s<extra></extra>",
         "lat": [
          6.2664124,
          6.266327
         ],
         "line": {
          "color": "red",
          "width": 4
         },
         "lon": [
          -75.5763176,
          -75.5762232
         ],
         "mode": "lines",
         "showlegend": false,
         "type": "scattermap"
        },
        {
         "hovertemplate": "Segmento 55<br>Distancia: 15.0m<br>Tiempo: 1.0s<extra></extra>",
         "lat": [
          6.266327,
          6.2662247
         ],
         "line": {
          "color": "red",
          "width": 4
         },
         "lon": [
          -75.5762232,
          -75.5761373
         ],
         "mode": "lines",
         "showlegend": false,
         "type": "scattermap"
        },
        {
         "hovertemplate": "Segmento 56<br>Distancia: 29.0m<br>Tiempo: 2.0s<extra></extra>",
         "lat": [
          6.2662247,
          6.2660547
         ],
         "line": {
          "color": "red",
          "width": 4
         },
         "lon": [
          -75.5761373,
          -75.5759357
         ],
         "mode": "lines",
         "showlegend": false,
         "type": "scattermap"
        },
        {
         "hovertemplate": "Segmento 57<br>Distancia: 35.0m<br>Tiempo: 2.0s<extra></extra>",
         "lat": [
          6.2660547,
          6.2658585
         ],
         "line": {
          "color": "red",
          "width": 4
         },
         "lon": [
          -75.5759357,
          -75.5756867
         ],
         "mode": "lines",
         "showlegend": false,
         "type": "scattermap"
        },
        {
         "hovertemplate": "Segmento 58<br>Distancia: 26.0m<br>Tiempo: 2.0s<extra></extra>",
         "lat": [
          6.2658585,
          6.2657391
         ],
         "line": {
          "color": "red",
          "width": 4
         },
         "lon": [
          -75.5756867,
          -75.5754893
         ],
         "mode": "lines",
         "showlegend": false,
         "type": "scattermap"
        },
        {
         "hovertemplate": "Segmento 59<br>Distancia: 50.0m<br>Tiempo: 3.0s<extra></extra>",
         "lat": [
          6.2657391,
          6.2655778
         ],
         "line": {
          "color": "red",
          "width": 4
         },
         "lon": [
          -75.5754893,
          -75.5750661
         ],
         "mode": "lines",
         "showlegend": false,
         "type": "scattermap"
        },
        {
         "hovertemplate": "Segmento 60<br>Distancia: 19.0m<br>Tiempo: 1.0s<extra></extra>",
         "lat": [
          6.2655778,
          6.2655325
         ],
         "line": {
          "color": "red",
          "width": 4
         },
         "lon": [
          -75.5750661,
          -75.5749025
         ],
         "mode": "lines",
         "showlegend": false,
         "type": "scattermap"
        },
        {
         "hovertemplate": "Segmento 61<br>Distancia: 116.0m<br>Tiempo: 7.0s<extra></extra>",
         "lat": [
          6.2655325,
          6.2653885
         ],
         "line": {
          "color": "red",
          "width": 4
         },
         "lon": [
          -75.5749025,
          -75.5738591
         ],
         "mode": "lines",
         "showlegend": false,
         "type": "scattermap"
        },
        {
         "hovertemplate": "Segmento 62<br>Distancia: 53.0m<br>Tiempo: 3.0s<extra></extra>",
         "lat": [
          6.2653885,
          6.2653249
         ],
         "line": {
          "color": "red",
          "width": 4
         },
         "lon": [
          -75.5738591,
          -75.5733806
         ],
         "mode": "lines",
         "showlegend": false,
         "type": "scattermap"
        },
        {
         "hovertemplate": "Segmento 63<br>Distancia: 21.0m<br>Tiempo: 1.0s<extra></extra>",
         "lat": [
          6.2653249,
          6.265296
         ],
         "line": {
          "color": "red",
          "width": 4
         },
         "lon": [
          -75.5733806,
          -75.5731913
         ],
         "mode": "lines",
         "showlegend": false,
         "type": "scattermap"
        },
        {
         "hovertemplate": "Segmento 64<br>Distancia: 47.0m<br>Tiempo: 3.0s<extra></extra>",
         "lat": [
          6.265296,
          6.2652292
         ],
         "line": {
          "color": "red",
          "width": 4
         },
         "lon": [
          -75.5731913,
          -75.5727689
         ],
         "mode": "lines",
         "showlegend": false,
         "type": "scattermap"
        },
        {
         "hovertemplate": "Segmento 65<br>Distancia: 144.0m<br>Tiempo: 9.0s<extra></extra>",
         "lat": [
          6.2652292,
          6.265027
         ],
         "line": {
          "color": "red",
          "width": 4
         },
         "lon": [
          -75.5727689,
          -75.5714842
         ],
         "mode": "lines",
         "showlegend": false,
         "type": "scattermap"
        },
        {
         "hovertemplate": "Segmento 66<br>Distancia: 24.0m<br>Tiempo: 1.0s<extra></extra>",
         "lat": [
          6.265027,
          6.2649925
         ],
         "line": {
          "color": "red",
          "width": 4
         },
         "lon": [
          -75.5714842,
          -75.5712698
         ],
         "mode": "lines",
         "showlegend": false,
         "type": "scattermap"
        },
        {
         "hovertemplate": "Segmento 67<br>Distancia: 140.0m<br>Tiempo: 8.0s<extra></extra>",
         "lat": [
          6.2649925,
          6.2648111
         ],
         "line": {
          "color": "red",
          "width": 4
         },
         "lon": [
          -75.5712698,
          -75.5700151
         ],
         "mode": "lines",
         "showlegend": false,
         "type": "scattermap"
        },
        {
         "hovertemplate": "Segmento 68<br>Distancia: 54.0m<br>Tiempo: 4.0s<extra></extra>",
         "lat": [
          6.2648111,
          6.2647338
         ],
         "line": {
          "color": "red",
          "width": 4
         },
         "lon": [
          -75.5700151,
          -75.5695298
         ],
         "mode": "lines",
         "showlegend": false,
         "type": "scattermap"
        },
        {
         "hovertemplate": "Segmento 69<br>Distancia: 5.0m<br>Tiempo: 0.0s<extra></extra>",
         "lat": [
          6.2647338,
          6.2647254
         ],
         "line": {
          "color": "red",
          "width": 4
         },
         "lon": [
          -75.5695298,
          -75.569482
         ],
         "mode": "lines",
         "showlegend": false,
         "type": "scattermap"
        },
        {
         "hovertemplate": "Segmento 70<br>Distancia: 13.0m<br>Tiempo: 1.0s<extra></extra>",
         "lat": [
          6.2647254,
          6.2647058
         ],
         "line": {
          "color": "red",
          "width": 4
         },
         "lon": [
          -75.569482,
          -75.5693675
         ],
         "mode": "lines",
         "showlegend": false,
         "type": "scattermap"
        },
        {
         "hovertemplate": "Segmento 71<br>Distancia: 13.0m<br>Tiempo: 1.0s<extra></extra>",
         "lat": [
          6.2647058,
          6.2646874
         ],
         "line": {
          "color": "red",
          "width": 4
         },
         "lon": [
          -75.5693675,
          -75.5692547
         ],
         "mode": "lines",
         "showlegend": false,
         "type": "scattermap"
        },
        {
         "hovertemplate": "Segmento 72<br>Distancia: 53.0m<br>Tiempo: 4.0s<extra></extra>",
         "lat": [
          6.2646874,
          6.2646108
         ],
         "line": {
          "color": "red",
          "width": 4
         },
         "lon": [
          -75.5692547,
          -75.5687792
         ],
         "mode": "lines",
         "showlegend": false,
         "type": "scattermap"
        },
        {
         "hovertemplate": "Segmento 73<br>Distancia: 68.0m<br>Tiempo: 5.0s<extra></extra>",
         "lat": [
          6.2646108,
          6.2645126
         ],
         "line": {
          "color": "red",
          "width": 4
         },
         "lon": [
          -75.5687792,
          -75.5681709
         ],
         "mode": "lines",
         "showlegend": false,
         "type": "scattermap"
        },
        {
         "hovertemplate": "Segmento 74<br>Distancia: 8.0m<br>Tiempo: 1.0s<extra></extra>",
         "lat": [
          6.2645126,
          6.2645014
         ],
         "line": {
          "color": "red",
          "width": 4
         },
         "lon": [
          -75.5681709,
          -75.5681017
         ],
         "mode": "lines",
         "showlegend": false,
         "type": "scattermap"
        },
        {
         "hovertemplate": "Segmento 75<br>Distancia: 28.0m<br>Tiempo: 2.0s<extra></extra>",
         "lat": [
          6.2645014,
          6.264461
         ],
         "line": {
          "color": "red",
          "width": 4
         },
         "lon": [
          -75.5681017,
          -75.5678512
         ],
         "mode": "lines",
         "showlegend": false,
         "type": "scattermap"
        },
        {
         "hovertemplate": "Segmento 76<br>Distancia: 17.0m<br>Tiempo: 1.0s<extra></extra>",
         "lat": [
          6.264461,
          6.264434
         ],
         "line": {
          "color": "red",
          "width": 4
         },
         "lon": [
          -75.5678512,
          -75.5677021
         ],
         "mode": "lines",
         "showlegend": false,
         "type": "scattermap"
        },
        {
         "hovertemplate": "Segmento 77<br>Distancia: 10.0m<br>Tiempo: 1.0s<extra></extra>",
         "lat": [
          6.264434,
          6.2644181
         ],
         "line": {
          "color": "red",
          "width": 4
         },
         "lon": [
          -75.5677021,
          -75.5676143
         ],
         "mode": "lines",
         "showlegend": false,
         "type": "scattermap"
        },
        {
         "hovertemplate": "Segmento 78<br>Distancia: 5.0m<br>Tiempo: 0.0s<extra></extra>",
         "lat": [
          6.2644181,
          6.2644101
         ],
         "line": {
          "color": "red",
          "width": 4
         },
         "lon": [
          -75.5676143,
          -75.5675692
         ],
         "mode": "lines",
         "showlegend": false,
         "type": "scattermap"
        },
        {
         "hovertemplate": "Segmento 79<br>Distancia: 8.0m<br>Tiempo: 1.0s<extra></extra>",
         "lat": [
          6.2644101,
          6.2643966
         ],
         "line": {
          "color": "red",
          "width": 4
         },
         "lon": [
          -75.5675692,
          -75.5674954
         ],
         "mode": "lines",
         "showlegend": false,
         "type": "scattermap"
        },
        {
         "hovertemplate": "Segmento 80<br>Distancia: 7.0m<br>Tiempo: 1.0s<extra></extra>",
         "lat": [
          6.2643966,
          6.2643847
         ],
         "line": {
          "color": "red",
          "width": 4
         },
         "lon": [
          -75.5674954,
          -75.5674298
         ],
         "mode": "lines",
         "showlegend": false,
         "type": "scattermap"
        },
        {
         "hovertemplate": "Segmento 81<br>Distancia: 9.0m<br>Tiempo: 1.0s<extra></extra>",
         "lat": [
          6.2643847,
          6.264466
         ],
         "line": {
          "color": "red",
          "width": 4
         },
         "lon": [
          -75.5674298,
          -75.5674162
         ],
         "mode": "lines",
         "showlegend": false,
         "type": "scattermap"
        },
        {
         "hovertemplate": "Segmento 82<br>Distancia: 7.0m<br>Tiempo: 0.0s<extra></extra>",
         "lat": [
          6.264466,
          6.2645257
         ],
         "line": {
          "color": "red",
          "width": 4
         },
         "lon": [
          -75.5674162,
          -75.5674062
         ],
         "mode": "lines",
         "showlegend": false,
         "type": "scattermap"
        },
        {
         "hovertemplate": "Segmento 83<br>Distancia: 13.0m<br>Tiempo: 1.0s<extra></extra>",
         "lat": [
          6.2645257,
          6.2646368
         ],
         "line": {
          "color": "red",
          "width": 4
         },
         "lon": [
          -75.5674062,
          -75.5673759
         ],
         "mode": "lines",
         "showlegend": false,
         "type": "scattermap"
        },
        {
         "hovertemplate": "Segmento 84<br>Distancia: 48.0m<br>Tiempo: 3.0s<extra></extra>",
         "lat": [
          6.2646368,
          6.2650607
         ],
         "line": {
          "color": "red",
          "width": 4
         },
         "lon": [
          -75.5673759,
          -75.567285
         ],
         "mode": "lines",
         "showlegend": false,
         "type": "scattermap"
        },
        {
         "hovertemplate": "Segmento 85<br>Distancia: 54.0m<br>Tiempo: 4.0s<extra></extra>",
         "lat": [
          6.2650607,
          6.2655315
         ],
         "line": {
          "color": "red",
          "width": 4
         },
         "lon": [
          -75.567285,
          -75.5671804
         ],
         "mode": "lines",
         "showlegend": false,
         "type": "scattermap"
        },
        {
         "hovertemplate": "Segmento 86<br>Distancia: 130.0m<br>Tiempo: 9.0s<extra></extra>",
         "lat": [
          6.2655315,
          6.2666766
         ],
         "line": {
          "color": "red",
          "width": 4
         },
         "lon": [
          -75.5671804,
          -75.5669263
         ],
         "mode": "lines",
         "showlegend": false,
         "type": "scattermap"
        },
        {
         "hovertemplate": "Segmento 87<br>Distancia: 57.0m<br>Tiempo: 4.0s<extra></extra>",
         "lat": [
          6.2666766,
          6.267182
         ],
         "line": {
          "color": "red",
          "width": 4
         },
         "lon": [
          -75.5669263,
          -75.5668388
         ],
         "mode": "lines",
         "showlegend": false,
         "type": "scattermap"
        },
        {
         "hovertemplate": "Segmento 88<br>Distancia: 14.0m<br>Tiempo: 1.0s<extra></extra>",
         "lat": [
          6.267182,
          6.2673067
         ],
         "line": {
          "color": "red",
          "width": 4
         },
         "lon": [
          -75.5668388,
          -75.5668144
         ],
         "mode": "lines",
         "showlegend": false,
         "type": "scattermap"
        },
        {
         "hovertemplate": "Segmento 89<br>Distancia: 12.0m<br>Tiempo: 1.0s<extra></extra>",
         "lat": [
          6.2673067,
          6.2674154
         ],
         "line": {
          "color": "red",
          "width": 4
         },
         "lon": [
          -75.5668144,
          -75.5667891
         ],
         "mode": "lines",
         "showlegend": false,
         "type": "scattermap"
        },
        {
         "hovertemplate": "Segmento 90<br>Distancia: 30.0m<br>Tiempo: 2.0s<extra></extra>",
         "lat": [
          6.2674154,
          6.2676754
         ],
         "line": {
          "color": "red",
          "width": 4
         },
         "lon": [
          -75.5667891,
          -75.5667275
         ],
         "mode": "lines",
         "showlegend": false,
         "type": "scattermap"
        },
        {
         "hovertemplate": "Segmento 91<br>Distancia: 93.0m<br>Tiempo: 7.0s<extra></extra>",
         "lat": [
          6.2676754,
          6.2684888
         ],
         "line": {
          "color": "red",
          "width": 4
         },
         "lon": [
          -75.5667275,
          -75.5665353
         ],
         "mode": "lines",
         "showlegend": false,
         "type": "scattermap"
        },
        {
         "hovertemplate": "Segmento 92<br>Distancia: 88.0m<br>Tiempo: 6.0s<extra></extra>",
         "lat": [
          6.2684888,
          6.2692586
         ],
         "line": {
          "color": "red",
          "width": 4
         },
         "lon": [
          -75.5665353,
          -75.5663512
         ],
         "mode": "lines",
         "showlegend": false,
         "type": "scattermap"
        },
        {
         "hovertemplate": "Segmento 93<br>Distancia: 24.0m<br>Tiempo: 2.0s<extra></extra>",
         "lat": [
          6.2692586,
          6.2694718
         ],
         "line": {
          "color": "red",
          "width": 4
         },
         "lon": [
          -75.5663512,
          -75.5663012
         ],
         "mode": "lines",
         "showlegend": false,
         "type": "scattermap"
        },
        {
         "hovertemplate": "Segmento 94<br>Distancia: 3.0m<br>Tiempo: 0.0s<extra></extra>",
         "lat": [
          6.2694718,
          6.269462
         ],
         "line": {
          "color": "red",
          "width": 4
         },
         "lon": [
          -75.5663012,
          -75.5662726
         ],
         "mode": "lines",
         "showlegend": false,
         "type": "scattermap"
        },
        {
         "hovertemplate": "Segmento 95<br>Distancia: 83.0m<br>Tiempo: 10.0s<extra></extra>",
         "lat": [
          6.269462,
          6.2692215
         ],
         "line": {
          "color": "red",
          "width": 4
         },
         "lon": [
          -75.5662726,
          -75.5655625
         ],
         "mode": "lines",
         "showlegend": false,
         "type": "scattermap"
        },
        {
         "hovertemplate": "Segmento 96<br>Distancia: 7.0m<br>Tiempo: 1.0s<extra></extra>",
         "lat": [
          6.2692215,
          6.2691995
         ],
         "line": {
          "color": "red",
          "width": 4
         },
         "lon": [
          -75.5655625,
          -75.5655053
         ],
         "mode": "lines",
         "showlegend": false,
         "type": "scattermap"
        },
        {
         "hovertemplate": "Segmento 97<br>Distancia: 9.0m<br>Tiempo: 1.0s<extra></extra>",
         "lat": [
          6.2691995,
          6.2691742
         ],
         "line": {
          "color": "red",
          "width": 4
         },
         "lon": [
          -75.5655053,
          -75.565429
         ],
         "mode": "lines",
         "showlegend": false,
         "type": "scattermap"
        },
        {
         "hovertemplate": "<b>Inicio</b><br>Universidad Nacional de Colombia, Calle 58, Comuna 7 - Robledo, Perímetro Urbano Medellín, Medellín, Valle de Aburrá, Antioquia, RAP del Agua y la Montaña, 050010, Colombia<extra></extra>",
         "lat": [
          6.2629728
         ],
         "lon": [
          -75.5772018
         ],
         "marker": {
          "color": "green",
          "size": 15
         },
         "mode": "markers",
         "name": "Inicio",
         "text": [
          "Inicio"
         ],
         "type": "scattermap"
        },
        {
         "hovertemplate": "<b>Destino</b><br>Estación EnCicla Universidad, Ciclorruta Jardin Botanico, San Pedro, Comuna 4 - Aranjuez, Perímetro Urbano Medellín, Medellín, Valle de Aburrá, Antioquia, RAP del Agua y la Montaña, 050006, Colombia<extra></extra>",
         "lat": [
          6.2692694
         ],
         "lon": [
          -75.565301
         ],
         "marker": {
          "color": "red",
          "size": 15
         },
         "mode": "markers",
         "name": "Destino",
         "text": [
          "Destino"
         ],
         "type": "scattermap"
        }
       ],
       "layout": {
        "height": 600,
        "map": {
         "center": {
          "lat": 6.2661210999999994,
          "lon": -75.5712514
         },
         "style": "open-street-map",
         "zoom": 12
        },
        "showlegend": true,
        "template": {
         "data": {
          "bar": [
           {
            "error_x": {
             "color": "#2a3f5f"
            },
            "error_y": {
             "color": "#2a3f5f"
            },
            "marker": {
             "line": {
              "color": "#E5ECF6",
              "width": 0.5
             },
             "pattern": {
              "fillmode": "overlay",
              "size": 10,
              "solidity": 0.2
             }
            },
            "type": "bar"
           }
          ],
          "barpolar": [
           {
            "marker": {
             "line": {
              "color": "#E5ECF6",
              "width": 0.5
             },
             "pattern": {
              "fillmode": "overlay",
              "size": 10,
              "solidity": 0.2
             }
            },
            "type": "barpolar"
           }
          ],
          "carpet": [
           {
            "aaxis": {
             "endlinecolor": "#2a3f5f",
             "gridcolor": "white",
             "linecolor": "white",
             "minorgridcolor": "white",
             "startlinecolor": "#2a3f5f"
            },
            "baxis": {
             "endlinecolor": "#2a3f5f",
             "gridcolor": "white",
             "linecolor": "white",
             "minorgridcolor": "white",
             "startlinecolor": "#2a3f5f"
            },
            "type": "carpet"
           }
          ],
          "choropleth": [
           {
            "colorbar": {
             "outlinewidth": 0,
             "ticks": ""
            },
            "type": "choropleth"
           }
          ],
          "contour": [
           {
            "colorbar": {
             "outlinewidth": 0,
             "ticks": ""
            },
            "colorscale": [
             [
              0,
              "#0d0887"
             ],
             [
              0.1111111111111111,
              "#46039f"
             ],
             [
              0.2222222222222222,
              "#7201a8"
             ],
             [
              0.3333333333333333,
              "#9c179e"
             ],
             [
              0.4444444444444444,
              "#bd3786"
             ],
             [
              0.5555555555555556,
              "#d8576b"
             ],
             [
              0.6666666666666666,
              "#ed7953"
             ],
             [
              0.7777777777777778,
              "#fb9f3a"
             ],
             [
              0.8888888888888888,
              "#fdca26"
             ],
             [
              1,
              "#f0f921"
             ]
            ],
            "type": "contour"
           }
          ],
          "contourcarpet": [
           {
            "colorbar": {
             "outlinewidth": 0,
             "ticks": ""
            },
            "type": "contourcarpet"
           }
          ],
          "heatmap": [
           {
            "colorbar": {
             "outlinewidth": 0,
             "ticks": ""
            },
            "colorscale": [
             [
              0,
              "#0d0887"
             ],
             [
              0.1111111111111111,
              "#46039f"
             ],
             [
              0.2222222222222222,
              "#7201a8"
             ],
             [
              0.3333333333333333,
              "#9c179e"
             ],
             [
              0.4444444444444444,
              "#bd3786"
             ],
             [
              0.5555555555555556,
              "#d8576b"
             ],
             [
              0.6666666666666666,
              "#ed7953"
             ],
             [
              0.7777777777777778,
              "#fb9f3a"
             ],
             [
              0.8888888888888888,
              "#fdca26"
             ],
             [
              1,
              "#f0f921"
             ]
            ],
            "type": "heatmap"
           }
          ],
          "histogram": [
           {
            "marker": {
             "pattern": {
              "fillmode": "overlay",
              "size": 10,
              "solidity": 0.2
             }
            },
            "type": "histogram"
           }
          ],
          "histogram2d": [
           {
            "colorbar": {
             "outlinewidth": 0,
             "ticks": ""
            },
            "colorscale": [
             [
              0,
              "#0d0887"
             ],
             [
              0.1111111111111111,
              "#46039f"
             ],
             [
              0.2222222222222222,
              "#7201a8"
             ],
             [
              0.3333333333333333,
              "#9c179e"
             ],
             [
              0.4444444444444444,
              "#bd3786"
             ],
             [
              0.5555555555555556,
              "#d8576b"
             ],
             [
              0.6666666666666666,
              "#ed7953"
             ],
             [
              0.7777777777777778,
              "#fb9f3a"
             ],
             [
              0.8888888888888888,
              "#fdca26"
             ],
             [
              1,
              "#f0f921"
             ]
            ],
            "type": "histogram2d"
           }
          ],
          "histogram2dcontour": [
           {
            "colorbar": {
             "outlinewidth": 0,
             "ticks": ""
            },
            "colorscale": [
             [
              0,
              "#0d0887"
             ],
             [
              0.1111111111111111,
              "#46039f"
             ],
             [
              0.2222222222222222,
              "#7201a8"
             ],
             [
              0.3333333333333333,
              "#9c179e"
             ],
             [
              0.4444444444444444,
              "#bd3786"
             ],
             [
              0.5555555555555556,
              "#d8576b"
             ],
             [
              0.6666666666666666,
              "#ed7953"
             ],
             [
              0.7777777777777778,
              "#fb9f3a"
             ],
             [
              0.8888888888888888,
              "#fdca26"
             ],
             [
              1,
              "#f0f921"
             ]
            ],
            "type": "histogram2dcontour"
           }
          ],
          "mesh3d": [
           {
            "colorbar": {
             "outlinewidth": 0,
             "ticks": ""
            },
            "type": "mesh3d"
           }
          ],
          "parcoords": [
           {
            "line": {
             "colorbar": {
              "outlinewidth": 0,
              "ticks": ""
             }
            },
            "type": "parcoords"
           }
          ],
          "pie": [
           {
            "automargin": true,
            "type": "pie"
           }
          ],
          "scatter": [
           {
            "fillpattern": {
             "fillmode": "overlay",
             "size": 10,
             "solidity": 0.2
            },
            "type": "scatter"
           }
          ],
          "scatter3d": [
           {
            "line": {
             "colorbar": {
              "outlinewidth": 0,
              "ticks": ""
             }
            },
            "marker": {
             "colorbar": {
              "outlinewidth": 0,
              "ticks": ""
             }
            },
            "type": "scatter3d"
           }
          ],
          "scattercarpet": [
           {
            "marker": {
             "colorbar": {
              "outlinewidth": 0,
              "ticks": ""
             }
            },
            "type": "scattercarpet"
           }
          ],
          "scattergeo": [
           {
            "marker": {
             "colorbar": {
              "outlinewidth": 0,
              "ticks": ""
             }
            },
            "type": "scattergeo"
           }
          ],
          "scattergl": [
           {
            "marker": {
             "colorbar": {
              "outlinewidth": 0,
              "ticks": ""
             }
            },
            "type": "scattergl"
           }
          ],
          "scattermap": [
           {
            "marker": {
             "colorbar": {
              "outlinewidth": 0,
              "ticks": ""
             }
            },
            "type": "scattermap"
           }
          ],
          "scattermapbox": [
           {
            "marker": {
             "colorbar": {
              "outlinewidth": 0,
              "ticks": ""
             }
            },
            "type": "scattermapbox"
           }
          ],
          "scatterpolar": [
           {
            "marker": {
             "colorbar": {
              "outlinewidth": 0,
              "ticks": ""
             }
            },
            "type": "scatterpolar"
           }
          ],
          "scatterpolargl": [
           {
            "marker": {
             "colorbar": {
              "outlinewidth": 0,
              "ticks": ""
             }
            },
            "type": "scatterpolargl"
           }
          ],
          "scatterternary": [
           {
            "marker": {
             "colorbar": {
              "outlinewidth": 0,
              "ticks": ""
             }
            },
            "type": "scatterternary"
           }
          ],
          "surface": [
           {
            "colorbar": {
             "outlinewidth": 0,
             "ticks": ""
            },
            "colorscale": [
             [
              0,
              "#0d0887"
             ],
             [
              0.1111111111111111,
              "#46039f"
             ],
             [
              0.2222222222222222,
              "#7201a8"
             ],
             [
              0.3333333333333333,
              "#9c179e"
             ],
             [
              0.4444444444444444,
              "#bd3786"
             ],
             [
              0.5555555555555556,
              "#d8576b"
             ],
             [
              0.6666666666666666,
              "#ed7953"
             ],
             [
              0.7777777777777778,
              "#fb9f3a"
             ],
             [
              0.8888888888888888,
              "#fdca26"
             ],
             [
              1,
              "#f0f921"
             ]
            ],
            "type": "surface"
           }
          ],
          "table": [
           {
            "cells": {
             "fill": {
              "color": "#EBF0F8"
             },
             "line": {
              "color": "white"
             }
            },
            "header": {
             "fill": {
              "color": "#C8D4E3"
             },
             "line": {
              "color": "white"
             }
            },
            "type": "table"
           }
          ]
         },
         "layout": {
          "annotationdefaults": {
           "arrowcolor": "#2a3f5f",
           "arrowhead": 0,
           "arrowwidth": 1
          },
          "autotypenumbers": "strict",
          "coloraxis": {
           "colorbar": {
            "outlinewidth": 0,
            "ticks": ""
           }
          },
          "colorscale": {
           "diverging": [
            [
             0,
             "#8e0152"
            ],
            [
             0.1,
             "#c51b7d"
            ],
            [
             0.2,
             "#de77ae"
            ],
            [
             0.3,
             "#f1b6da"
            ],
            [
             0.4,
             "#fde0ef"
            ],
            [
             0.5,
             "#f7f7f7"
            ],
            [
             0.6,
             "#e6f5d0"
            ],
            [
             0.7,
             "#b8e186"
            ],
            [
             0.8,
             "#7fbc41"
            ],
            [
             0.9,
             "#4d9221"
            ],
            [
             1,
             "#276419"
            ]
           ],
           "sequential": [
            [
             0,
             "#0d0887"
            ],
            [
             0.1111111111111111,
             "#46039f"
            ],
            [
             0.2222222222222222,
             "#7201a8"
            ],
            [
             0.3333333333333333,
             "#9c179e"
            ],
            [
             0.4444444444444444,
             "#bd3786"
            ],
            [
             0.5555555555555556,
             "#d8576b"
            ],
            [
             0.6666666666666666,
             "#ed7953"
            ],
            [
             0.7777777777777778,
             "#fb9f3a"
            ],
            [
             0.8888888888888888,
             "#fdca26"
            ],
            [
             1,
             "#f0f921"
            ]
           ],
           "sequentialminus": [
            [
             0,
             "#0d0887"
            ],
            [
             0.1111111111111111,
             "#46039f"
            ],
            [
             0.2222222222222222,
             "#7201a8"
            ],
            [
             0.3333333333333333,
             "#9c179e"
            ],
            [
             0.4444444444444444,
             "#bd3786"
            ],
            [
             0.5555555555555556,
             "#d8576b"
            ],
            [
             0.6666666666666666,
             "#ed7953"
            ],
            [
             0.7777777777777778,
             "#fb9f3a"
            ],
            [
             0.8888888888888888,
             "#fdca26"
            ],
            [
             1,
             "#f0f921"
            ]
           ]
          },
          "colorway": [
           "#636efa",
           "#EF553B",
           "#00cc96",
           "#ab63fa",
           "#FFA15A",
           "#19d3f3",
           "#FF6692",
           "#B6E880",
           "#FF97FF",
           "#FECB52"
          ],
          "font": {
           "color": "#2a3f5f"
          },
          "geo": {
           "bgcolor": "white",
           "lakecolor": "white",
           "landcolor": "#E5ECF6",
           "showlakes": true,
           "showland": true,
           "subunitcolor": "white"
          },
          "hoverlabel": {
           "align": "left"
          },
          "hovermode": "closest",
          "mapbox": {
           "style": "light"
          },
          "paper_bgcolor": "white",
          "plot_bgcolor": "#E5ECF6",
          "polar": {
           "angularaxis": {
            "gridcolor": "white",
            "linecolor": "white",
            "ticks": ""
           },
           "bgcolor": "#E5ECF6",
           "radialaxis": {
            "gridcolor": "white",
            "linecolor": "white",
            "ticks": ""
           }
          },
          "scene": {
           "xaxis": {
            "backgroundcolor": "#E5ECF6",
            "gridcolor": "white",
            "gridwidth": 2,
            "linecolor": "white",
            "showbackground": true,
            "ticks": "",
            "zerolinecolor": "white"
           },
           "yaxis": {
            "backgroundcolor": "#E5ECF6",
            "gridcolor": "white",
            "gridwidth": 2,
            "linecolor": "white",
            "showbackground": true,
            "ticks": "",
            "zerolinecolor": "white"
           },
           "zaxis": {
            "backgroundcolor": "#E5ECF6",
            "gridcolor": "white",
            "gridwidth": 2,
            "linecolor": "white",
            "showbackground": true,
            "ticks": "",
            "zerolinecolor": "white"
           }
          },
          "shapedefaults": {
           "line": {
            "color": "#2a3f5f"
           }
          },
          "ternary": {
           "aaxis": {
            "gridcolor": "white",
            "linecolor": "white",
            "ticks": ""
           },
           "baxis": {
            "gridcolor": "white",
            "linecolor": "white",
            "ticks": ""
           },
           "bgcolor": "#E5ECF6",
           "caxis": {
            "gridcolor": "white",
            "linecolor": "white",
            "ticks": ""
           }
          },
          "title": {
           "x": 0.05
          },
          "xaxis": {
           "automargin": true,
           "gridcolor": "white",
           "linecolor": "white",
           "ticks": "",
           "title": {
            "standoff": 15
           },
           "zerolinecolor": "white",
           "zerolinewidth": 2
          },
          "yaxis": {
           "automargin": true,
           "gridcolor": "white",
           "linecolor": "white",
           "ticks": "",
           "title": {
            "standoff": 15
           },
           "zerolinecolor": "white",
           "zerolinewidth": 2
          }
         }
        },
        "title": {
         "text": "Ruta Óptima: Universidad Nacional de Colombia, Medellín → Estación Universidad, Medellín"
        },
        "width": 1000
       }
      }
     },
     "metadata": {},
     "output_type": "display_data"
    },
    {
     "name": "stdout",
     "output_type": "stream",
     "text": [
      "\n",
      "========================================\n",
      "📊 ESTADO DEL CACHÉ:\n",
      "📋 Ciudades en caché:\n",
      "  - Envigado, Antioquia, Colombia\n",
      "  - Medellín, Antioquia, Colombia\n",
      "\n",
      "💾 Memoria utilizada: 2 ciudades\n"
     ]
    }
   ],
   "source": [
    "# Ejemplo de uso personalizado - Demostrando el sistema de caché\n",
    "# IMPORTANTE: Ejecuta esta celda solo una vez para evitar duplicación\n",
    "\n",
    "print(\"=== PRIMERA EJECUCIÓN (descarga la ciudad) ===\")\n",
    "\n",
    "# Definir ubicaciones\n",
    "mi_inicio = \"Carrera 84B, Loma de Los Bernal, Comuna 16 - Belén, Perímetro Urbano Medellín, Medellín, Valle de Aburrá, Antioquia, RAP del Agua y la Montaña, 050026, Colombia\"\n",
    "mi_destino = \"Unicentro, Medellín, Colombia\"  # Simplificado para mejor geocodificación\n",
    "mi_ciudad = \"Medellín, Antioquia, Colombia\"\n",
    "\n",
    "# Generar la primera ruta\n",
    "mi_resultado = generar_ruta_optima(\n",
    "    inicio=mi_inicio,\n",
    "    destino=mi_destino,\n",
    "    ciudad=mi_ciudad,\n",
    "    zoom=13,\n",
    "    ancho=1200,\n",
    "    alto=800\n",
    ")\n",
    "\n",
    "# Mostrar resultado de la primera ruta\n",
    "if mi_resultado['ruta_exitosa']:\n",
    "    print(\"\\n🎯 Primera ruta generada:\")\n",
    "    print(f\"📍 Origen: {mi_resultado['inicio']}\")\n",
    "    print(f\"🏁 Destino: {mi_resultado['destino']}\")\n",
    "    print(f\"📏 Distancia: {mi_resultado['distancia_metros']} metros\")\n",
    "    print(f\"⏱️ Tiempo estimado: {mi_resultado['tiempo_minutos']} minutos\")\n",
    "    \n",
    "    # Mostrar el mapa si se generó correctamente\n",
    "    if mi_resultado['figura_mapa']:\n",
    "        print(\"🗺️ Mostrando mapa de la primera ruta...\")\n",
    "        mi_resultado['figura_mapa'].show()\n",
    "else:\n",
    "    print(f\"❌ Error en primera ruta: {mi_resultado['error']}\")\n",
    "\n",
    "print(\"\\n\" + \"=\"*60)\n",
    "print(\"=== SEGUNDA EJECUCIÓN (usa caché - más rápido) ===\")\n",
    "\n",
    "# Generar una segunda ruta diferente en la misma ciudad\n",
    "mi_resultado2 = generar_ruta_optima(\n",
    "    inicio=\"Universidad Nacional de Colombia, Medellín\",  # Simplificado\n",
    "    destino=\"Estación Universidad, Medellín\",            # Simplificado\n",
    "    ciudad=mi_ciudad  # Misma ciudad, debería usar caché\n",
    ")\n",
    "\n",
    "# Mostrar resultado de la segunda ruta\n",
    "if mi_resultado2['ruta_exitosa']:\n",
    "    print(f\"\\n🚀 Segunda ruta (desde caché):\")\n",
    "    print(f\"📍 Origen: {mi_resultado2['inicio']}\")\n",
    "    print(f\"🏁 Destino: {mi_resultado2['destino']}\")\n",
    "    print(f\"📏 Distancia: {mi_resultado2['distancia_metros']} metros\")\n",
    "    print(f\"⏱️ Tiempo estimado: {mi_resultado2['tiempo_minutos']} minutos\")\n",
    "    \n",
    "    # Mostrar el mapa de la segunda ruta\n",
    "    if mi_resultado2['figura_mapa']:\n",
    "        print(\"🗺️ Mostrando mapa de la segunda ruta...\")\n",
    "        mi_resultado2['figura_mapa'].show()\n",
    "else:\n",
    "    print(f\"❌ Error en segunda ruta: {mi_resultado2['error']}\")\n",
    "\n",
    "# Mostrar estado del caché\n",
    "print(\"\\n\" + \"=\"*40)\n",
    "print(\"📊 ESTADO DEL CACHÉ:\")\n",
    "mostrar_cache()"
   ]
  },
  {
   "cell_type": "markdown",
   "id": "bceb0425",
   "metadata": {},
   "source": [
    "## 💡 Consejos de uso y troubleshooting\n",
    "\n",
    "### ⚠️ Problemas comunes y soluciones:\n",
    "\n",
    "1. **Mensajes duplicados**: \n",
    "   - No ejecutes la misma celda múltiples veces rápidamente\n",
    "   - Espera a que termine completamente antes de ejecutar nuevamente\n",
    "\n",
    "2. **Error de conexión con Nominatim**:\n",
    "   - El sistema ahora reintenta automáticamente hasta 3 veces\n",
    "   - Si persiste, usa nombres de lugares más simples y conocidos\n",
    "\n",
    "3. **El mapa no se muestra**:\n",
    "   - Verifica que `resultado['ruta_exitosa']` sea `True`\n",
    "   - Asegúrate de que tienes conexión a internet\n",
    "   - La función ahora llama automáticamente a `.show()`\n",
    "\n",
    "4. **Para mejor geocodificación, usa nombres como**:\n",
    "   - ✅ \"Universidad Nacional, Medellín\"\n",
    "   - ✅ \"Planetario de Medellín\"  \n",
    "   - ❌ \"Universidad Nacional de Colombia sede Medellín\""
   ]
  },
  {
   "cell_type": "markdown",
   "id": "aa15ac0d",
   "metadata": {},
   "source": [
    "## Gestión del caché\n",
    "\n",
    "El sistema de caché te permite gestionar qué ciudades mantener en memoria:"
   ]
  },
  {
   "cell_type": "code",
   "execution_count": 26,
   "id": "80f22215",
   "metadata": {},
   "outputs": [
    {
     "name": "stdout",
     "output_type": "stream",
     "text": [
      "📋 Ciudades en caché:\n",
      "  - Envigado, Antioquia, Colombia\n",
      "  - Medellín, Antioquia, Colombia\n",
      "\n",
      "💾 Memoria utilizada: 2 ciudades\n"
     ]
    }
   ],
   "source": [
    "# Ejemplos de gestión del caché\n",
    "\n",
    "# Ver qué ciudades están en caché\n",
    "mostrar_cache()\n",
    "\n",
    "# Limpiar todo el caché si necesitas liberar memoria\n",
    "# limpiar_cache()\n",
    "\n",
    "# Generar ruta sin usar caché (forzar descarga)\n",
    "# resultado_sin_cache = generar_ruta_optima(\n",
    "#     inicio=\"Punto A\",\n",
    "#     destino=\"Punto B\", \n",
    "#     ciudad=\"Tu Ciudad\",\n",
    "#     usar_cache=False  # Esto fuerza la descarga\n",
    "# )"
   ]
  }
 ],
 "metadata": {
  "kernelspec": {
   "display_name": "base",
   "language": "python",
   "name": "python3"
  },
  "language_info": {
   "codemirror_mode": {
    "name": "ipython",
    "version": 3
   },
   "file_extension": ".py",
   "mimetype": "text/x-python",
   "name": "python",
   "nbconvert_exporter": "python",
   "pygments_lexer": "ipython3",
   "version": "3.13.5"
  }
 },
 "nbformat": 4,
 "nbformat_minor": 5
}
